{
 "cells": [
  {
   "cell_type": "markdown",
   "id": "a4c0fc8d-9e88-47e3-b07c-747a6cebabe8",
   "metadata": {},
   "source": [
    "# Intro to pandas\n",
    "This is an introductory notebook on the Python `pandas` module, where you can learn the basics of data transformation, manipulation and cleaning. The examples shown will be based on an [Online Shopping Dataset](https://www.kaggle.com/datasets/jacksondivakarr/online-shopping-dataset) from [Kaggle](https://www.kaggle.com). Kaggle is an online platform for data scientists (new or experienced), where you can take part in various [competitions](https://www.kaggle.com/competitions), find [datasets](https://www.kaggle.com/datasets)(like the one we'll be using), [learn](https://www.kaggle.com/learn) Python modules, SQL and more useful tools for ML, Data Science etc. and much more! Also some examples will be adapted from the official [pandas](https://pandas.pydata.org) documentation (make sure you check it out when you have problems!), and from [Python for Data Analysis, 3E](https://wesmckinney.com/book/) by Wes McKinney. In this guide, as well as in next ones, we'll be utilizing Jupyter Notebooks or .ipynb files (Interactive Python Notebook). These allow us to write python code and explain what is happening using markdown. For more details on how to write markdown, please visit this [resource](https://www.markdownguide.org/cheat-sheet/).\n",
    "\n",
    "---\n",
    "\n",
    "> Kostas Riganas <br />\n",
    "> IT & Data Lead <br />\n",
    "> UniAI <br />\n",
    "> kriganas@uniai.gr\n"
   ]
  },
  {
   "cell_type": "markdown",
   "id": "52bab026-b4ee-4ddb-96e6-0ec8b2560bc7",
   "metadata": {},
   "source": [
    "## What is pandas?\n",
    "`pandas` is an open source data analysis and manipulation tool built on top of the Python Programming Language. Library highlights:\n",
    "* A fast and efficient **DataFrame** object for data manipulation with integrated indexing.\n",
    "* Tools for **reading and writing data** between in-memory data structures and different formats: CSV and text files, Microsoft Excel, SQL databases etc.\n",
    "* Intelligent **data alignment** and integrated handling of **missing data**: gain automatic label-based alignment in computations and easily manipulate messy data into an orderly form.\n",
    "* Flexible **reshaping** and pivoting of data sets.\n",
    "* Intelligent label-based **slicing**, **fancy indexing**, and **subsetting** of large data sets\n",
    "* Columns can be inserted and deleted from data structures for **size mutability**.\n",
    "* Aggregating or transforming data with a powerful **group by** engine allowing split-apply-combine operations on data sets.\n",
    "* High performance **merging and joining** of data sets.\n",
    "* **Hierarchical axis indexing** provides an intuitive way of working with high-dimensional data in a lower-dimensional data structure.\n",
    "* **Time series**-functionality: date range generation and frequency conversion, moving window statistics, date shifting and lagging. Even create domain-specific time offsets and join time series without losing data.\n",
    "* Highly **optimized for performance**, with critical code paths written in Cython or C.\n",
    "* Python with *pandas* is in use in a wide variety of **academic and commercial** domains, including Finance, Neuroscience, Economics, Statistics, Advertising, Web Analytics, and more."
   ]
  },
  {
   "cell_type": "markdown",
   "id": "c2c71423-dd11-4cbf-8c2d-a11e9e6e6dba",
   "metadata": {},
   "source": [
    "## About the dataset\n",
    "This dataset contains data about an online shop. Below are the columns included in the dataset along with their data type (dtype) and a short description:\n",
    "* **CustomerID** (dtype: *int*): Unique identifier for each customer.\n",
    "* **Gender** (dtype: *str*): Gender of the customer (e.g., Male, Female).\n",
    "* **Location** (dtype: *str*): Location or address information of the customer.\n",
    "* **Tenure_Months** (dtype: *int*): Number of months the customer has been associated with the platform.\n",
    "* **Transaction_ID** (dtype: *int*): Unique identifier for each transaction.\n",
    "* **Transaction_Date** (dtype: *date*): Date of the transaction.\n",
    "* **Product_SKU** (dtype: *str*): Stock Keeping Unit (SKU) identifier for the product.\n",
    "* **Product_Description** (dtype: *str*): Description of the product.\n",
    "* **Product_Category** (dtype: *str*): Category to which the product belongs.\n",
    "* **Quantity** (dtype: *int*): Quantity of the product purchased in the transaction.\n",
    "* **Avg_Price** (dtype: *float*): Average price of the product.\n",
    "* **Delivery_Charges** (dtype: *float*): Charges associated with the delivery of the product.\n",
    "* **Coupon_Status** (dtype: *str*): Status of the coupon associated with the transaction.\n",
    "* **GST** (dtype: *float*): Goods and Services Tax associated with the transaction.\n",
    "* **Date** (dtype: *date*): Date of the transaction (potentially redundant with Transaction_Date).\n",
    "* **Offline_Spend** (dtype: *float*): Amount spent offline by the customer.\n",
    "* **Online_Spend** (dtype: *float*): Amount spent online by the customer.\n",
    "* **Month** (dtype: *str*): Month of the transaction.\n",
    "* **Coupon_Code** (dtype: *str*): Code associated with a coupon, if applicable.\n",
    "* **Discount_pct** (dtype: *float*): Percentage of discount applied to the transaction."
   ]
  },
  {
   "cell_type": "markdown",
   "id": "965cee7a-ea48-4585-adee-c56bbd33f39b",
   "metadata": {
    "tags": []
   },
   "source": [
    "## Starting Off\n",
    "In this section we'll get acquainted with pandas, importing the library, creating Series and DataFrame objects from scratch, showcasing the basic elements of both, such as index, columns, dtypes etc."
   ]
  },
  {
   "cell_type": "markdown",
   "id": "39dfa8f5-62fa-4aab-9146-61f048635b74",
   "metadata": {},
   "source": [
    "To import the pandas module you only have to do:\n",
    "```python\n",
    "import pandas as pd\n",
    "```\n",
    "**pd** is the convention name given to *pandas* when you use it."
   ]
  },
  {
   "cell_type": "code",
   "execution_count": 1,
   "id": "55989355-d645-44d5-9062-47533fb7bfb6",
   "metadata": {},
   "outputs": [],
   "source": [
    "import pandas as pd"
   ]
  },
  {
   "cell_type": "markdown",
   "id": "0e87a697-a7d5-4f6c-b358-46552af1a169",
   "metadata": {},
   "source": [
    "### pd.Series\n",
    "`Series` is one of the 2 basic objects in pandas. You can think of it as 1-dimensional array that has labels. You can construct it in various ways as you can also see in the [documentation](https://pandas.pydata.org/docs/reference/api/pandas.Series.html).\n",
    "\n",
    "One way is through a dictionary:"
   ]
  },
  {
   "cell_type": "code",
   "execution_count": 2,
   "id": "c3be9018-4241-4a65-9071-a56bb3b4807c",
   "metadata": {},
   "outputs": [
    {
     "data": {
      "text/plain": [
       "a    1\n",
       "b    2\n",
       "c    3\n",
       "dtype: int64"
      ]
     },
     "execution_count": 2,
     "metadata": {},
     "output_type": "execute_result"
    }
   ],
   "source": [
    "d = {'a': 1, 'b': 2, 'c': 3}\n",
    "ser = pd.Series(data=d, index=['a', 'b', 'c'])  # construct a pd.Series object using a dictionary\n",
    "ser"
   ]
  },
  {
   "cell_type": "code",
   "execution_count": 3,
   "id": "c3648349-aef2-4601-8647-8f4ff3504330",
   "metadata": {},
   "outputs": [
    {
     "data": {
      "text/plain": [
       "x   NaN\n",
       "y   NaN\n",
       "z   NaN\n",
       "dtype: float64"
      ]
     },
     "execution_count": 3,
     "metadata": {},
     "output_type": "execute_result"
    }
   ],
   "source": [
    "ser2 = pd.Series(data=d, index=['x', 'y', 'z'])  # see how this series is null since the index doesn't match the dictionary's keys.\n",
    "ser2"
   ]
  },
  {
   "cell_type": "markdown",
   "id": "39cc16d2-2ba5-4ffa-9866-0ab9a5b66a21",
   "metadata": {},
   "source": [
    "You can also create `Series` from lists, as in the example below:"
   ]
  },
  {
   "cell_type": "code",
   "execution_count": 4,
   "id": "87903583-9b7b-4a73-9f23-db8d394cc236",
   "metadata": {},
   "outputs": [
    {
     "data": {
      "text/plain": [
       "0    4\n",
       "1    7\n",
       "2   -5\n",
       "3    3\n",
       "dtype: int64"
      ]
     },
     "execution_count": 4,
     "metadata": {},
     "output_type": "execute_result"
    }
   ],
   "source": [
    "obj = pd.Series([4, 7, -5, 3])\n",
    "obj"
   ]
  },
  {
   "cell_type": "markdown",
   "id": "d97e7bd9-b4fa-47e2-a732-bab4c5748529",
   "metadata": {},
   "source": [
    "As you saw earlier we can pass the `index` parameter to specify index labels."
   ]
  },
  {
   "cell_type": "code",
   "execution_count": 5,
   "id": "dc2b764c-c8d9-4e30-b3ca-ba8777abba09",
   "metadata": {},
   "outputs": [
    {
     "data": {
      "text/plain": [
       "d    4\n",
       "b    7\n",
       "a   -5\n",
       "c    3\n",
       "dtype: int64"
      ]
     },
     "execution_count": 5,
     "metadata": {},
     "output_type": "execute_result"
    }
   ],
   "source": [
    "obj2 = pd.Series([4, 7, -5, 3], index=[\"d\", \"b\", \"a\", \"c\"])\n",
    "obj2"
   ]
  },
  {
   "cell_type": "markdown",
   "id": "4edcfbdc-4427-47f3-a59d-36ec9cae8277",
   "metadata": {},
   "source": [
    "#### Indexing\n",
    "Using the `.index` accessor we can take a look into the Series index labels."
   ]
  },
  {
   "cell_type": "code",
   "execution_count": 6,
   "id": "89ba3b7f-fd0d-4e2d-ab1c-10170f46344b",
   "metadata": {},
   "outputs": [
    {
     "data": {
      "text/plain": [
       "Index(['d', 'b', 'a', 'c'], dtype='object')"
      ]
     },
     "execution_count": 6,
     "metadata": {},
     "output_type": "execute_result"
    }
   ],
   "source": [
    "obj2.index"
   ]
  },
  {
   "cell_type": "markdown",
   "id": "cbf15824-f109-4bad-9e56-bb10ac7ef5d6",
   "metadata": {},
   "source": [
    "You can access specific labels, by using a label like in a dictionary:"
   ]
  },
  {
   "cell_type": "code",
   "execution_count": 7,
   "id": "e779d8e0-9e51-4910-95eb-bbc1f6e21593",
   "metadata": {},
   "outputs": [
    {
     "data": {
      "text/plain": [
       "-5"
      ]
     },
     "execution_count": 7,
     "metadata": {},
     "output_type": "execute_result"
    }
   ],
   "source": [
    "obj2['a']"
   ]
  },
  {
   "cell_type": "markdown",
   "id": "d6cc8708-e827-4721-bbda-00b4e08a1761",
   "metadata": {},
   "source": [
    "You can also **slice** a Series using a **subset** of those index labels in **any order** you want."
   ]
  },
  {
   "cell_type": "code",
   "execution_count": 8,
   "id": "298787b4-0d9b-4385-a799-7b4bc5f1258f",
   "metadata": {},
   "outputs": [
    {
     "data": {
      "text/plain": [
       "a   -5\n",
       "b    7\n",
       "dtype: int64"
      ]
     },
     "execution_count": 8,
     "metadata": {},
     "output_type": "execute_result"
    }
   ],
   "source": [
    "obj2[['a', 'b']]"
   ]
  },
  {
   "cell_type": "markdown",
   "id": "1a12135e-878b-4fe1-8187-a42a1f3fc02b",
   "metadata": {},
   "source": [
    "Two very important accessors, which are much more useful in DataFrame objects, are `.loc` and `.iloc`. `.loc` lets you access index labels in a much safer and conventional way. `iloc` lets you access your data using their integer location."
   ]
  },
  {
   "cell_type": "code",
   "execution_count": 9,
   "id": "1a406a7f-b227-4fa8-9dad-7d204f64c53b",
   "metadata": {},
   "outputs": [
    {
     "data": {
      "text/plain": [
       "-5"
      ]
     },
     "execution_count": 9,
     "metadata": {},
     "output_type": "execute_result"
    }
   ],
   "source": [
    "obj2.loc['a']"
   ]
  },
  {
   "cell_type": "code",
   "execution_count": 10,
   "id": "cd43c3a1-daf1-4fd4-bb6d-0511f018d9a3",
   "metadata": {},
   "outputs": [
    {
     "data": {
      "text/plain": [
       "a   -5\n",
       "b    7\n",
       "dtype: int64"
      ]
     },
     "execution_count": 10,
     "metadata": {},
     "output_type": "execute_result"
    }
   ],
   "source": [
    "obj2.loc[['a', 'b']]"
   ]
  },
  {
   "cell_type": "code",
   "execution_count": 11,
   "id": "f125d7bf-77b5-4090-8daa-25fda6f9db3b",
   "metadata": {},
   "outputs": [
    {
     "data": {
      "text/plain": [
       "-5"
      ]
     },
     "execution_count": 11,
     "metadata": {},
     "output_type": "execute_result"
    }
   ],
   "source": [
    "obj2.iloc[2]"
   ]
  },
  {
   "cell_type": "markdown",
   "id": "98b2ee83-c395-47a4-8cfb-99987702bda9",
   "metadata": {},
   "source": [
    "If you have **integer labels** or you are using **iloc**, you can also use **slicers** as you normally do in basic Python. For the next example we will be using [numpy](https://numpy.org) as well. `numpy` is a Python open-source library enabling users to do **numerical computing**. It provides many mathematical functions (logarithmic, exponential, trigonometric and so much more), fast computations, and has its own data structure called [ndarray](https://numpy.org/doc/stable/reference/generated/numpy.ndarray.html). If you have numpy installed, you can import it as `import numpy as np`. **np** is the conventional name for numpy."
   ]
  },
  {
   "cell_type": "code",
   "execution_count": 12,
   "id": "c7af009d-30ad-4172-80bf-7c0d669032df",
   "metadata": {},
   "outputs": [],
   "source": [
    "import numpy as np"
   ]
  },
  {
   "cell_type": "code",
   "execution_count": 13,
   "id": "3b50bc7e-4c3a-4633-bd4a-b3360f6b65d5",
   "metadata": {},
   "outputs": [
    {
     "data": {
      "text/plain": [
       "2024-04-01     7.752281\n",
       "2024-04-02     9.456215\n",
       "2024-04-03     7.990507\n",
       "2024-04-04     1.190208\n",
       "2024-04-05     2.536972\n",
       "2024-04-06    -1.655994\n",
       "2024-04-07     9.337115\n",
       "2024-04-08    -5.265317\n",
       "2024-04-09     7.264867\n",
       "2024-04-10    -4.093273\n",
       "2024-04-11     1.854437\n",
       "2024-04-12    10.949663\n",
       "2024-04-13     6.816539\n",
       "2024-04-14     3.031188\n",
       "2024-04-15     7.791894\n",
       "2024-04-16     5.439321\n",
       "2024-04-17    -1.906963\n",
       "2024-04-18    -6.780938\n",
       "2024-04-19    -5.010426\n",
       "2024-04-20    -2.732934\n",
       "2024-04-21     5.123472\n",
       "2024-04-22    -0.477577\n",
       "2024-04-23    -6.019398\n",
       "2024-04-24     2.723291\n",
       "2024-04-25     1.502793\n",
       "2024-04-26     1.769191\n",
       "2024-04-27     3.642780\n",
       "2024-04-28     1.835653\n",
       "2024-04-29    -0.337380\n",
       "2024-04-30    -1.324326\n",
       "Freq: D, dtype: float64"
      ]
     },
     "execution_count": 13,
     "metadata": {},
     "output_type": "execute_result"
    }
   ],
   "source": [
    "april = pd.Series(np.random.normal(0, 5, 30), index=pd.date_range(start='4/1/2024', periods=30, freq='d'))\n",
    "april"
   ]
  },
  {
   "cell_type": "code",
   "execution_count": 14,
   "id": "cd420ed0-a9fc-4f92-9a2c-2467fafea988",
   "metadata": {},
   "outputs": [
    {
     "data": {
      "text/plain": [
       "2024-04-06    -1.655994\n",
       "2024-04-07     9.337115\n",
       "2024-04-08    -5.265317\n",
       "2024-04-09     7.264867\n",
       "2024-04-10    -4.093273\n",
       "2024-04-11     1.854437\n",
       "2024-04-12    10.949663\n",
       "2024-04-13     6.816539\n",
       "2024-04-14     3.031188\n",
       "Freq: D, dtype: float64"
      ]
     },
     "execution_count": 14,
     "metadata": {},
     "output_type": "execute_result"
    }
   ],
   "source": [
    "april.iloc[5:14]"
   ]
  },
  {
   "cell_type": "markdown",
   "id": "332079f6-d076-4064-99f7-69a4a7da5f20",
   "metadata": {},
   "source": [
    "You can also assign values if you want"
   ]
  },
  {
   "cell_type": "code",
   "execution_count": 15,
   "id": "6f3254b5-cd26-464b-aa54-4d088ecf6dbc",
   "metadata": {},
   "outputs": [],
   "source": [
    "april['2024-04-10'] = 1.34"
   ]
  },
  {
   "cell_type": "markdown",
   "id": "f2e29efd-9455-4574-8e3a-24df6a7525fc",
   "metadata": {},
   "source": [
    "#### Operations\n",
    "You can also do various operations, like numerical or boolean, using numpy as well."
   ]
  },
  {
   "cell_type": "code",
   "execution_count": 16,
   "id": "65c4dbc2-6818-457e-a6ac-c564fdd4adc6",
   "metadata": {},
   "outputs": [
    {
     "data": {
      "text/plain": [
       "d    4\n",
       "b    7\n",
       "c    3\n",
       "dtype: int64"
      ]
     },
     "execution_count": 16,
     "metadata": {},
     "output_type": "execute_result"
    }
   ],
   "source": [
    "obj2[obj2 > 0]"
   ]
  },
  {
   "cell_type": "code",
   "execution_count": 17,
   "id": "04d92301-fe5a-403f-97a7-a85558eecbdb",
   "metadata": {},
   "outputs": [
    {
     "data": {
      "text/plain": [
       "d     8\n",
       "b    14\n",
       "a   -10\n",
       "c     6\n",
       "dtype: int64"
      ]
     },
     "execution_count": 17,
     "metadata": {},
     "output_type": "execute_result"
    }
   ],
   "source": [
    "obj2 * 2"
   ]
  },
  {
   "cell_type": "code",
   "execution_count": 18,
   "id": "3dd61903-aefe-4254-859f-2519b99b40dd",
   "metadata": {},
   "outputs": [
    {
     "data": {
      "text/plain": [
       "d      54.598150\n",
       "b    1096.633158\n",
       "a       0.006738\n",
       "c      20.085537\n",
       "dtype: float64"
      ]
     },
     "execution_count": 18,
     "metadata": {},
     "output_type": "execute_result"
    }
   ],
   "source": [
    "np.exp(obj2)"
   ]
  },
  {
   "cell_type": "markdown",
   "id": "dbbcb246-293a-4ea5-9fe6-970804adea24",
   "metadata": {},
   "source": [
    "#### Existing (and not) nulls\n",
    "Let's create a new Series object"
   ]
  },
  {
   "cell_type": "code",
   "execution_count": 19,
   "id": "7dbe488f-64d9-4fa6-bce5-d57b28f1e42e",
   "metadata": {},
   "outputs": [
    {
     "data": {
      "text/plain": [
       "California        NaN\n",
       "Ohio          35000.0\n",
       "Oregon        16000.0\n",
       "Texas         71000.0\n",
       "dtype: float64"
      ]
     },
     "execution_count": 19,
     "metadata": {},
     "output_type": "execute_result"
    }
   ],
   "source": [
    "sdata = {\"Ohio\": 35000, \"Texas\": 71000, \"Oregon\": 16000, \"Utah\": 5000}\n",
    "obj3 = pd.Series(sdata)\n",
    "states = [\"California\", \"Ohio\", \"Oregon\", \"Texas\"]\n",
    "obj4 = pd.Series(obj3, index=states)\n",
    "obj4"
   ]
  },
  {
   "cell_type": "markdown",
   "id": "dada677f-dd4f-4bf3-b09c-a550a58df519",
   "metadata": {},
   "source": [
    "We created a Series object from another Series object, and we passed a list of our wanted index labels. The `California` label doesn't exist in the original Series, therefore its value is `NaN` (not a number). We can see if there are null elements using the `isna` method."
   ]
  },
  {
   "cell_type": "code",
   "execution_count": 20,
   "id": "3b7313aa-fafa-4a26-a187-da57e4d41d25",
   "metadata": {},
   "outputs": [
    {
     "data": {
      "text/plain": [
       "California     True\n",
       "Ohio          False\n",
       "Oregon        False\n",
       "Texas         False\n",
       "dtype: bool"
      ]
     },
     "execution_count": 20,
     "metadata": {},
     "output_type": "execute_result"
    }
   ],
   "source": [
    "obj4.isna()"
   ]
  },
  {
   "cell_type": "markdown",
   "id": "e2ae83d9-7aea-4674-8fa9-27e52e1f5f4e",
   "metadata": {},
   "source": [
    "If we also apply the `sum` method, we can get the **total number of null values**."
   ]
  },
  {
   "cell_type": "code",
   "execution_count": 21,
   "id": "8d92c087-5372-40ac-bd52-b13d891441e2",
   "metadata": {},
   "outputs": [
    {
     "data": {
      "text/plain": [
       "1"
      ]
     },
     "execution_count": 21,
     "metadata": {},
     "output_type": "execute_result"
    }
   ],
   "source": [
    "obj4.isna().sum()"
   ]
  },
  {
   "cell_type": "markdown",
   "id": "1d6d2da5-ae09-49b6-855d-9996f9908935",
   "metadata": {},
   "source": [
    "The `notna` method is used to check if a value is **not null**."
   ]
  },
  {
   "cell_type": "code",
   "execution_count": 22,
   "id": "8f5c486a-3e84-4c6d-b215-3e0115b95b7d",
   "metadata": {},
   "outputs": [
    {
     "data": {
      "text/plain": [
       "California    False\n",
       "Ohio           True\n",
       "Oregon         True\n",
       "Texas          True\n",
       "dtype: bool"
      ]
     },
     "execution_count": 22,
     "metadata": {},
     "output_type": "execute_result"
    }
   ],
   "source": [
    "obj4.notna()"
   ]
  },
  {
   "cell_type": "markdown",
   "id": "8f06e0af-7be6-4ea4-9979-c7352de72ced",
   "metadata": {},
   "source": [
    "These boolean values can be used as **slicers** to get data more specifically. Let's say we want to get the data where the state's value is not null."
   ]
  },
  {
   "cell_type": "code",
   "execution_count": 23,
   "id": "9d64ded7-b9b9-4a6a-bd3d-961adb0b163a",
   "metadata": {},
   "outputs": [
    {
     "data": {
      "text/plain": [
       "Ohio      35000.0\n",
       "Oregon    16000.0\n",
       "Texas     71000.0\n",
       "dtype: float64"
      ]
     },
     "execution_count": 23,
     "metadata": {},
     "output_type": "execute_result"
    }
   ],
   "source": [
    "obj4.loc[obj4.notna()]"
   ]
  },
  {
   "cell_type": "markdown",
   "id": "2b479b05-c45b-41bd-87c3-291132eb1bbc",
   "metadata": {},
   "source": [
    "#### Operations between Series objects\n",
    "Since Series use `ndarray` objects, this means that you can do operations like addition or multiplication between them. The operations use the Series objects' index labels to do the job, therefore if there isn't a match then the result is `NaN`. The same is applied if we have null values: `NaN` + scalar_value cannot give a number obviously!"
   ]
  },
  {
   "cell_type": "code",
   "execution_count": 24,
   "id": "b455bbb7-0d31-4ac2-92a4-167607d58277",
   "metadata": {},
   "outputs": [
    {
     "data": {
      "text/plain": [
       "California         NaN\n",
       "Ohio           70000.0\n",
       "Oregon         32000.0\n",
       "Texas         142000.0\n",
       "Utah               NaN\n",
       "dtype: float64"
      ]
     },
     "execution_count": 24,
     "metadata": {},
     "output_type": "execute_result"
    }
   ],
   "source": [
    "obj3 + obj4"
   ]
  },
  {
   "cell_type": "markdown",
   "id": "64c82987-df88-4134-8d4d-d2f202d8b58c",
   "metadata": {},
   "source": [
    "#### Name and index.name\n",
    "You can give a name to your series **internally**. For example, let's say our april series is the percentage change of a stock, and the index is the date."
   ]
  },
  {
   "cell_type": "code",
   "execution_count": 25,
   "id": "2178a6e0-e27b-4bbc-818b-f773b4f90101",
   "metadata": {},
   "outputs": [
    {
     "data": {
      "text/plain": [
       "date\n",
       "2024-04-01     7.752281\n",
       "2024-04-02     9.456215\n",
       "2024-04-03     7.990507\n",
       "2024-04-04     1.190208\n",
       "2024-04-05     2.536972\n",
       "2024-04-06    -1.655994\n",
       "2024-04-07     9.337115\n",
       "2024-04-08    -5.265317\n",
       "2024-04-09     7.264867\n",
       "2024-04-10     1.340000\n",
       "2024-04-11     1.854437\n",
       "2024-04-12    10.949663\n",
       "2024-04-13     6.816539\n",
       "2024-04-14     3.031188\n",
       "2024-04-15     7.791894\n",
       "2024-04-16     5.439321\n",
       "2024-04-17    -1.906963\n",
       "2024-04-18    -6.780938\n",
       "2024-04-19    -5.010426\n",
       "2024-04-20    -2.732934\n",
       "2024-04-21     5.123472\n",
       "2024-04-22    -0.477577\n",
       "2024-04-23    -6.019398\n",
       "2024-04-24     2.723291\n",
       "2024-04-25     1.502793\n",
       "2024-04-26     1.769191\n",
       "2024-04-27     3.642780\n",
       "2024-04-28     1.835653\n",
       "2024-04-29    -0.337380\n",
       "2024-04-30    -1.324326\n",
       "Freq: D, Name: stock, dtype: float64"
      ]
     },
     "execution_count": 25,
     "metadata": {},
     "output_type": "execute_result"
    }
   ],
   "source": [
    "april.name = 'stock'\n",
    "april.index.name = 'date'\n",
    "april"
   ]
  },
  {
   "cell_type": "markdown",
   "id": "8429ceaa-50cb-4008-88b5-e1bd94fd23ee",
   "metadata": {},
   "source": [
    "There are many more things to learn about pd.Series, so make sure to check out the [documentation](https://pandas.pydata.org/docs/reference/api/pandas.Series.html) if you want to see the possibilities and learn how to use them."
   ]
  },
  {
   "cell_type": "markdown",
   "id": "1214e8e2-f950-4d5b-bf8e-d1db8da6f16c",
   "metadata": {},
   "source": [
    "### pd.DataFrame\n",
    "`DataFrame` is the second main data structure in `pandas`. You can think of it as table, with *rows* (named index) and *columns* (actually named columns). In essence, a DataFrame is a **collection of Series** objects, each with different data type. They will become clearer through examples."
   ]
  },
  {
   "cell_type": "code",
   "execution_count": 26,
   "id": "bfbfe37c-c9ee-4602-8798-6717954c0ffb",
   "metadata": {},
   "outputs": [
    {
     "data": {
      "text/html": [
       "<div>\n",
       "<style scoped>\n",
       "    .dataframe tbody tr th:only-of-type {\n",
       "        vertical-align: middle;\n",
       "    }\n",
       "\n",
       "    .dataframe tbody tr th {\n",
       "        vertical-align: top;\n",
       "    }\n",
       "\n",
       "    .dataframe thead th {\n",
       "        text-align: right;\n",
       "    }\n",
       "</style>\n",
       "<table border=\"1\" class=\"dataframe\">\n",
       "  <thead>\n",
       "    <tr style=\"text-align: right;\">\n",
       "      <th></th>\n",
       "      <th>state</th>\n",
       "      <th>year</th>\n",
       "      <th>pop</th>\n",
       "    </tr>\n",
       "  </thead>\n",
       "  <tbody>\n",
       "    <tr>\n",
       "      <th>0</th>\n",
       "      <td>Ohio</td>\n",
       "      <td>2000</td>\n",
       "      <td>1.5</td>\n",
       "    </tr>\n",
       "    <tr>\n",
       "      <th>1</th>\n",
       "      <td>Ohio</td>\n",
       "      <td>2001</td>\n",
       "      <td>1.7</td>\n",
       "    </tr>\n",
       "    <tr>\n",
       "      <th>2</th>\n",
       "      <td>Ohio</td>\n",
       "      <td>2002</td>\n",
       "      <td>3.6</td>\n",
       "    </tr>\n",
       "    <tr>\n",
       "      <th>3</th>\n",
       "      <td>Nevada</td>\n",
       "      <td>2001</td>\n",
       "      <td>2.4</td>\n",
       "    </tr>\n",
       "    <tr>\n",
       "      <th>4</th>\n",
       "      <td>Nevada</td>\n",
       "      <td>2002</td>\n",
       "      <td>2.9</td>\n",
       "    </tr>\n",
       "    <tr>\n",
       "      <th>5</th>\n",
       "      <td>Nevada</td>\n",
       "      <td>2003</td>\n",
       "      <td>3.2</td>\n",
       "    </tr>\n",
       "  </tbody>\n",
       "</table>\n",
       "</div>"
      ],
      "text/plain": [
       "    state  year  pop\n",
       "0    Ohio  2000  1.5\n",
       "1    Ohio  2001  1.7\n",
       "2    Ohio  2002  3.6\n",
       "3  Nevada  2001  2.4\n",
       "4  Nevada  2002  2.9\n",
       "5  Nevada  2003  3.2"
      ]
     },
     "execution_count": 26,
     "metadata": {},
     "output_type": "execute_result"
    }
   ],
   "source": [
    "data = {\"state\": [\"Ohio\", \"Ohio\", \"Ohio\", \"Nevada\", \"Nevada\", \"Nevada\"],\n",
    "        \"year\": [2000, 2001, 2002, 2001, 2002, 2003],\n",
    "        \"pop\": [1.5, 1.7, 3.6, 2.4, 2.9, 3.2]}\n",
    "frame = pd.DataFrame(data)\n",
    "frame"
   ]
  },
  {
   "cell_type": "markdown",
   "id": "c481d387-ae91-4b3c-ba73-877ed3dc7ca0",
   "metadata": {},
   "source": [
    "Above you can see a basic way of constructing a DataFrame using a **dictionary**. As mentioned, this DataFrame is a collection of Series, each with a different data type (dtype). To access `dtypes`, you can use the `.dtypes` accessor."
   ]
  },
  {
   "cell_type": "code",
   "execution_count": 27,
   "id": "40d4b3b2-f021-40c8-88b5-a8a0ef48ebc7",
   "metadata": {},
   "outputs": [
    {
     "data": {
      "text/plain": [
       "state     object\n",
       "year       int64\n",
       "pop      float64\n",
       "dtype: object"
      ]
     },
     "execution_count": 27,
     "metadata": {},
     "output_type": "execute_result"
    }
   ],
   "source": [
    "frame.dtypes"
   ]
  },
  {
   "cell_type": "markdown",
   "id": "0720835b-9cff-4610-aa6b-e673a7fadafe",
   "metadata": {},
   "source": [
    "To learn more about `dtypes` you can check the following [resource](https://pbpython.com/pandas_dtypes.html)."
   ]
  },
  {
   "cell_type": "markdown",
   "id": "6422f224-5263-4230-a605-71cd142f455d",
   "metadata": {},
   "source": [
    "#### Taking a look at the start or end of the data\n",
    "`pandas` offers useful methods to quickly take a look into their basic data structures. `head` returns the first n rows (if not specified, then n=5), and `tail` the last n rows (n=5 if not specified)."
   ]
  },
  {
   "cell_type": "code",
   "execution_count": 28,
   "id": "220034ae-1b28-4699-b8c3-bbc997d17fee",
   "metadata": {},
   "outputs": [
    {
     "data": {
      "text/html": [
       "<div>\n",
       "<style scoped>\n",
       "    .dataframe tbody tr th:only-of-type {\n",
       "        vertical-align: middle;\n",
       "    }\n",
       "\n",
       "    .dataframe tbody tr th {\n",
       "        vertical-align: top;\n",
       "    }\n",
       "\n",
       "    .dataframe thead th {\n",
       "        text-align: right;\n",
       "    }\n",
       "</style>\n",
       "<table border=\"1\" class=\"dataframe\">\n",
       "  <thead>\n",
       "    <tr style=\"text-align: right;\">\n",
       "      <th></th>\n",
       "      <th>state</th>\n",
       "      <th>year</th>\n",
       "      <th>pop</th>\n",
       "    </tr>\n",
       "  </thead>\n",
       "  <tbody>\n",
       "    <tr>\n",
       "      <th>0</th>\n",
       "      <td>Ohio</td>\n",
       "      <td>2000</td>\n",
       "      <td>1.5</td>\n",
       "    </tr>\n",
       "    <tr>\n",
       "      <th>1</th>\n",
       "      <td>Ohio</td>\n",
       "      <td>2001</td>\n",
       "      <td>1.7</td>\n",
       "    </tr>\n",
       "    <tr>\n",
       "      <th>2</th>\n",
       "      <td>Ohio</td>\n",
       "      <td>2002</td>\n",
       "      <td>3.6</td>\n",
       "    </tr>\n",
       "    <tr>\n",
       "      <th>3</th>\n",
       "      <td>Nevada</td>\n",
       "      <td>2001</td>\n",
       "      <td>2.4</td>\n",
       "    </tr>\n",
       "    <tr>\n",
       "      <th>4</th>\n",
       "      <td>Nevada</td>\n",
       "      <td>2002</td>\n",
       "      <td>2.9</td>\n",
       "    </tr>\n",
       "  </tbody>\n",
       "</table>\n",
       "</div>"
      ],
      "text/plain": [
       "    state  year  pop\n",
       "0    Ohio  2000  1.5\n",
       "1    Ohio  2001  1.7\n",
       "2    Ohio  2002  3.6\n",
       "3  Nevada  2001  2.4\n",
       "4  Nevada  2002  2.9"
      ]
     },
     "execution_count": 28,
     "metadata": {},
     "output_type": "execute_result"
    }
   ],
   "source": [
    "frame.head()"
   ]
  },
  {
   "cell_type": "code",
   "execution_count": 29,
   "id": "68baa708-7a8b-4d8d-be7a-1b96b7c174ad",
   "metadata": {},
   "outputs": [
    {
     "data": {
      "text/html": [
       "<div>\n",
       "<style scoped>\n",
       "    .dataframe tbody tr th:only-of-type {\n",
       "        vertical-align: middle;\n",
       "    }\n",
       "\n",
       "    .dataframe tbody tr th {\n",
       "        vertical-align: top;\n",
       "    }\n",
       "\n",
       "    .dataframe thead th {\n",
       "        text-align: right;\n",
       "    }\n",
       "</style>\n",
       "<table border=\"1\" class=\"dataframe\">\n",
       "  <thead>\n",
       "    <tr style=\"text-align: right;\">\n",
       "      <th></th>\n",
       "      <th>state</th>\n",
       "      <th>year</th>\n",
       "      <th>pop</th>\n",
       "    </tr>\n",
       "  </thead>\n",
       "  <tbody>\n",
       "    <tr>\n",
       "      <th>3</th>\n",
       "      <td>Nevada</td>\n",
       "      <td>2001</td>\n",
       "      <td>2.4</td>\n",
       "    </tr>\n",
       "    <tr>\n",
       "      <th>4</th>\n",
       "      <td>Nevada</td>\n",
       "      <td>2002</td>\n",
       "      <td>2.9</td>\n",
       "    </tr>\n",
       "    <tr>\n",
       "      <th>5</th>\n",
       "      <td>Nevada</td>\n",
       "      <td>2003</td>\n",
       "      <td>3.2</td>\n",
       "    </tr>\n",
       "  </tbody>\n",
       "</table>\n",
       "</div>"
      ],
      "text/plain": [
       "    state  year  pop\n",
       "3  Nevada  2001  2.4\n",
       "4  Nevada  2002  2.9\n",
       "5  Nevada  2003  3.2"
      ]
     },
     "execution_count": 29,
     "metadata": {},
     "output_type": "execute_result"
    }
   ],
   "source": [
    "frame.tail(3)"
   ]
  },
  {
   "cell_type": "markdown",
   "id": "3e5daeba-00cb-4a02-9345-1eb162fd8a7b",
   "metadata": {},
   "source": [
    "#### Columns and Indices\n",
    "You can also create a DataFrame using **another DataFrames**, and change the order of the columns. If new columns don't have values, then the DataFrame will contain **null values**."
   ]
  },
  {
   "cell_type": "code",
   "execution_count": 30,
   "id": "9c0a56ec-382b-4b31-8354-a80a63335765",
   "metadata": {},
   "outputs": [
    {
     "data": {
      "text/html": [
       "<div>\n",
       "<style scoped>\n",
       "    .dataframe tbody tr th:only-of-type {\n",
       "        vertical-align: middle;\n",
       "    }\n",
       "\n",
       "    .dataframe tbody tr th {\n",
       "        vertical-align: top;\n",
       "    }\n",
       "\n",
       "    .dataframe thead th {\n",
       "        text-align: right;\n",
       "    }\n",
       "</style>\n",
       "<table border=\"1\" class=\"dataframe\">\n",
       "  <thead>\n",
       "    <tr style=\"text-align: right;\">\n",
       "      <th></th>\n",
       "      <th>year</th>\n",
       "      <th>state</th>\n",
       "      <th>pop</th>\n",
       "      <th>debt</th>\n",
       "    </tr>\n",
       "  </thead>\n",
       "  <tbody>\n",
       "    <tr>\n",
       "      <th>0</th>\n",
       "      <td>2000</td>\n",
       "      <td>Ohio</td>\n",
       "      <td>1.5</td>\n",
       "      <td>NaN</td>\n",
       "    </tr>\n",
       "    <tr>\n",
       "      <th>1</th>\n",
       "      <td>2001</td>\n",
       "      <td>Ohio</td>\n",
       "      <td>1.7</td>\n",
       "      <td>NaN</td>\n",
       "    </tr>\n",
       "    <tr>\n",
       "      <th>2</th>\n",
       "      <td>2002</td>\n",
       "      <td>Ohio</td>\n",
       "      <td>3.6</td>\n",
       "      <td>NaN</td>\n",
       "    </tr>\n",
       "    <tr>\n",
       "      <th>3</th>\n",
       "      <td>2001</td>\n",
       "      <td>Nevada</td>\n",
       "      <td>2.4</td>\n",
       "      <td>NaN</td>\n",
       "    </tr>\n",
       "    <tr>\n",
       "      <th>4</th>\n",
       "      <td>2002</td>\n",
       "      <td>Nevada</td>\n",
       "      <td>2.9</td>\n",
       "      <td>NaN</td>\n",
       "    </tr>\n",
       "    <tr>\n",
       "      <th>5</th>\n",
       "      <td>2003</td>\n",
       "      <td>Nevada</td>\n",
       "      <td>3.2</td>\n",
       "      <td>NaN</td>\n",
       "    </tr>\n",
       "  </tbody>\n",
       "</table>\n",
       "</div>"
      ],
      "text/plain": [
       "   year   state  pop debt\n",
       "0  2000    Ohio  1.5  NaN\n",
       "1  2001    Ohio  1.7  NaN\n",
       "2  2002    Ohio  3.6  NaN\n",
       "3  2001  Nevada  2.4  NaN\n",
       "4  2002  Nevada  2.9  NaN\n",
       "5  2003  Nevada  3.2  NaN"
      ]
     },
     "execution_count": 30,
     "metadata": {},
     "output_type": "execute_result"
    }
   ],
   "source": [
    "frame2 = pd.DataFrame(data, columns=[\"year\", \"state\", \"pop\", \"debt\"])\n",
    "frame2"
   ]
  },
  {
   "cell_type": "markdown",
   "id": "dc5b7200-8934-4207-afb7-b77739d206c8",
   "metadata": {},
   "source": [
    "To access columns and indices, you simply use the accessors `.columns` and `.index` respectively."
   ]
  },
  {
   "cell_type": "code",
   "execution_count": 31,
   "id": "af263e49-8c80-430a-88ed-5d66598ad480",
   "metadata": {},
   "outputs": [
    {
     "data": {
      "text/plain": [
       "Index(['year', 'state', 'pop', 'debt'], dtype='object')"
      ]
     },
     "execution_count": 31,
     "metadata": {},
     "output_type": "execute_result"
    }
   ],
   "source": [
    "frame2.columns"
   ]
  },
  {
   "cell_type": "code",
   "execution_count": 32,
   "id": "15de2923-0951-4a20-bcf3-259f92ae2cc0",
   "metadata": {},
   "outputs": [
    {
     "data": {
      "text/plain": [
       "RangeIndex(start=0, stop=6, step=1)"
      ]
     },
     "execution_count": 32,
     "metadata": {},
     "output_type": "execute_result"
    }
   ],
   "source": [
    "frame2.index"
   ]
  },
  {
   "cell_type": "markdown",
   "id": "2202ddfe-4d3d-4d55-870b-dc19e20d2756",
   "metadata": {},
   "source": [
    "#### Accessing values\n",
    "Accessing columns and indices in DataFrames is interesting. You can use the dot accessor to get a column or use the brackets as well."
   ]
  },
  {
   "cell_type": "code",
   "execution_count": 33,
   "id": "5fd2102b-783f-4726-bb9d-9063473571c8",
   "metadata": {},
   "outputs": [
    {
     "data": {
      "text/plain": [
       "0    2000\n",
       "1    2001\n",
       "2    2002\n",
       "3    2001\n",
       "4    2002\n",
       "5    2003\n",
       "Name: year, dtype: int64"
      ]
     },
     "execution_count": 33,
     "metadata": {},
     "output_type": "execute_result"
    }
   ],
   "source": [
    "frame2.year"
   ]
  },
  {
   "cell_type": "code",
   "execution_count": 34,
   "id": "b3f21c54-1a47-4086-b815-78731269c10a",
   "metadata": {},
   "outputs": [
    {
     "data": {
      "text/plain": [
       "0      Ohio\n",
       "1      Ohio\n",
       "2      Ohio\n",
       "3    Nevada\n",
       "4    Nevada\n",
       "5    Nevada\n",
       "Name: state, dtype: object"
      ]
     },
     "execution_count": 34,
     "metadata": {},
     "output_type": "execute_result"
    }
   ],
   "source": [
    "frame2['state']"
   ]
  },
  {
   "cell_type": "markdown",
   "id": "430f5815-b337-44f8-a420-8e89c570b986",
   "metadata": {},
   "source": [
    "You can also get a subset of columns, giving a list:"
   ]
  },
  {
   "cell_type": "code",
   "execution_count": 35,
   "id": "fa4d8202-01e3-401d-9070-1b37cd5b55e2",
   "metadata": {},
   "outputs": [
    {
     "data": {
      "text/html": [
       "<div>\n",
       "<style scoped>\n",
       "    .dataframe tbody tr th:only-of-type {\n",
       "        vertical-align: middle;\n",
       "    }\n",
       "\n",
       "    .dataframe tbody tr th {\n",
       "        vertical-align: top;\n",
       "    }\n",
       "\n",
       "    .dataframe thead th {\n",
       "        text-align: right;\n",
       "    }\n",
       "</style>\n",
       "<table border=\"1\" class=\"dataframe\">\n",
       "  <thead>\n",
       "    <tr style=\"text-align: right;\">\n",
       "      <th></th>\n",
       "      <th>pop</th>\n",
       "      <th>year</th>\n",
       "    </tr>\n",
       "  </thead>\n",
       "  <tbody>\n",
       "    <tr>\n",
       "      <th>0</th>\n",
       "      <td>1.5</td>\n",
       "      <td>2000</td>\n",
       "    </tr>\n",
       "    <tr>\n",
       "      <th>1</th>\n",
       "      <td>1.7</td>\n",
       "      <td>2001</td>\n",
       "    </tr>\n",
       "    <tr>\n",
       "      <th>2</th>\n",
       "      <td>3.6</td>\n",
       "      <td>2002</td>\n",
       "    </tr>\n",
       "    <tr>\n",
       "      <th>3</th>\n",
       "      <td>2.4</td>\n",
       "      <td>2001</td>\n",
       "    </tr>\n",
       "    <tr>\n",
       "      <th>4</th>\n",
       "      <td>2.9</td>\n",
       "      <td>2002</td>\n",
       "    </tr>\n",
       "    <tr>\n",
       "      <th>5</th>\n",
       "      <td>3.2</td>\n",
       "      <td>2003</td>\n",
       "    </tr>\n",
       "  </tbody>\n",
       "</table>\n",
       "</div>"
      ],
      "text/plain": [
       "   pop  year\n",
       "0  1.5  2000\n",
       "1  1.7  2001\n",
       "2  3.6  2002\n",
       "3  2.4  2001\n",
       "4  2.9  2002\n",
       "5  3.2  2003"
      ]
     },
     "execution_count": 35,
     "metadata": {},
     "output_type": "execute_result"
    }
   ],
   "source": [
    "frame2[['pop', 'year']]"
   ]
  },
  {
   "cell_type": "markdown",
   "id": "802184f5-963c-47be-8595-196f6168ce0b",
   "metadata": {},
   "source": [
    "You can also utilize the `loc` and `iloc` accessors as previously, where the *first part* refers to the **index**, whereas the second to the **columns**."
   ]
  },
  {
   "cell_type": "code",
   "execution_count": 36,
   "id": "db0cc652-b1c6-40d7-a2f9-25b5c8071745",
   "metadata": {},
   "outputs": [
    {
     "data": {
      "text/html": [
       "<div>\n",
       "<style scoped>\n",
       "    .dataframe tbody tr th:only-of-type {\n",
       "        vertical-align: middle;\n",
       "    }\n",
       "\n",
       "    .dataframe tbody tr th {\n",
       "        vertical-align: top;\n",
       "    }\n",
       "\n",
       "    .dataframe thead th {\n",
       "        text-align: right;\n",
       "    }\n",
       "</style>\n",
       "<table border=\"1\" class=\"dataframe\">\n",
       "  <thead>\n",
       "    <tr style=\"text-align: right;\">\n",
       "      <th></th>\n",
       "      <th>year</th>\n",
       "      <th>state</th>\n",
       "      <th>pop</th>\n",
       "      <th>debt</th>\n",
       "    </tr>\n",
       "  </thead>\n",
       "  <tbody>\n",
       "    <tr>\n",
       "      <th>0</th>\n",
       "      <td>2000</td>\n",
       "      <td>Ohio</td>\n",
       "      <td>1.5</td>\n",
       "      <td>NaN</td>\n",
       "    </tr>\n",
       "    <tr>\n",
       "      <th>3</th>\n",
       "      <td>2001</td>\n",
       "      <td>Nevada</td>\n",
       "      <td>2.4</td>\n",
       "      <td>NaN</td>\n",
       "    </tr>\n",
       "  </tbody>\n",
       "</table>\n",
       "</div>"
      ],
      "text/plain": [
       "   year   state  pop debt\n",
       "0  2000    Ohio  1.5  NaN\n",
       "3  2001  Nevada  2.4  NaN"
      ]
     },
     "execution_count": 36,
     "metadata": {},
     "output_type": "execute_result"
    }
   ],
   "source": [
    "frame2.loc[[0, 3]]"
   ]
  },
  {
   "cell_type": "code",
   "execution_count": 37,
   "id": "b1694c60-c0ec-4a31-9e97-36345f3942bb",
   "metadata": {},
   "outputs": [
    {
     "data": {
      "text/plain": [
       "3    2001\n",
       "2    2002\n",
       "1    2001\n",
       "Name: year, dtype: int64"
      ]
     },
     "execution_count": 37,
     "metadata": {},
     "output_type": "execute_result"
    }
   ],
   "source": [
    "frame2.loc[3:1:-1, 'year']"
   ]
  },
  {
   "cell_type": "code",
   "execution_count": 38,
   "id": "f9edd0d0-04c3-4f40-b24e-25d985e1c558",
   "metadata": {},
   "outputs": [
    {
     "data": {
      "text/plain": [
       "pop         3.2\n",
       "state    Nevada\n",
       "Name: 5, dtype: object"
      ]
     },
     "execution_count": 38,
     "metadata": {},
     "output_type": "execute_result"
    }
   ],
   "source": [
    "frame2.loc[5, ['pop', 'state']]"
   ]
  },
  {
   "cell_type": "code",
   "execution_count": 39,
   "id": "d60cb505-e682-429c-9213-b211bcf0e45b",
   "metadata": {},
   "outputs": [
    {
     "data": {
      "text/html": [
       "<div>\n",
       "<style scoped>\n",
       "    .dataframe tbody tr th:only-of-type {\n",
       "        vertical-align: middle;\n",
       "    }\n",
       "\n",
       "    .dataframe tbody tr th {\n",
       "        vertical-align: top;\n",
       "    }\n",
       "\n",
       "    .dataframe thead th {\n",
       "        text-align: right;\n",
       "    }\n",
       "</style>\n",
       "<table border=\"1\" class=\"dataframe\">\n",
       "  <thead>\n",
       "    <tr style=\"text-align: right;\">\n",
       "      <th></th>\n",
       "      <th>debt</th>\n",
       "      <th>pop</th>\n",
       "    </tr>\n",
       "  </thead>\n",
       "  <tbody>\n",
       "    <tr>\n",
       "      <th>0</th>\n",
       "      <td>NaN</td>\n",
       "      <td>1.5</td>\n",
       "    </tr>\n",
       "    <tr>\n",
       "      <th>1</th>\n",
       "      <td>NaN</td>\n",
       "      <td>1.7</td>\n",
       "    </tr>\n",
       "    <tr>\n",
       "      <th>2</th>\n",
       "      <td>NaN</td>\n",
       "      <td>3.6</td>\n",
       "    </tr>\n",
       "    <tr>\n",
       "      <th>3</th>\n",
       "      <td>NaN</td>\n",
       "      <td>2.4</td>\n",
       "    </tr>\n",
       "  </tbody>\n",
       "</table>\n",
       "</div>"
      ],
      "text/plain": [
       "  debt  pop\n",
       "0  NaN  1.5\n",
       "1  NaN  1.7\n",
       "2  NaN  3.6\n",
       "3  NaN  2.4"
      ]
     },
     "execution_count": 39,
     "metadata": {},
     "output_type": "execute_result"
    }
   ],
   "source": [
    "frame2.iloc[0:4, 3:1:-1]"
   ]
  },
  {
   "cell_type": "markdown",
   "id": "e2e40b4e-baa1-474c-b7b4-eecf072dbc15",
   "metadata": {},
   "source": [
    "Using `:` returns **all rows** if placed in the first part, or **all columns** if placed in the second part."
   ]
  },
  {
   "cell_type": "code",
   "execution_count": 40,
   "id": "1a164ded-1311-4cf4-bc6f-046546063db8",
   "metadata": {},
   "outputs": [
    {
     "data": {
      "text/html": [
       "<div>\n",
       "<style scoped>\n",
       "    .dataframe tbody tr th:only-of-type {\n",
       "        vertical-align: middle;\n",
       "    }\n",
       "\n",
       "    .dataframe tbody tr th {\n",
       "        vertical-align: top;\n",
       "    }\n",
       "\n",
       "    .dataframe thead th {\n",
       "        text-align: right;\n",
       "    }\n",
       "</style>\n",
       "<table border=\"1\" class=\"dataframe\">\n",
       "  <thead>\n",
       "    <tr style=\"text-align: right;\">\n",
       "      <th></th>\n",
       "      <th>year</th>\n",
       "      <th>pop</th>\n",
       "    </tr>\n",
       "  </thead>\n",
       "  <tbody>\n",
       "    <tr>\n",
       "      <th>0</th>\n",
       "      <td>2000</td>\n",
       "      <td>1.5</td>\n",
       "    </tr>\n",
       "    <tr>\n",
       "      <th>1</th>\n",
       "      <td>2001</td>\n",
       "      <td>1.7</td>\n",
       "    </tr>\n",
       "    <tr>\n",
       "      <th>2</th>\n",
       "      <td>2002</td>\n",
       "      <td>3.6</td>\n",
       "    </tr>\n",
       "    <tr>\n",
       "      <th>3</th>\n",
       "      <td>2001</td>\n",
       "      <td>2.4</td>\n",
       "    </tr>\n",
       "    <tr>\n",
       "      <th>4</th>\n",
       "      <td>2002</td>\n",
       "      <td>2.9</td>\n",
       "    </tr>\n",
       "    <tr>\n",
       "      <th>5</th>\n",
       "      <td>2003</td>\n",
       "      <td>3.2</td>\n",
       "    </tr>\n",
       "  </tbody>\n",
       "</table>\n",
       "</div>"
      ],
      "text/plain": [
       "   year  pop\n",
       "0  2000  1.5\n",
       "1  2001  1.7\n",
       "2  2002  3.6\n",
       "3  2001  2.4\n",
       "4  2002  2.9\n",
       "5  2003  3.2"
      ]
     },
     "execution_count": 40,
     "metadata": {},
     "output_type": "execute_result"
    }
   ],
   "source": [
    "frame2.iloc[:, [0, 2]]"
   ]
  },
  {
   "cell_type": "code",
   "execution_count": 41,
   "id": "046c0361-f1d4-4098-8243-5b2fe4a23ac4",
   "metadata": {},
   "outputs": [
    {
     "data": {
      "text/html": [
       "<div>\n",
       "<style scoped>\n",
       "    .dataframe tbody tr th:only-of-type {\n",
       "        vertical-align: middle;\n",
       "    }\n",
       "\n",
       "    .dataframe tbody tr th {\n",
       "        vertical-align: top;\n",
       "    }\n",
       "\n",
       "    .dataframe thead th {\n",
       "        text-align: right;\n",
       "    }\n",
       "</style>\n",
       "<table border=\"1\" class=\"dataframe\">\n",
       "  <thead>\n",
       "    <tr style=\"text-align: right;\">\n",
       "      <th></th>\n",
       "      <th>year</th>\n",
       "      <th>state</th>\n",
       "      <th>pop</th>\n",
       "      <th>debt</th>\n",
       "    </tr>\n",
       "  </thead>\n",
       "  <tbody>\n",
       "    <tr>\n",
       "      <th>5</th>\n",
       "      <td>2003</td>\n",
       "      <td>Nevada</td>\n",
       "      <td>3.2</td>\n",
       "      <td>NaN</td>\n",
       "    </tr>\n",
       "    <tr>\n",
       "      <th>1</th>\n",
       "      <td>2001</td>\n",
       "      <td>Ohio</td>\n",
       "      <td>1.7</td>\n",
       "      <td>NaN</td>\n",
       "    </tr>\n",
       "    <tr>\n",
       "      <th>2</th>\n",
       "      <td>2002</td>\n",
       "      <td>Ohio</td>\n",
       "      <td>3.6</td>\n",
       "      <td>NaN</td>\n",
       "    </tr>\n",
       "    <tr>\n",
       "      <th>4</th>\n",
       "      <td>2002</td>\n",
       "      <td>Nevada</td>\n",
       "      <td>2.9</td>\n",
       "      <td>NaN</td>\n",
       "    </tr>\n",
       "  </tbody>\n",
       "</table>\n",
       "</div>"
      ],
      "text/plain": [
       "   year   state  pop debt\n",
       "5  2003  Nevada  3.2  NaN\n",
       "1  2001    Ohio  1.7  NaN\n",
       "2  2002    Ohio  3.6  NaN\n",
       "4  2002  Nevada  2.9  NaN"
      ]
     },
     "execution_count": 41,
     "metadata": {},
     "output_type": "execute_result"
    }
   ],
   "source": [
    "frame2.iloc[[5, 1, 2, 4], :]"
   ]
  },
  {
   "cell_type": "markdown",
   "id": "64463a09-3851-46e7-8f66-9c8b32472040",
   "metadata": {},
   "source": [
    "Now these are some of the very basics of DataFrames. We haven't focused much on them since we will be using them a lot in the examples."
   ]
  },
  {
   "cell_type": "markdown",
   "id": "ac18c0ec-66c2-438d-9cf2-ce18bd182f95",
   "metadata": {},
   "source": [
    "## Online Shopping Dataset\n",
    "Since we saw the very basics, let's take a look into how we can use `pandas` to do data analysis. Mostly you will be **importing data**, rather than creating your own. Luckily, `pandas` has many methods creating DataFrames using popular file types, such as CSV, Spreadsheet files, JSON, and even get data from a Database. On Kaggle, the dataset has both a csv and an xlsx file, so we will showcase those 2 different ways of importing data."
   ]
  },
  {
   "cell_type": "code",
   "execution_count": 42,
   "id": "8045164e-2112-4619-9848-03d980db70ae",
   "metadata": {},
   "outputs": [],
   "source": [
    "sales = pd.read_excel('data/online-retail.xlsx', index_col='Unnamed: 0', parse_dates=['Transaction_Date', 'Date'])"
   ]
  },
  {
   "cell_type": "code",
   "execution_count": 43,
   "id": "eb33d565-0f0c-424d-be4b-548d63c5d8b9",
   "metadata": {},
   "outputs": [],
   "source": [
    "sales = pd.read_csv('data/online-retail.csv', index_col='Unnamed: 0', parse_dates=['Transaction_Date', 'Date'])"
   ]
  },
  {
   "cell_type": "markdown",
   "id": "a0bafdc1-1126-46c3-935d-e56d2846cdc1",
   "metadata": {},
   "source": [
    "Both functions, as well as the other *reader* functions, have dozens of parameters to **customize the import process**. For example, the delimiter might be the symbol '|', therefore in `read_csv` you can change the delimiter using the respective parameter. You might have a spreadsheet containing multiple sheets, therefore you have to specify the sheet you want to use in such cases. So it is highly recommended to check the documentation of the function you want to use to get the **most** out of it."
   ]
  },
  {
   "cell_type": "code",
   "execution_count": 44,
   "id": "1e55f83f-2b14-4055-ba44-73e6cb8ed10f",
   "metadata": {},
   "outputs": [
    {
     "data": {
      "text/html": [
       "<div>\n",
       "<style scoped>\n",
       "    .dataframe tbody tr th:only-of-type {\n",
       "        vertical-align: middle;\n",
       "    }\n",
       "\n",
       "    .dataframe tbody tr th {\n",
       "        vertical-align: top;\n",
       "    }\n",
       "\n",
       "    .dataframe thead th {\n",
       "        text-align: right;\n",
       "    }\n",
       "</style>\n",
       "<table border=\"1\" class=\"dataframe\">\n",
       "  <thead>\n",
       "    <tr style=\"text-align: right;\">\n",
       "      <th></th>\n",
       "      <th>CustomerID</th>\n",
       "      <th>Gender</th>\n",
       "      <th>Location</th>\n",
       "      <th>Tenure_Months</th>\n",
       "      <th>Transaction_ID</th>\n",
       "      <th>Transaction_Date</th>\n",
       "      <th>Product_SKU</th>\n",
       "      <th>Product_Description</th>\n",
       "      <th>Product_Category</th>\n",
       "      <th>Quantity</th>\n",
       "      <th>Avg_Price</th>\n",
       "      <th>Delivery_Charges</th>\n",
       "      <th>Coupon_Status</th>\n",
       "      <th>GST</th>\n",
       "      <th>Date</th>\n",
       "      <th>Offline_Spend</th>\n",
       "      <th>Online_Spend</th>\n",
       "      <th>Month</th>\n",
       "      <th>Coupon_Code</th>\n",
       "      <th>Discount_pct</th>\n",
       "    </tr>\n",
       "  </thead>\n",
       "  <tbody>\n",
       "    <tr>\n",
       "      <th>0</th>\n",
       "      <td>17850.0</td>\n",
       "      <td>M</td>\n",
       "      <td>Chicago</td>\n",
       "      <td>12.0</td>\n",
       "      <td>16679.0</td>\n",
       "      <td>2019-01-01</td>\n",
       "      <td>GGOENEBJ079499</td>\n",
       "      <td>Nest Learning Thermostat 3rd Gen-USA - Stainle...</td>\n",
       "      <td>Nest-USA</td>\n",
       "      <td>1.0</td>\n",
       "      <td>153.71</td>\n",
       "      <td>6.5</td>\n",
       "      <td>Used</td>\n",
       "      <td>0.1</td>\n",
       "      <td>2019-01-01</td>\n",
       "      <td>4500.0</td>\n",
       "      <td>2424.5</td>\n",
       "      <td>1</td>\n",
       "      <td>ELEC10</td>\n",
       "      <td>10.0</td>\n",
       "    </tr>\n",
       "    <tr>\n",
       "      <th>1</th>\n",
       "      <td>17850.0</td>\n",
       "      <td>M</td>\n",
       "      <td>Chicago</td>\n",
       "      <td>12.0</td>\n",
       "      <td>16680.0</td>\n",
       "      <td>2019-01-01</td>\n",
       "      <td>GGOENEBJ079499</td>\n",
       "      <td>Nest Learning Thermostat 3rd Gen-USA - Stainle...</td>\n",
       "      <td>Nest-USA</td>\n",
       "      <td>1.0</td>\n",
       "      <td>153.71</td>\n",
       "      <td>6.5</td>\n",
       "      <td>Used</td>\n",
       "      <td>0.1</td>\n",
       "      <td>2019-01-01</td>\n",
       "      <td>4500.0</td>\n",
       "      <td>2424.5</td>\n",
       "      <td>1</td>\n",
       "      <td>ELEC10</td>\n",
       "      <td>10.0</td>\n",
       "    </tr>\n",
       "    <tr>\n",
       "      <th>2</th>\n",
       "      <td>17850.0</td>\n",
       "      <td>M</td>\n",
       "      <td>Chicago</td>\n",
       "      <td>12.0</td>\n",
       "      <td>16696.0</td>\n",
       "      <td>2019-01-01</td>\n",
       "      <td>GGOENEBQ078999</td>\n",
       "      <td>Nest Cam Outdoor Security Camera - USA</td>\n",
       "      <td>Nest-USA</td>\n",
       "      <td>2.0</td>\n",
       "      <td>122.77</td>\n",
       "      <td>6.5</td>\n",
       "      <td>Not Used</td>\n",
       "      <td>0.1</td>\n",
       "      <td>2019-01-01</td>\n",
       "      <td>4500.0</td>\n",
       "      <td>2424.5</td>\n",
       "      <td>1</td>\n",
       "      <td>ELEC10</td>\n",
       "      <td>10.0</td>\n",
       "    </tr>\n",
       "    <tr>\n",
       "      <th>3</th>\n",
       "      <td>17850.0</td>\n",
       "      <td>M</td>\n",
       "      <td>Chicago</td>\n",
       "      <td>12.0</td>\n",
       "      <td>16699.0</td>\n",
       "      <td>2019-01-01</td>\n",
       "      <td>GGOENEBQ079099</td>\n",
       "      <td>Nest Protect Smoke + CO White Battery Alarm-USA</td>\n",
       "      <td>Nest-USA</td>\n",
       "      <td>1.0</td>\n",
       "      <td>81.50</td>\n",
       "      <td>6.5</td>\n",
       "      <td>Clicked</td>\n",
       "      <td>0.1</td>\n",
       "      <td>2019-01-01</td>\n",
       "      <td>4500.0</td>\n",
       "      <td>2424.5</td>\n",
       "      <td>1</td>\n",
       "      <td>ELEC10</td>\n",
       "      <td>10.0</td>\n",
       "    </tr>\n",
       "    <tr>\n",
       "      <th>4</th>\n",
       "      <td>17850.0</td>\n",
       "      <td>M</td>\n",
       "      <td>Chicago</td>\n",
       "      <td>12.0</td>\n",
       "      <td>16700.0</td>\n",
       "      <td>2019-01-01</td>\n",
       "      <td>GGOENEBJ079499</td>\n",
       "      <td>Nest Learning Thermostat 3rd Gen-USA - Stainle...</td>\n",
       "      <td>Nest-USA</td>\n",
       "      <td>1.0</td>\n",
       "      <td>153.71</td>\n",
       "      <td>6.5</td>\n",
       "      <td>Clicked</td>\n",
       "      <td>0.1</td>\n",
       "      <td>2019-01-01</td>\n",
       "      <td>4500.0</td>\n",
       "      <td>2424.5</td>\n",
       "      <td>1</td>\n",
       "      <td>ELEC10</td>\n",
       "      <td>10.0</td>\n",
       "    </tr>\n",
       "  </tbody>\n",
       "</table>\n",
       "</div>"
      ],
      "text/plain": [
       "   CustomerID Gender Location  Tenure_Months  Transaction_ID Transaction_Date  \\\n",
       "0     17850.0      M  Chicago           12.0         16679.0       2019-01-01   \n",
       "1     17850.0      M  Chicago           12.0         16680.0       2019-01-01   \n",
       "2     17850.0      M  Chicago           12.0         16696.0       2019-01-01   \n",
       "3     17850.0      M  Chicago           12.0         16699.0       2019-01-01   \n",
       "4     17850.0      M  Chicago           12.0         16700.0       2019-01-01   \n",
       "\n",
       "      Product_SKU                                Product_Description  \\\n",
       "0  GGOENEBJ079499  Nest Learning Thermostat 3rd Gen-USA - Stainle...   \n",
       "1  GGOENEBJ079499  Nest Learning Thermostat 3rd Gen-USA - Stainle...   \n",
       "2  GGOENEBQ078999             Nest Cam Outdoor Security Camera - USA   \n",
       "3  GGOENEBQ079099    Nest Protect Smoke + CO White Battery Alarm-USA   \n",
       "4  GGOENEBJ079499  Nest Learning Thermostat 3rd Gen-USA - Stainle...   \n",
       "\n",
       "  Product_Category  Quantity  Avg_Price  Delivery_Charges Coupon_Status  GST  \\\n",
       "0         Nest-USA       1.0     153.71               6.5          Used  0.1   \n",
       "1         Nest-USA       1.0     153.71               6.5          Used  0.1   \n",
       "2         Nest-USA       2.0     122.77               6.5      Not Used  0.1   \n",
       "3         Nest-USA       1.0      81.50               6.5       Clicked  0.1   \n",
       "4         Nest-USA       1.0     153.71               6.5       Clicked  0.1   \n",
       "\n",
       "        Date  Offline_Spend  Online_Spend  Month Coupon_Code  Discount_pct  \n",
       "0 2019-01-01         4500.0        2424.5      1      ELEC10          10.0  \n",
       "1 2019-01-01         4500.0        2424.5      1      ELEC10          10.0  \n",
       "2 2019-01-01         4500.0        2424.5      1      ELEC10          10.0  \n",
       "3 2019-01-01         4500.0        2424.5      1      ELEC10          10.0  \n",
       "4 2019-01-01         4500.0        2424.5      1      ELEC10          10.0  "
      ]
     },
     "execution_count": 44,
     "metadata": {},
     "output_type": "execute_result"
    }
   ],
   "source": [
    "sales.head()"
   ]
  },
  {
   "cell_type": "code",
   "execution_count": 45,
   "id": "7e291ac2-db2e-4cd6-b1b7-23db3a8cacb9",
   "metadata": {},
   "outputs": [
    {
     "data": {
      "text/plain": [
       "Index(['CustomerID', 'Gender', 'Location', 'Tenure_Months', 'Transaction_ID',\n",
       "       'Transaction_Date', 'Product_SKU', 'Product_Description',\n",
       "       'Product_Category', 'Quantity', 'Avg_Price', 'Delivery_Charges',\n",
       "       'Coupon_Status', 'GST', 'Date', 'Offline_Spend', 'Online_Spend',\n",
       "       'Month', 'Coupon_Code', 'Discount_pct'],\n",
       "      dtype='object')"
      ]
     },
     "execution_count": 45,
     "metadata": {},
     "output_type": "execute_result"
    }
   ],
   "source": [
    "sales.columns"
   ]
  },
  {
   "cell_type": "markdown",
   "id": "8f954c6b-99af-48ed-be20-57fa29c6532b",
   "metadata": {},
   "source": [
    "When we imported our data, we specified which columns are **dates**."
   ]
  },
  {
   "cell_type": "code",
   "execution_count": 46,
   "id": "309fac45-a476-4f6d-b598-0add6401f7f2",
   "metadata": {},
   "outputs": [
    {
     "data": {
      "text/plain": [
       "CustomerID                    float64\n",
       "Gender                         object\n",
       "Location                       object\n",
       "Tenure_Months                 float64\n",
       "Transaction_ID                float64\n",
       "Transaction_Date       datetime64[ns]\n",
       "Product_SKU                    object\n",
       "Product_Description            object\n",
       "Product_Category               object\n",
       "Quantity                      float64\n",
       "Avg_Price                     float64\n",
       "Delivery_Charges              float64\n",
       "Coupon_Status                  object\n",
       "GST                           float64\n",
       "Date                   datetime64[ns]\n",
       "Offline_Spend                 float64\n",
       "Online_Spend                  float64\n",
       "Month                           int64\n",
       "Coupon_Code                    object\n",
       "Discount_pct                  float64\n",
       "dtype: object"
      ]
     },
     "execution_count": 46,
     "metadata": {},
     "output_type": "execute_result"
    }
   ],
   "source": [
    "sales.dtypes"
   ]
  },
  {
   "cell_type": "markdown",
   "id": "934e593e-5ac4-4258-88d4-3499faa48447",
   "metadata": {},
   "source": [
    "### Handling Missing Data\n",
    "Let's take a look into how many **null values** we have:"
   ]
  },
  {
   "cell_type": "code",
   "execution_count": 47,
   "id": "e7d2a082-2c72-4a31-85a2-72090ae3ae1f",
   "metadata": {},
   "outputs": [
    {
     "data": {
      "text/plain": [
       "CustomerID              31\n",
       "Gender                  31\n",
       "Location                31\n",
       "Tenure_Months           31\n",
       "Transaction_ID          31\n",
       "Transaction_Date        31\n",
       "Product_SKU             31\n",
       "Product_Description     31\n",
       "Product_Category         0\n",
       "Quantity                31\n",
       "Avg_Price               31\n",
       "Delivery_Charges        31\n",
       "Coupon_Status           31\n",
       "GST                     31\n",
       "Date                    31\n",
       "Offline_Spend           31\n",
       "Online_Spend            31\n",
       "Month                    0\n",
       "Coupon_Code            400\n",
       "Discount_pct           400\n",
       "dtype: int64"
      ]
     },
     "execution_count": 47,
     "metadata": {},
     "output_type": "execute_result"
    }
   ],
   "source": [
    "sales.isna().sum()"
   ]
  },
  {
   "cell_type": "markdown",
   "id": "c02b691d-001f-4b29-8c43-f6a376eea1dc",
   "metadata": {},
   "source": [
    "Since we operate with shopping data, we should exclude data that don't refer to a transaction. In this case we will use the [`dropna`](https://pandas.pydata.org/docs/reference/api/pandas.DataFrame.dropna.html) method. As its name implies, it will leave out data containing null values. You can customize the function call in many ways. You can specify if it will drop data **by rows** (axis=0 or axis='index') or **by columns** (axis=1 or axis='columns'), **how** they will drop (if all values in a row or columns are null or if at least one null value exist), drop with a **threshold** (if there are at least n null values then drop rows or columns, cannot be combined with how), or even with a **subset of rows or columns** (rows if you are dropping columns and columns if you are dropping rows). `inplace=True` indicates that it will store the changes in the **same DataFrame**, otherwise it will return a **new one**. In this case we will drop **all rows** in which *Transaction_ID* is *null* and then store it in the same DataFrame."
   ]
  },
  {
   "cell_type": "code",
   "execution_count": 48,
   "id": "24fa7910-3f49-4d88-a316-e4eb836783f9",
   "metadata": {},
   "outputs": [],
   "source": [
    "sales.dropna(subset='Transaction_ID', inplace=True)"
   ]
  },
  {
   "cell_type": "code",
   "execution_count": 49,
   "id": "058c1871-3c91-453b-baf4-cc3dad36c54a",
   "metadata": {},
   "outputs": [
    {
     "data": {
      "text/html": [
       "<div>\n",
       "<style scoped>\n",
       "    .dataframe tbody tr th:only-of-type {\n",
       "        vertical-align: middle;\n",
       "    }\n",
       "\n",
       "    .dataframe tbody tr th {\n",
       "        vertical-align: top;\n",
       "    }\n",
       "\n",
       "    .dataframe thead th {\n",
       "        text-align: right;\n",
       "    }\n",
       "</style>\n",
       "<table border=\"1\" class=\"dataframe\">\n",
       "  <thead>\n",
       "    <tr style=\"text-align: right;\">\n",
       "      <th></th>\n",
       "      <th>CustomerID</th>\n",
       "      <th>Gender</th>\n",
       "      <th>Location</th>\n",
       "      <th>Tenure_Months</th>\n",
       "      <th>Transaction_ID</th>\n",
       "      <th>Transaction_Date</th>\n",
       "      <th>Product_SKU</th>\n",
       "      <th>Product_Description</th>\n",
       "      <th>Product_Category</th>\n",
       "      <th>Quantity</th>\n",
       "      <th>Avg_Price</th>\n",
       "      <th>Delivery_Charges</th>\n",
       "      <th>Coupon_Status</th>\n",
       "      <th>GST</th>\n",
       "      <th>Date</th>\n",
       "      <th>Offline_Spend</th>\n",
       "      <th>Online_Spend</th>\n",
       "      <th>Month</th>\n",
       "      <th>Coupon_Code</th>\n",
       "      <th>Discount_pct</th>\n",
       "    </tr>\n",
       "  </thead>\n",
       "  <tbody>\n",
       "    <tr>\n",
       "      <th>52914</th>\n",
       "      <td>14031.0</td>\n",
       "      <td>F</td>\n",
       "      <td>Chicago</td>\n",
       "      <td>17.0</td>\n",
       "      <td>19075.0</td>\n",
       "      <td>2019-01-29</td>\n",
       "      <td>GGOEGBPB081999</td>\n",
       "      <td>UpCycled Bike Saddle Bag</td>\n",
       "      <td>Accessories</td>\n",
       "      <td>1.0</td>\n",
       "      <td>51.57</td>\n",
       "      <td>6.5</td>\n",
       "      <td>Clicked</td>\n",
       "      <td>0.10</td>\n",
       "      <td>2019-01-29</td>\n",
       "      <td>700.0</td>\n",
       "      <td>836.13</td>\n",
       "      <td>1</td>\n",
       "      <td>ACC10</td>\n",
       "      <td>10.0</td>\n",
       "    </tr>\n",
       "    <tr>\n",
       "      <th>52915</th>\n",
       "      <td>15002.0</td>\n",
       "      <td>M</td>\n",
       "      <td>Chicago</td>\n",
       "      <td>41.0</td>\n",
       "      <td>23797.0</td>\n",
       "      <td>2019-03-22</td>\n",
       "      <td>GGOEGGCX056299</td>\n",
       "      <td>Gift Card - $25.00</td>\n",
       "      <td>Gift Cards</td>\n",
       "      <td>1.0</td>\n",
       "      <td>25.00</td>\n",
       "      <td>0.0</td>\n",
       "      <td>Clicked</td>\n",
       "      <td>0.05</td>\n",
       "      <td>2019-03-22</td>\n",
       "      <td>2000.0</td>\n",
       "      <td>2523.41</td>\n",
       "      <td>3</td>\n",
       "      <td>GC30</td>\n",
       "      <td>30.0</td>\n",
       "    </tr>\n",
       "    <tr>\n",
       "      <th>52916</th>\n",
       "      <td>15002.0</td>\n",
       "      <td>M</td>\n",
       "      <td>Chicago</td>\n",
       "      <td>41.0</td>\n",
       "      <td>23798.0</td>\n",
       "      <td>2019-03-22</td>\n",
       "      <td>GGOEGGCX056299</td>\n",
       "      <td>Gift Card - $25.00</td>\n",
       "      <td>Gift Cards</td>\n",
       "      <td>1.0</td>\n",
       "      <td>25.00</td>\n",
       "      <td>0.0</td>\n",
       "      <td>Used</td>\n",
       "      <td>0.05</td>\n",
       "      <td>2019-03-22</td>\n",
       "      <td>2000.0</td>\n",
       "      <td>2523.41</td>\n",
       "      <td>3</td>\n",
       "      <td>GC30</td>\n",
       "      <td>30.0</td>\n",
       "    </tr>\n",
       "    <tr>\n",
       "      <th>52917</th>\n",
       "      <td>15002.0</td>\n",
       "      <td>M</td>\n",
       "      <td>Chicago</td>\n",
       "      <td>41.0</td>\n",
       "      <td>23799.0</td>\n",
       "      <td>2019-03-22</td>\n",
       "      <td>GGOEGGCX056299</td>\n",
       "      <td>Gift Card - $25.00</td>\n",
       "      <td>Gift Cards</td>\n",
       "      <td>1.0</td>\n",
       "      <td>25.00</td>\n",
       "      <td>0.0</td>\n",
       "      <td>Clicked</td>\n",
       "      <td>0.05</td>\n",
       "      <td>2019-03-22</td>\n",
       "      <td>2000.0</td>\n",
       "      <td>2523.41</td>\n",
       "      <td>3</td>\n",
       "      <td>GC30</td>\n",
       "      <td>30.0</td>\n",
       "    </tr>\n",
       "    <tr>\n",
       "      <th>52918</th>\n",
       "      <td>15002.0</td>\n",
       "      <td>M</td>\n",
       "      <td>Chicago</td>\n",
       "      <td>41.0</td>\n",
       "      <td>23800.0</td>\n",
       "      <td>2019-03-22</td>\n",
       "      <td>GGOEGGCX056299</td>\n",
       "      <td>Gift Card - $25.00</td>\n",
       "      <td>Gift Cards</td>\n",
       "      <td>1.0</td>\n",
       "      <td>25.00</td>\n",
       "      <td>0.0</td>\n",
       "      <td>Clicked</td>\n",
       "      <td>0.05</td>\n",
       "      <td>2019-03-22</td>\n",
       "      <td>2000.0</td>\n",
       "      <td>2523.41</td>\n",
       "      <td>3</td>\n",
       "      <td>GC30</td>\n",
       "      <td>30.0</td>\n",
       "    </tr>\n",
       "    <tr>\n",
       "      <th>52919</th>\n",
       "      <td>13155.0</td>\n",
       "      <td>F</td>\n",
       "      <td>California</td>\n",
       "      <td>8.0</td>\n",
       "      <td>22504.0</td>\n",
       "      <td>2019-03-10</td>\n",
       "      <td>GGOEGGCX056399</td>\n",
       "      <td>Gift Card - $250.00</td>\n",
       "      <td>Gift Cards</td>\n",
       "      <td>1.0</td>\n",
       "      <td>250.00</td>\n",
       "      <td>0.0</td>\n",
       "      <td>Clicked</td>\n",
       "      <td>0.05</td>\n",
       "      <td>2019-03-10</td>\n",
       "      <td>2500.0</td>\n",
       "      <td>1294.22</td>\n",
       "      <td>3</td>\n",
       "      <td>GC30</td>\n",
       "      <td>30.0</td>\n",
       "    </tr>\n",
       "    <tr>\n",
       "      <th>52920</th>\n",
       "      <td>18077.0</td>\n",
       "      <td>M</td>\n",
       "      <td>Chicago</td>\n",
       "      <td>34.0</td>\n",
       "      <td>24250.0</td>\n",
       "      <td>2019-03-28</td>\n",
       "      <td>GGOEGGCX056299</td>\n",
       "      <td>Gift Card - $25.00</td>\n",
       "      <td>Gift Cards</td>\n",
       "      <td>1.0</td>\n",
       "      <td>25.00</td>\n",
       "      <td>0.0</td>\n",
       "      <td>Used</td>\n",
       "      <td>0.05</td>\n",
       "      <td>2019-03-28</td>\n",
       "      <td>2000.0</td>\n",
       "      <td>1066.12</td>\n",
       "      <td>3</td>\n",
       "      <td>GC30</td>\n",
       "      <td>30.0</td>\n",
       "    </tr>\n",
       "    <tr>\n",
       "      <th>52921</th>\n",
       "      <td>16085.0</td>\n",
       "      <td>M</td>\n",
       "      <td>California</td>\n",
       "      <td>15.0</td>\n",
       "      <td>39991.0</td>\n",
       "      <td>2019-10-06</td>\n",
       "      <td>GGOEGOCD078399</td>\n",
       "      <td>Google Leather Perforated Journal</td>\n",
       "      <td>Notebooks &amp; Journals</td>\n",
       "      <td>1.0</td>\n",
       "      <td>10.80</td>\n",
       "      <td>6.0</td>\n",
       "      <td>Clicked</td>\n",
       "      <td>0.05</td>\n",
       "      <td>2019-10-06</td>\n",
       "      <td>3000.0</td>\n",
       "      <td>2230.76</td>\n",
       "      <td>10</td>\n",
       "      <td>NJ10</td>\n",
       "      <td>10.0</td>\n",
       "    </tr>\n",
       "    <tr>\n",
       "      <th>52922</th>\n",
       "      <td>16085.0</td>\n",
       "      <td>M</td>\n",
       "      <td>California</td>\n",
       "      <td>15.0</td>\n",
       "      <td>39991.0</td>\n",
       "      <td>2019-10-06</td>\n",
       "      <td>GGOEGOCR078499</td>\n",
       "      <td>Google Spiral Leather Journal</td>\n",
       "      <td>Notebooks &amp; Journals</td>\n",
       "      <td>1.0</td>\n",
       "      <td>9.60</td>\n",
       "      <td>6.0</td>\n",
       "      <td>Used</td>\n",
       "      <td>0.05</td>\n",
       "      <td>2019-10-06</td>\n",
       "      <td>3000.0</td>\n",
       "      <td>2230.76</td>\n",
       "      <td>10</td>\n",
       "      <td>NJ10</td>\n",
       "      <td>10.0</td>\n",
       "    </tr>\n",
       "    <tr>\n",
       "      <th>52923</th>\n",
       "      <td>13659.0</td>\n",
       "      <td>F</td>\n",
       "      <td>Chicago</td>\n",
       "      <td>8.0</td>\n",
       "      <td>39998.0</td>\n",
       "      <td>2019-10-06</td>\n",
       "      <td>GGOEGOCC077999</td>\n",
       "      <td>Google Spiral Journal with Pen</td>\n",
       "      <td>Notebooks &amp; Journals</td>\n",
       "      <td>1.0</td>\n",
       "      <td>5.59</td>\n",
       "      <td>6.5</td>\n",
       "      <td>Not Used</td>\n",
       "      <td>0.05</td>\n",
       "      <td>2019-10-06</td>\n",
       "      <td>3000.0</td>\n",
       "      <td>2230.76</td>\n",
       "      <td>10</td>\n",
       "      <td>NJ10</td>\n",
       "      <td>10.0</td>\n",
       "    </tr>\n",
       "  </tbody>\n",
       "</table>\n",
       "</div>"
      ],
      "text/plain": [
       "       CustomerID Gender    Location  Tenure_Months  Transaction_ID  \\\n",
       "52914     14031.0      F     Chicago           17.0         19075.0   \n",
       "52915     15002.0      M     Chicago           41.0         23797.0   \n",
       "52916     15002.0      M     Chicago           41.0         23798.0   \n",
       "52917     15002.0      M     Chicago           41.0         23799.0   \n",
       "52918     15002.0      M     Chicago           41.0         23800.0   \n",
       "52919     13155.0      F  California            8.0         22504.0   \n",
       "52920     18077.0      M     Chicago           34.0         24250.0   \n",
       "52921     16085.0      M  California           15.0         39991.0   \n",
       "52922     16085.0      M  California           15.0         39991.0   \n",
       "52923     13659.0      F     Chicago            8.0         39998.0   \n",
       "\n",
       "      Transaction_Date     Product_SKU                Product_Description  \\\n",
       "52914       2019-01-29  GGOEGBPB081999           UpCycled Bike Saddle Bag   \n",
       "52915       2019-03-22  GGOEGGCX056299                 Gift Card - $25.00   \n",
       "52916       2019-03-22  GGOEGGCX056299                 Gift Card - $25.00   \n",
       "52917       2019-03-22  GGOEGGCX056299                 Gift Card - $25.00   \n",
       "52918       2019-03-22  GGOEGGCX056299                 Gift Card - $25.00   \n",
       "52919       2019-03-10  GGOEGGCX056399                Gift Card - $250.00   \n",
       "52920       2019-03-28  GGOEGGCX056299                 Gift Card - $25.00   \n",
       "52921       2019-10-06  GGOEGOCD078399  Google Leather Perforated Journal   \n",
       "52922       2019-10-06  GGOEGOCR078499      Google Spiral Leather Journal   \n",
       "52923       2019-10-06  GGOEGOCC077999     Google Spiral Journal with Pen   \n",
       "\n",
       "           Product_Category  Quantity  Avg_Price  Delivery_Charges  \\\n",
       "52914           Accessories       1.0      51.57               6.5   \n",
       "52915            Gift Cards       1.0      25.00               0.0   \n",
       "52916            Gift Cards       1.0      25.00               0.0   \n",
       "52917            Gift Cards       1.0      25.00               0.0   \n",
       "52918            Gift Cards       1.0      25.00               0.0   \n",
       "52919            Gift Cards       1.0     250.00               0.0   \n",
       "52920            Gift Cards       1.0      25.00               0.0   \n",
       "52921  Notebooks & Journals       1.0      10.80               6.0   \n",
       "52922  Notebooks & Journals       1.0       9.60               6.0   \n",
       "52923  Notebooks & Journals       1.0       5.59               6.5   \n",
       "\n",
       "      Coupon_Status   GST       Date  Offline_Spend  Online_Spend  Month  \\\n",
       "52914       Clicked  0.10 2019-01-29          700.0        836.13      1   \n",
       "52915       Clicked  0.05 2019-03-22         2000.0       2523.41      3   \n",
       "52916          Used  0.05 2019-03-22         2000.0       2523.41      3   \n",
       "52917       Clicked  0.05 2019-03-22         2000.0       2523.41      3   \n",
       "52918       Clicked  0.05 2019-03-22         2000.0       2523.41      3   \n",
       "52919       Clicked  0.05 2019-03-10         2500.0       1294.22      3   \n",
       "52920          Used  0.05 2019-03-28         2000.0       1066.12      3   \n",
       "52921       Clicked  0.05 2019-10-06         3000.0       2230.76     10   \n",
       "52922          Used  0.05 2019-10-06         3000.0       2230.76     10   \n",
       "52923      Not Used  0.05 2019-10-06         3000.0       2230.76     10   \n",
       "\n",
       "      Coupon_Code  Discount_pct  \n",
       "52914       ACC10          10.0  \n",
       "52915        GC30          30.0  \n",
       "52916        GC30          30.0  \n",
       "52917        GC30          30.0  \n",
       "52918        GC30          30.0  \n",
       "52919        GC30          30.0  \n",
       "52920        GC30          30.0  \n",
       "52921        NJ10          10.0  \n",
       "52922        NJ10          10.0  \n",
       "52923        NJ10          10.0  "
      ]
     },
     "execution_count": 49,
     "metadata": {},
     "output_type": "execute_result"
    }
   ],
   "source": [
    "sales.tail(10)"
   ]
  },
  {
   "cell_type": "markdown",
   "id": "8be444f1-3a43-4cd6-8a7b-93df29308235",
   "metadata": {},
   "source": [
    "We also saw that there are missing data in `Coupon_Code` and `Discount_pct`. We should somehow handle them. As it is always the case, we must consider the business strategy on how to handle them. Some might say that we could drop them, or fill them in some way. In this case, we can fill them with a value. We can do that with the `fillna` method. There are **many** methods we can use to fill in those missing data. From simple things such as giving a single value, to even more complicated methods such as interpolation or regression algorithms. Nevertheless, since there isn't any reason to do something complicated in this case, we can practically assign a single value like 'NOCOUP0' to the `Coupon_Code` and 0 to `Discount_pct`."
   ]
  },
  {
   "cell_type": "code",
   "execution_count": 50,
   "id": "730033ee-75f3-4500-b134-b80b10f3b2b8",
   "metadata": {},
   "outputs": [],
   "source": [
    "sales.fillna({\n",
    "    'Coupon_Code': 'NOCOUP0',\n",
    "    'Discount_pct': 0.0\n",
    "}, inplace=True)"
   ]
  },
  {
   "cell_type": "code",
   "execution_count": 51,
   "id": "df59be14-ff81-4465-836a-62dc8fc70ea0",
   "metadata": {},
   "outputs": [
    {
     "data": {
      "text/plain": [
       "Coupon_Code     0\n",
       "Discount_pct    0\n",
       "dtype: int64"
      ]
     },
     "execution_count": 51,
     "metadata": {},
     "output_type": "execute_result"
    }
   ],
   "source": [
    "sales.loc[:, ['Coupon_Code', 'Discount_pct']].isna().sum()"
   ]
  },
  {
   "cell_type": "markdown",
   "id": "d747526f-b579-41cc-88cd-2898e95a2b31",
   "metadata": {},
   "source": [
    "### Descriptive Statistics\n",
    "`pandas` offers all sorts of statistical functions, such as `mean` for the average, `std` for standard deviation, and so on and so forth. Be careful **NOT to apply** function on the wrong data types. Usually you should **separate** the arithmetic columns and the categorical columns if you want to apply a statistical function."
   ]
  },
  {
   "cell_type": "code",
   "execution_count": 52,
   "id": "40f29ce8-b382-4c99-a8f0-5f353004ac4d",
   "metadata": {},
   "outputs": [
    {
     "data": {
      "text/plain": [
       "4.497638122590885"
      ]
     },
     "execution_count": 52,
     "metadata": {},
     "output_type": "execute_result"
    }
   ],
   "source": [
    "sales.Quantity.mean()"
   ]
  },
  {
   "cell_type": "code",
   "execution_count": 53,
   "id": "f2f9c03b-1dc1-4171-b701-0b4811c3a279",
   "metadata": {},
   "outputs": [
    {
     "data": {
      "text/plain": [
       "(16.99, 4096.880891960912)"
      ]
     },
     "execution_count": 53,
     "metadata": {},
     "output_type": "execute_result"
    }
   ],
   "source": [
    "sales.Avg_Price.median(), sales.Avg_Price.var()"
   ]
  },
  {
   "cell_type": "code",
   "execution_count": 54,
   "id": "720646ed-2a65-481d-be25-9c9e17e43678",
   "metadata": {},
   "outputs": [
    {
     "data": {
      "text/html": [
       "<div>\n",
       "<style scoped>\n",
       "    .dataframe tbody tr th:only-of-type {\n",
       "        vertical-align: middle;\n",
       "    }\n",
       "\n",
       "    .dataframe tbody tr th {\n",
       "        vertical-align: top;\n",
       "    }\n",
       "\n",
       "    .dataframe thead th {\n",
       "        text-align: right;\n",
       "    }\n",
       "</style>\n",
       "<table border=\"1\" class=\"dataframe\">\n",
       "  <thead>\n",
       "    <tr style=\"text-align: right;\">\n",
       "      <th></th>\n",
       "      <th>Offline_Spend</th>\n",
       "      <th>Online_Spend</th>\n",
       "    </tr>\n",
       "  </thead>\n",
       "  <tbody>\n",
       "    <tr>\n",
       "      <th>mean</th>\n",
       "      <td>2830.914141</td>\n",
       "      <td>1893.109119</td>\n",
       "    </tr>\n",
       "    <tr>\n",
       "      <th>std</th>\n",
       "      <td>936.154247</td>\n",
       "      <td>807.014092</td>\n",
       "    </tr>\n",
       "  </tbody>\n",
       "</table>\n",
       "</div>"
      ],
      "text/plain": [
       "      Offline_Spend  Online_Spend\n",
       "mean    2830.914141   1893.109119\n",
       "std      936.154247    807.014092"
      ]
     },
     "execution_count": 54,
     "metadata": {},
     "output_type": "execute_result"
    }
   ],
   "source": [
    "sales.loc[:, ['Offline_Spend', 'Online_Spend']].apply(['mean', 'std'])"
   ]
  },
  {
   "cell_type": "markdown",
   "id": "aa143962-bb90-471f-9a55-95f4e5e6e88e",
   "metadata": {},
   "source": [
    "With `apply`, you can give several functions, or/and even custom ones, and apply it to the DataFrame or the subset of columns in the DataFrame. But doing all of this to just get some statistics is a bit of a fuss. Fortunately, `pandas` provides a method that can **quickly** give us an idea of what's happening, using the `describe` method."
   ]
  },
  {
   "cell_type": "code",
   "execution_count": 55,
   "id": "f39d7fd8-0037-44fa-b928-88370326dfe9",
   "metadata": {},
   "outputs": [
    {
     "data": {
      "text/html": [
       "<div>\n",
       "<style scoped>\n",
       "    .dataframe tbody tr th:only-of-type {\n",
       "        vertical-align: middle;\n",
       "    }\n",
       "\n",
       "    .dataframe tbody tr th {\n",
       "        vertical-align: top;\n",
       "    }\n",
       "\n",
       "    .dataframe thead th {\n",
       "        text-align: right;\n",
       "    }\n",
       "</style>\n",
       "<table border=\"1\" class=\"dataframe\">\n",
       "  <thead>\n",
       "    <tr style=\"text-align: right;\">\n",
       "      <th></th>\n",
       "      <th>CustomerID</th>\n",
       "      <th>Tenure_Months</th>\n",
       "      <th>Transaction_ID</th>\n",
       "      <th>Transaction_Date</th>\n",
       "      <th>Quantity</th>\n",
       "      <th>Avg_Price</th>\n",
       "      <th>Delivery_Charges</th>\n",
       "      <th>GST</th>\n",
       "      <th>Date</th>\n",
       "      <th>Offline_Spend</th>\n",
       "      <th>Online_Spend</th>\n",
       "      <th>Month</th>\n",
       "      <th>Discount_pct</th>\n",
       "    </tr>\n",
       "  </thead>\n",
       "  <tbody>\n",
       "    <tr>\n",
       "      <th>count</th>\n",
       "      <td>52924.00000</td>\n",
       "      <td>52924.000000</td>\n",
       "      <td>52924.000000</td>\n",
       "      <td>52924</td>\n",
       "      <td>52924.000000</td>\n",
       "      <td>52924.000000</td>\n",
       "      <td>52924.000000</td>\n",
       "      <td>52924.000000</td>\n",
       "      <td>52924</td>\n",
       "      <td>52924.000000</td>\n",
       "      <td>52924.000000</td>\n",
       "      <td>52924.000000</td>\n",
       "      <td>52924.000000</td>\n",
       "    </tr>\n",
       "    <tr>\n",
       "      <th>mean</th>\n",
       "      <td>15346.70981</td>\n",
       "      <td>26.127995</td>\n",
       "      <td>32409.825675</td>\n",
       "      <td>2019-07-05 19:16:09.450533120</td>\n",
       "      <td>4.497638</td>\n",
       "      <td>52.237646</td>\n",
       "      <td>10.517630</td>\n",
       "      <td>0.137462</td>\n",
       "      <td>2019-07-05 19:16:09.450533120</td>\n",
       "      <td>2830.914141</td>\n",
       "      <td>1893.109119</td>\n",
       "      <td>6.652388</td>\n",
       "      <td>19.802358</td>\n",
       "    </tr>\n",
       "    <tr>\n",
       "      <th>min</th>\n",
       "      <td>12346.00000</td>\n",
       "      <td>2.000000</td>\n",
       "      <td>16679.000000</td>\n",
       "      <td>2019-01-01 00:00:00</td>\n",
       "      <td>1.000000</td>\n",
       "      <td>0.390000</td>\n",
       "      <td>0.000000</td>\n",
       "      <td>0.050000</td>\n",
       "      <td>2019-01-01 00:00:00</td>\n",
       "      <td>500.000000</td>\n",
       "      <td>320.250000</td>\n",
       "      <td>1.000000</td>\n",
       "      <td>0.000000</td>\n",
       "    </tr>\n",
       "    <tr>\n",
       "      <th>25%</th>\n",
       "      <td>13869.00000</td>\n",
       "      <td>15.000000</td>\n",
       "      <td>25384.000000</td>\n",
       "      <td>2019-04-12 00:00:00</td>\n",
       "      <td>1.000000</td>\n",
       "      <td>5.700000</td>\n",
       "      <td>6.000000</td>\n",
       "      <td>0.100000</td>\n",
       "      <td>2019-04-12 00:00:00</td>\n",
       "      <td>2500.000000</td>\n",
       "      <td>1252.630000</td>\n",
       "      <td>4.000000</td>\n",
       "      <td>10.000000</td>\n",
       "    </tr>\n",
       "    <tr>\n",
       "      <th>50%</th>\n",
       "      <td>15311.00000</td>\n",
       "      <td>27.000000</td>\n",
       "      <td>32625.500000</td>\n",
       "      <td>2019-07-13 00:00:00</td>\n",
       "      <td>1.000000</td>\n",
       "      <td>16.990000</td>\n",
       "      <td>6.000000</td>\n",
       "      <td>0.180000</td>\n",
       "      <td>2019-07-13 00:00:00</td>\n",
       "      <td>3000.000000</td>\n",
       "      <td>1837.870000</td>\n",
       "      <td>7.000000</td>\n",
       "      <td>20.000000</td>\n",
       "    </tr>\n",
       "    <tr>\n",
       "      <th>75%</th>\n",
       "      <td>16996.25000</td>\n",
       "      <td>37.000000</td>\n",
       "      <td>39126.250000</td>\n",
       "      <td>2019-09-27 00:00:00</td>\n",
       "      <td>2.000000</td>\n",
       "      <td>102.130000</td>\n",
       "      <td>6.500000</td>\n",
       "      <td>0.180000</td>\n",
       "      <td>2019-09-27 00:00:00</td>\n",
       "      <td>3500.000000</td>\n",
       "      <td>2425.350000</td>\n",
       "      <td>9.000000</td>\n",
       "      <td>30.000000</td>\n",
       "    </tr>\n",
       "    <tr>\n",
       "      <th>max</th>\n",
       "      <td>18283.00000</td>\n",
       "      <td>50.000000</td>\n",
       "      <td>48497.000000</td>\n",
       "      <td>2019-12-31 00:00:00</td>\n",
       "      <td>900.000000</td>\n",
       "      <td>355.740000</td>\n",
       "      <td>521.360000</td>\n",
       "      <td>0.180000</td>\n",
       "      <td>2019-12-31 00:00:00</td>\n",
       "      <td>5000.000000</td>\n",
       "      <td>4556.930000</td>\n",
       "      <td>12.000000</td>\n",
       "      <td>30.000000</td>\n",
       "    </tr>\n",
       "    <tr>\n",
       "      <th>std</th>\n",
       "      <td>1766.55602</td>\n",
       "      <td>13.478285</td>\n",
       "      <td>8648.668977</td>\n",
       "      <td>NaN</td>\n",
       "      <td>20.104711</td>\n",
       "      <td>64.006882</td>\n",
       "      <td>19.475613</td>\n",
       "      <td>0.045825</td>\n",
       "      <td>NaN</td>\n",
       "      <td>936.154247</td>\n",
       "      <td>807.014092</td>\n",
       "      <td>3.333364</td>\n",
       "      <td>8.278878</td>\n",
       "    </tr>\n",
       "  </tbody>\n",
       "</table>\n",
       "</div>"
      ],
      "text/plain": [
       "        CustomerID  Tenure_Months  Transaction_ID  \\\n",
       "count  52924.00000   52924.000000    52924.000000   \n",
       "mean   15346.70981      26.127995    32409.825675   \n",
       "min    12346.00000       2.000000    16679.000000   \n",
       "25%    13869.00000      15.000000    25384.000000   \n",
       "50%    15311.00000      27.000000    32625.500000   \n",
       "75%    16996.25000      37.000000    39126.250000   \n",
       "max    18283.00000      50.000000    48497.000000   \n",
       "std     1766.55602      13.478285     8648.668977   \n",
       "\n",
       "                    Transaction_Date      Quantity     Avg_Price  \\\n",
       "count                          52924  52924.000000  52924.000000   \n",
       "mean   2019-07-05 19:16:09.450533120      4.497638     52.237646   \n",
       "min              2019-01-01 00:00:00      1.000000      0.390000   \n",
       "25%              2019-04-12 00:00:00      1.000000      5.700000   \n",
       "50%              2019-07-13 00:00:00      1.000000     16.990000   \n",
       "75%              2019-09-27 00:00:00      2.000000    102.130000   \n",
       "max              2019-12-31 00:00:00    900.000000    355.740000   \n",
       "std                              NaN     20.104711     64.006882   \n",
       "\n",
       "       Delivery_Charges           GST                           Date  \\\n",
       "count      52924.000000  52924.000000                          52924   \n",
       "mean          10.517630      0.137462  2019-07-05 19:16:09.450533120   \n",
       "min            0.000000      0.050000            2019-01-01 00:00:00   \n",
       "25%            6.000000      0.100000            2019-04-12 00:00:00   \n",
       "50%            6.000000      0.180000            2019-07-13 00:00:00   \n",
       "75%            6.500000      0.180000            2019-09-27 00:00:00   \n",
       "max          521.360000      0.180000            2019-12-31 00:00:00   \n",
       "std           19.475613      0.045825                            NaN   \n",
       "\n",
       "       Offline_Spend  Online_Spend         Month  Discount_pct  \n",
       "count   52924.000000  52924.000000  52924.000000  52924.000000  \n",
       "mean     2830.914141   1893.109119      6.652388     19.802358  \n",
       "min       500.000000    320.250000      1.000000      0.000000  \n",
       "25%      2500.000000   1252.630000      4.000000     10.000000  \n",
       "50%      3000.000000   1837.870000      7.000000     20.000000  \n",
       "75%      3500.000000   2425.350000      9.000000     30.000000  \n",
       "max      5000.000000   4556.930000     12.000000     30.000000  \n",
       "std       936.154247    807.014092      3.333364      8.278878  "
      ]
     },
     "execution_count": 55,
     "metadata": {},
     "output_type": "execute_result"
    }
   ],
   "source": [
    "sales.describe()"
   ]
  },
  {
   "cell_type": "markdown",
   "id": "964a76c0-344f-4dcf-878a-773953522e8b",
   "metadata": {},
   "source": [
    "You can also use `describe` on categorical columns, which obviously have different statistics."
   ]
  },
  {
   "cell_type": "code",
   "execution_count": 56,
   "id": "f0bcf14a-571f-4387-8e4a-51869ba6649e",
   "metadata": {},
   "outputs": [
    {
     "data": {
      "text/html": [
       "<div>\n",
       "<style scoped>\n",
       "    .dataframe tbody tr th:only-of-type {\n",
       "        vertical-align: middle;\n",
       "    }\n",
       "\n",
       "    .dataframe tbody tr th {\n",
       "        vertical-align: top;\n",
       "    }\n",
       "\n",
       "    .dataframe thead th {\n",
       "        text-align: right;\n",
       "    }\n",
       "</style>\n",
       "<table border=\"1\" class=\"dataframe\">\n",
       "  <thead>\n",
       "    <tr style=\"text-align: right;\">\n",
       "      <th></th>\n",
       "      <th>Product_Category</th>\n",
       "      <th>Coupon_Status</th>\n",
       "      <th>Coupon_Code</th>\n",
       "    </tr>\n",
       "  </thead>\n",
       "  <tbody>\n",
       "    <tr>\n",
       "      <th>count</th>\n",
       "      <td>52924</td>\n",
       "      <td>52924</td>\n",
       "      <td>52924</td>\n",
       "    </tr>\n",
       "    <tr>\n",
       "      <th>unique</th>\n",
       "      <td>20</td>\n",
       "      <td>3</td>\n",
       "      <td>46</td>\n",
       "    </tr>\n",
       "    <tr>\n",
       "      <th>top</th>\n",
       "      <td>Apparel</td>\n",
       "      <td>Clicked</td>\n",
       "      <td>SALE20</td>\n",
       "    </tr>\n",
       "    <tr>\n",
       "      <th>freq</th>\n",
       "      <td>18126</td>\n",
       "      <td>26926</td>\n",
       "      <td>6373</td>\n",
       "    </tr>\n",
       "  </tbody>\n",
       "</table>\n",
       "</div>"
      ],
      "text/plain": [
       "       Product_Category Coupon_Status Coupon_Code\n",
       "count             52924         52924       52924\n",
       "unique               20             3          46\n",
       "top             Apparel       Clicked      SALE20\n",
       "freq              18126         26926        6373"
      ]
     },
     "execution_count": 56,
     "metadata": {},
     "output_type": "execute_result"
    }
   ],
   "source": [
    "sales.loc[:, ['Product_Category', 'Coupon_Status', 'Coupon_Code']].describe()"
   ]
  },
  {
   "cell_type": "markdown",
   "id": "0864a48d-b581-4356-b2af-cb9a2ad1df7f",
   "metadata": {},
   "source": [
    "Other methods you can use that give you useful insight are `unique` and `value_counts`. `unique` returns an **array of unique values**. `value_counts` returns a Series with the **unique values** as the labels and the **number of occurences** as values."
   ]
  },
  {
   "cell_type": "code",
   "execution_count": 57,
   "id": "eb251763-5dcf-41ed-ba81-4d9e7866b4a3",
   "metadata": {},
   "outputs": [
    {
     "data": {
      "text/plain": [
       "array(['Nest-USA', 'Office', 'Apparel', 'Bags', 'Drinkware', 'Lifestyle',\n",
       "       'Waze', 'Headgear', 'Fun', 'Notebooks & Journals', 'Google',\n",
       "       'Nest-Canada', 'Bottles', 'Gift Cards', 'More Bags', 'Backpacks',\n",
       "       'Housewares', 'Android', 'Nest', 'Accessories'], dtype=object)"
      ]
     },
     "execution_count": 57,
     "metadata": {},
     "output_type": "execute_result"
    }
   ],
   "source": [
    "sales['Product_Category'].unique()"
   ]
  },
  {
   "cell_type": "code",
   "execution_count": 58,
   "id": "1a69c775-0fef-4a52-9629-017b90f64963",
   "metadata": {},
   "outputs": [
    {
     "data": {
      "text/plain": [
       "Product_Category\n",
       "Apparel                 18126\n",
       "Nest-USA                14013\n",
       "Office                   6513\n",
       "Drinkware                3483\n",
       "Lifestyle                3092\n",
       "Nest                     2198\n",
       "Bags                     1882\n",
       "Headgear                  771\n",
       "Notebooks & Journals      749\n",
       "Waze                      554\n",
       "Nest-Canada               317\n",
       "Bottles                   268\n",
       "Accessories               234\n",
       "Fun                       160\n",
       "Gift Cards                159\n",
       "Housewares                122\n",
       "Google                    105\n",
       "Backpacks                  89\n",
       "More Bags                  46\n",
       "Android                    43\n",
       "Name: count, dtype: int64"
      ]
     },
     "execution_count": 58,
     "metadata": {},
     "output_type": "execute_result"
    }
   ],
   "source": [
    "sales['Product_Category'].value_counts()"
   ]
  },
  {
   "cell_type": "markdown",
   "id": "7979ec4a-439c-4d66-a236-bd60f85d0d46",
   "metadata": {},
   "source": [
    "Note that when we used `describe`, the top product category was Apparel with 18126 occurences."
   ]
  },
  {
   "cell_type": "markdown",
   "id": "b1e6ca6a-b30a-4aa4-9e3b-3d23c3db5473",
   "metadata": {},
   "source": [
    "### Dropping and renaming columns"
   ]
  },
  {
   "cell_type": "markdown",
   "id": "0514cc16-f860-4eb6-9931-6db295f9b149",
   "metadata": {},
   "source": [
    "Sometimes a dataset might contain columns that are not necessary for analysis, and you would like to throw them away. For this case, pandas provides the `drop` method allowing you to drop rows or columns depending on the index (again, playing with the *axis* parameter). There are also `index` and `columns` parameters to make things easier. In this case we have the number of month which isn't that useful (it can be, but let's say it's not), and therefore we can drop it. We can also drop `Date` since it is actually `Transaction_Date`."
   ]
  },
  {
   "cell_type": "code",
   "execution_count": 59,
   "id": "d823937b-55dc-404f-9d2e-28f285f58c3f",
   "metadata": {},
   "outputs": [
    {
     "data": {
      "text/html": [
       "<div>\n",
       "<style scoped>\n",
       "    .dataframe tbody tr th:only-of-type {\n",
       "        vertical-align: middle;\n",
       "    }\n",
       "\n",
       "    .dataframe tbody tr th {\n",
       "        vertical-align: top;\n",
       "    }\n",
       "\n",
       "    .dataframe thead th {\n",
       "        text-align: right;\n",
       "    }\n",
       "</style>\n",
       "<table border=\"1\" class=\"dataframe\">\n",
       "  <thead>\n",
       "    <tr style=\"text-align: right;\">\n",
       "      <th></th>\n",
       "      <th>CustomerID</th>\n",
       "      <th>Gender</th>\n",
       "      <th>Location</th>\n",
       "      <th>Tenure_Months</th>\n",
       "      <th>Transaction_ID</th>\n",
       "      <th>Transaction_Date</th>\n",
       "      <th>Product_SKU</th>\n",
       "      <th>Product_Description</th>\n",
       "      <th>Product_Category</th>\n",
       "      <th>Quantity</th>\n",
       "      <th>Avg_Price</th>\n",
       "      <th>Delivery_Charges</th>\n",
       "      <th>Coupon_Status</th>\n",
       "      <th>GST</th>\n",
       "      <th>Offline_Spend</th>\n",
       "      <th>Online_Spend</th>\n",
       "      <th>Coupon_Code</th>\n",
       "      <th>Discount_pct</th>\n",
       "    </tr>\n",
       "  </thead>\n",
       "  <tbody>\n",
       "    <tr>\n",
       "      <th>0</th>\n",
       "      <td>17850.0</td>\n",
       "      <td>M</td>\n",
       "      <td>Chicago</td>\n",
       "      <td>12.0</td>\n",
       "      <td>16679.0</td>\n",
       "      <td>2019-01-01</td>\n",
       "      <td>GGOENEBJ079499</td>\n",
       "      <td>Nest Learning Thermostat 3rd Gen-USA - Stainle...</td>\n",
       "      <td>Nest-USA</td>\n",
       "      <td>1.0</td>\n",
       "      <td>153.71</td>\n",
       "      <td>6.5</td>\n",
       "      <td>Used</td>\n",
       "      <td>0.1</td>\n",
       "      <td>4500.0</td>\n",
       "      <td>2424.5</td>\n",
       "      <td>ELEC10</td>\n",
       "      <td>10.0</td>\n",
       "    </tr>\n",
       "    <tr>\n",
       "      <th>1</th>\n",
       "      <td>17850.0</td>\n",
       "      <td>M</td>\n",
       "      <td>Chicago</td>\n",
       "      <td>12.0</td>\n",
       "      <td>16680.0</td>\n",
       "      <td>2019-01-01</td>\n",
       "      <td>GGOENEBJ079499</td>\n",
       "      <td>Nest Learning Thermostat 3rd Gen-USA - Stainle...</td>\n",
       "      <td>Nest-USA</td>\n",
       "      <td>1.0</td>\n",
       "      <td>153.71</td>\n",
       "      <td>6.5</td>\n",
       "      <td>Used</td>\n",
       "      <td>0.1</td>\n",
       "      <td>4500.0</td>\n",
       "      <td>2424.5</td>\n",
       "      <td>ELEC10</td>\n",
       "      <td>10.0</td>\n",
       "    </tr>\n",
       "    <tr>\n",
       "      <th>2</th>\n",
       "      <td>17850.0</td>\n",
       "      <td>M</td>\n",
       "      <td>Chicago</td>\n",
       "      <td>12.0</td>\n",
       "      <td>16696.0</td>\n",
       "      <td>2019-01-01</td>\n",
       "      <td>GGOENEBQ078999</td>\n",
       "      <td>Nest Cam Outdoor Security Camera - USA</td>\n",
       "      <td>Nest-USA</td>\n",
       "      <td>2.0</td>\n",
       "      <td>122.77</td>\n",
       "      <td>6.5</td>\n",
       "      <td>Not Used</td>\n",
       "      <td>0.1</td>\n",
       "      <td>4500.0</td>\n",
       "      <td>2424.5</td>\n",
       "      <td>ELEC10</td>\n",
       "      <td>10.0</td>\n",
       "    </tr>\n",
       "    <tr>\n",
       "      <th>3</th>\n",
       "      <td>17850.0</td>\n",
       "      <td>M</td>\n",
       "      <td>Chicago</td>\n",
       "      <td>12.0</td>\n",
       "      <td>16699.0</td>\n",
       "      <td>2019-01-01</td>\n",
       "      <td>GGOENEBQ079099</td>\n",
       "      <td>Nest Protect Smoke + CO White Battery Alarm-USA</td>\n",
       "      <td>Nest-USA</td>\n",
       "      <td>1.0</td>\n",
       "      <td>81.50</td>\n",
       "      <td>6.5</td>\n",
       "      <td>Clicked</td>\n",
       "      <td>0.1</td>\n",
       "      <td>4500.0</td>\n",
       "      <td>2424.5</td>\n",
       "      <td>ELEC10</td>\n",
       "      <td>10.0</td>\n",
       "    </tr>\n",
       "    <tr>\n",
       "      <th>4</th>\n",
       "      <td>17850.0</td>\n",
       "      <td>M</td>\n",
       "      <td>Chicago</td>\n",
       "      <td>12.0</td>\n",
       "      <td>16700.0</td>\n",
       "      <td>2019-01-01</td>\n",
       "      <td>GGOENEBJ079499</td>\n",
       "      <td>Nest Learning Thermostat 3rd Gen-USA - Stainle...</td>\n",
       "      <td>Nest-USA</td>\n",
       "      <td>1.0</td>\n",
       "      <td>153.71</td>\n",
       "      <td>6.5</td>\n",
       "      <td>Clicked</td>\n",
       "      <td>0.1</td>\n",
       "      <td>4500.0</td>\n",
       "      <td>2424.5</td>\n",
       "      <td>ELEC10</td>\n",
       "      <td>10.0</td>\n",
       "    </tr>\n",
       "  </tbody>\n",
       "</table>\n",
       "</div>"
      ],
      "text/plain": [
       "   CustomerID Gender Location  Tenure_Months  Transaction_ID Transaction_Date  \\\n",
       "0     17850.0      M  Chicago           12.0         16679.0       2019-01-01   \n",
       "1     17850.0      M  Chicago           12.0         16680.0       2019-01-01   \n",
       "2     17850.0      M  Chicago           12.0         16696.0       2019-01-01   \n",
       "3     17850.0      M  Chicago           12.0         16699.0       2019-01-01   \n",
       "4     17850.0      M  Chicago           12.0         16700.0       2019-01-01   \n",
       "\n",
       "      Product_SKU                                Product_Description  \\\n",
       "0  GGOENEBJ079499  Nest Learning Thermostat 3rd Gen-USA - Stainle...   \n",
       "1  GGOENEBJ079499  Nest Learning Thermostat 3rd Gen-USA - Stainle...   \n",
       "2  GGOENEBQ078999             Nest Cam Outdoor Security Camera - USA   \n",
       "3  GGOENEBQ079099    Nest Protect Smoke + CO White Battery Alarm-USA   \n",
       "4  GGOENEBJ079499  Nest Learning Thermostat 3rd Gen-USA - Stainle...   \n",
       "\n",
       "  Product_Category  Quantity  Avg_Price  Delivery_Charges Coupon_Status  GST  \\\n",
       "0         Nest-USA       1.0     153.71               6.5          Used  0.1   \n",
       "1         Nest-USA       1.0     153.71               6.5          Used  0.1   \n",
       "2         Nest-USA       2.0     122.77               6.5      Not Used  0.1   \n",
       "3         Nest-USA       1.0      81.50               6.5       Clicked  0.1   \n",
       "4         Nest-USA       1.0     153.71               6.5       Clicked  0.1   \n",
       "\n",
       "   Offline_Spend  Online_Spend Coupon_Code  Discount_pct  \n",
       "0         4500.0        2424.5      ELEC10          10.0  \n",
       "1         4500.0        2424.5      ELEC10          10.0  \n",
       "2         4500.0        2424.5      ELEC10          10.0  \n",
       "3         4500.0        2424.5      ELEC10          10.0  \n",
       "4         4500.0        2424.5      ELEC10          10.0  "
      ]
     },
     "execution_count": 59,
     "metadata": {},
     "output_type": "execute_result"
    }
   ],
   "source": [
    "sales.drop(columns=['Month', 'Date'], inplace=True)\n",
    "sales.head()"
   ]
  },
  {
   "cell_type": "markdown",
   "id": "ace0a259-67e5-4dae-bc3a-3ece7bab6a56",
   "metadata": {},
   "source": [
    "Let's say that due to conventions, we have to keep the column names in lower case. We can use the `rename` method to change the name of **index** or **column labels** in various ways. One is to use a **dictionary** and explicitly define the new names, another one is to use a **defined function**, a **lambda function** etc."
   ]
  },
  {
   "cell_type": "code",
   "execution_count": 60,
   "id": "4943486b-0ae8-48bc-969d-88bec6c64589",
   "metadata": {},
   "outputs": [
    {
     "data": {
      "text/plain": [
       "Index(['customerid', 'gender', 'location', 'tenure_months', 'transaction_id',\n",
       "       'transaction_date', 'product_sku', 'product_description',\n",
       "       'product_category', 'quantity', 'avg_price', 'delivery_charges',\n",
       "       'coupon_status', 'gst', 'offline_spend', 'online_spend', 'coupon_code',\n",
       "       'discount_pct'],\n",
       "      dtype='object')"
      ]
     },
     "execution_count": 60,
     "metadata": {},
     "output_type": "execute_result"
    }
   ],
   "source": [
    "sales.rename(lambda x: x.lower(), axis=1, inplace=True)\n",
    "sales.columns"
   ]
  },
  {
   "cell_type": "code",
   "execution_count": 61,
   "id": "f4df2033-e7f7-42ff-8b1b-6e6b9e7a756a",
   "metadata": {},
   "outputs": [],
   "source": [
    "sales.rename(columns={'customerid': 'customer_id'}, inplace=True)"
   ]
  },
  {
   "cell_type": "markdown",
   "id": "6649b5f0-24c9-4191-bfd1-a8dac8ce6a94",
   "metadata": {},
   "source": [
    "### Dealing with str columns (Series)\n",
    "Similarly to Python strings, you can do many things with str columns in `pandas`. Those columns as we have said are actually `Series` objects. We also saw that we can transform values of column names to lowercase. Behind the scenes, it was in way, applying a function on a `Series` with the **object dtype**. `pandas` uses by default the object data type, however they **recommend using** their own `StringDtype`, which is still experimental though. You can learn more [here](https://pandas.pydata.org/docs/user_guide/text.html)."
   ]
  },
  {
   "cell_type": "markdown",
   "id": "17340371-e47d-4a8c-ba83-8675c2ec5b16",
   "metadata": {},
   "source": [
    "Let's take a look once more into the dtypes"
   ]
  },
  {
   "cell_type": "code",
   "execution_count": 62,
   "id": "1df377c3-3294-4586-a091-fb9e47d0be3d",
   "metadata": {},
   "outputs": [
    {
     "data": {
      "text/plain": [
       "customer_id                   float64\n",
       "gender                         object\n",
       "location                       object\n",
       "tenure_months                 float64\n",
       "transaction_id                float64\n",
       "transaction_date       datetime64[ns]\n",
       "product_sku                    object\n",
       "product_description            object\n",
       "product_category               object\n",
       "quantity                      float64\n",
       "avg_price                     float64\n",
       "delivery_charges              float64\n",
       "coupon_status                  object\n",
       "gst                           float64\n",
       "offline_spend                 float64\n",
       "online_spend                  float64\n",
       "coupon_code                    object\n",
       "discount_pct                  float64\n",
       "dtype: object"
      ]
     },
     "execution_count": 62,
     "metadata": {},
     "output_type": "execute_result"
    }
   ],
   "source": [
    "sales.dtypes"
   ]
  },
  {
   "cell_type": "markdown",
   "id": "05ecb80e-5e37-4257-a0d3-993715a6593e",
   "metadata": {},
   "source": [
    "All of these object can be considered strings. We will use another method to explicitly cast them as `pd.StringDtype`, introducing `astype`."
   ]
  },
  {
   "cell_type": "code",
   "execution_count": 63,
   "id": "ad458587-66d8-4cce-9519-4aaaa88c5abc",
   "metadata": {},
   "outputs": [],
   "source": [
    "columns = ['gender', 'location', 'product_sku', 'product_description', 'product_category', 'coupon_status', 'coupon_code']\n",
    "sales = sales.astype({col: pd.StringDtype() for col in columns})"
   ]
  },
  {
   "cell_type": "code",
   "execution_count": 64,
   "id": "7108faf3-01a7-48aa-a04c-a73718f7ab4a",
   "metadata": {},
   "outputs": [
    {
     "data": {
      "text/plain": [
       "customer_id                   float64\n",
       "gender                 string[python]\n",
       "location               string[python]\n",
       "tenure_months                 float64\n",
       "transaction_id                float64\n",
       "transaction_date       datetime64[ns]\n",
       "product_sku            string[python]\n",
       "product_description    string[python]\n",
       "product_category       string[python]\n",
       "quantity                      float64\n",
       "avg_price                     float64\n",
       "delivery_charges              float64\n",
       "coupon_status          string[python]\n",
       "gst                           float64\n",
       "offline_spend                 float64\n",
       "online_spend                  float64\n",
       "coupon_code            string[python]\n",
       "discount_pct                  float64\n",
       "dtype: object"
      ]
     },
     "execution_count": 64,
     "metadata": {},
     "output_type": "execute_result"
    }
   ],
   "source": [
    "sales.dtypes"
   ]
  },
  {
   "cell_type": "markdown",
   "id": "b911d07a-9423-42a8-b093-39fc920ace47",
   "metadata": {},
   "source": [
    "We will showcase some string methods to see what we can do with those. We saw earlier how to lowercase a string values. We can also transform them to **uppercase** or even **title** them! Here we will use a dummy example to show them. To access string methods you simply have to use the `.str` accessor."
   ]
  },
  {
   "cell_type": "code",
   "execution_count": 65,
   "id": "37511594-bf19-46ea-9422-ff5bf2d9b152",
   "metadata": {},
   "outputs": [],
   "source": [
    "sentences = ['The quick brown fox jumps over the lazy dog.   ',\n",
    "             '   He didn’t want to go to the dentist, yet he went anyway.',\n",
    "             \"  It's a skateboarding penguin with a sunhat!        \",\n",
    "             \"I’m a living furnace.     \",\n",
    "             \"              She couldn't decide of the glass was half empty or half full so she drank it.      \"]\n",
    "ser_sent = pd.Series(data=sentences, name='sentence', dtype='string')"
   ]
  },
  {
   "cell_type": "code",
   "execution_count": 66,
   "id": "6c354ee6-34bc-4b80-9fa1-8e24357d8f17",
   "metadata": {},
   "outputs": [
    {
     "data": {
      "text/plain": [
       "0      the quick brown fox jumps over the lazy dog.   \n",
       "1       he didn’t want to go to the dentist, yet he...\n",
       "2      it's a skateboarding penguin with a sunhat! ...\n",
       "3                           i’m a living furnace.     \n",
       "4                  she couldn't decide of the glass...\n",
       "Name: sentence, dtype: string"
      ]
     },
     "execution_count": 66,
     "metadata": {},
     "output_type": "execute_result"
    }
   ],
   "source": [
    "ser_sent.str.lower()"
   ]
  },
  {
   "cell_type": "code",
   "execution_count": 67,
   "id": "5df3db68-9b3b-4d11-91e4-74da468f9210",
   "metadata": {},
   "outputs": [
    {
     "data": {
      "text/plain": [
       "0      THE QUICK BROWN FOX JUMPS OVER THE LAZY DOG.   \n",
       "1       HE DIDN’T WANT TO GO TO THE DENTIST, YET HE...\n",
       "2      IT'S A SKATEBOARDING PENGUIN WITH A SUNHAT! ...\n",
       "3                           I’M A LIVING FURNACE.     \n",
       "4                  SHE COULDN'T DECIDE OF THE GLASS...\n",
       "Name: sentence, dtype: string"
      ]
     },
     "execution_count": 67,
     "metadata": {},
     "output_type": "execute_result"
    }
   ],
   "source": [
    "ser_sent.str.upper()"
   ]
  },
  {
   "cell_type": "code",
   "execution_count": 68,
   "id": "1476b6d9-4a48-4e4f-9f1b-384057ceb084",
   "metadata": {},
   "outputs": [
    {
     "data": {
      "text/plain": [
       "0      The Quick Brown Fox Jumps Over The Lazy Dog.   \n",
       "1       He Didn’T Want To Go To The Dentist, Yet He...\n",
       "2      It'S A Skateboarding Penguin With A Sunhat! ...\n",
       "3                           I’M A Living Furnace.     \n",
       "4                  She Couldn'T Decide Of The Glass...\n",
       "Name: sentence, dtype: string"
      ]
     },
     "execution_count": 68,
     "metadata": {},
     "output_type": "execute_result"
    }
   ],
   "source": [
    "ser_sent.str.title()"
   ]
  },
  {
   "cell_type": "markdown",
   "id": "acb06dd8-b978-4460-a3b2-cb3219fd9a3e",
   "metadata": {},
   "source": [
    "`.str` can also be used to **slice** the Series, like we saw earlier."
   ]
  },
  {
   "cell_type": "code",
   "execution_count": 69,
   "id": "712f60ad-4ede-4852-97e6-a894d0ed4265",
   "metadata": {},
   "outputs": [
    {
     "data": {
      "text/plain": [
       "0     quick br\n",
       "1    He didn’t\n",
       "2    t's a ska\n",
       "3     a living\n",
       "4             \n",
       "Name: sentence, dtype: string"
      ]
     },
     "execution_count": 69,
     "metadata": {},
     "output_type": "execute_result"
    }
   ],
   "source": [
    "ser_sent.str[3:12]"
   ]
  },
  {
   "cell_type": "code",
   "execution_count": 70,
   "id": "ccfd4e7d-93c9-41b3-9c72-992068abf710",
   "metadata": {},
   "outputs": [
    {
     "data": {
      "text/plain": [
       "0    a\n",
       "1    e\n",
       "2    a\n",
       "3    r\n",
       "4    k\n",
       "Name: sentence, dtype: string"
      ]
     },
     "execution_count": 70,
     "metadata": {},
     "output_type": "execute_result"
    }
   ],
   "source": [
    "ser_sent.str[-11]"
   ]
  },
  {
   "cell_type": "markdown",
   "id": "d75b0014-b089-461e-a780-b34a02c043f2",
   "metadata": {},
   "source": [
    "Another thing we can do is to trim characters (like spaces by default) from either side **separately** or at the **same time** using `lstrip`|`rstrip` or `strip` respectively."
   ]
  },
  {
   "cell_type": "code",
   "execution_count": 71,
   "id": "6ff2dc42-1576-4af1-bb82-0534c44f4eca",
   "metadata": {},
   "outputs": [
    {
     "data": {
      "text/plain": [
       "0      The quick brown fox jumps over the lazy dog.   \n",
       "1    He didn’t want to go to the dentist, yet he we...\n",
       "2    It's a skateboarding penguin with a sunhat!   ...\n",
       "3                           I’m a living furnace.     \n",
       "4    She couldn't decide of the glass was half empt...\n",
       "Name: sentence, dtype: string"
      ]
     },
     "execution_count": 71,
     "metadata": {},
     "output_type": "execute_result"
    }
   ],
   "source": [
    "ser_sent.str.lstrip()"
   ]
  },
  {
   "cell_type": "code",
   "execution_count": 72,
   "id": "93c1a9b3-20d4-4710-a88b-3ba54599949d",
   "metadata": {},
   "outputs": [
    {
     "data": {
      "text/plain": [
       "0         The quick brown fox jumps over the lazy dog.\n",
       "1       He didn’t want to go to the dentist, yet he...\n",
       "2          It's a skateboarding penguin with a sunhat!\n",
       "3                                I’m a living furnace.\n",
       "4                  She couldn't decide of the glass...\n",
       "Name: sentence, dtype: string"
      ]
     },
     "execution_count": 72,
     "metadata": {},
     "output_type": "execute_result"
    }
   ],
   "source": [
    "ser_sent.str.rstrip()"
   ]
  },
  {
   "cell_type": "code",
   "execution_count": 73,
   "id": "b84fd89e-ceda-4e29-93aa-2c581640790a",
   "metadata": {},
   "outputs": [
    {
     "data": {
      "text/plain": [
       "0         The quick brown fox jumps over the lazy dog.\n",
       "1    He didn’t want to go to the dentist, yet he we...\n",
       "2          It's a skateboarding penguin with a sunhat!\n",
       "3                                I’m a living furnace.\n",
       "4    She couldn't decide of the glass was half empt...\n",
       "Name: sentence, dtype: string"
      ]
     },
     "execution_count": 73,
     "metadata": {},
     "output_type": "execute_result"
    }
   ],
   "source": [
    "ser_sent.str.strip()"
   ]
  },
  {
   "cell_type": "markdown",
   "id": "f4ee90f3-4af8-4e53-a1dd-aabd74a92e67",
   "metadata": {},
   "source": [
    "Up next we will take a look into the `split` method which does what the name implies. We will use an emails' example from McKinsey's book! We will use a **regular expression** to do the splitting. Regular expressions are a different chapter own their own, but should you master them, they will make your **life easier**! Here is a [tutorial](https://regexone.com) on regular expressions. Also you can test your regular expressions [here](https://regex101.com)."
   ]
  },
  {
   "cell_type": "code",
   "execution_count": 74,
   "id": "7724e35d-06de-41c3-87df-9323e23dcea5",
   "metadata": {},
   "outputs": [],
   "source": [
    "emails = {\"Dave\": \"dave@google.com\", \"Steve\": \"steve@gmail.com\", \"Rob\": \"rob@gmail.com\", \"Wes\": np.nan}\n",
    "emails = pd.Series(emails)"
   ]
  },
  {
   "cell_type": "markdown",
   "id": "36f51389-1fad-4be4-8ae5-6d1fecd6f7eb",
   "metadata": {},
   "source": [
    "We want to get the username and the domain name in broken down by the '.'"
   ]
  },
  {
   "cell_type": "code",
   "execution_count": 75,
   "id": "30dd5303-41b5-4c48-b34d-16556b0a3eda",
   "metadata": {},
   "outputs": [
    {
     "data": {
      "text/plain": [
       "Dave     [dave, google, com]\n",
       "Steve    [steve, gmail, com]\n",
       "Rob        [rob, gmail, com]\n",
       "Wes                      NaN\n",
       "dtype: object"
      ]
     },
     "execution_count": 75,
     "metadata": {},
     "output_type": "execute_result"
    }
   ],
   "source": [
    "import re\n",
    "pattern = re.compile(r'@|\\.')\n",
    "emails.str.split(pattern)"
   ]
  },
  {
   "cell_type": "markdown",
   "id": "8f1a5e97-a920-4cef-9592-3aa3b5819832",
   "metadata": {},
   "source": [
    "Let's go back to our dataset to check one more string method. The coupon codes have actually two parts. The first one contains the coupon category, or we might say the promotion campaign, while the second one is the percentage of discount. You might remember we filled null values as NOCOUP0. We did that to have the same format as the rest of the coupons!"
   ]
  },
  {
   "cell_type": "code",
   "execution_count": 76,
   "id": "ae40e7fb-81f1-456e-a02a-95d2adac06a8",
   "metadata": {},
   "outputs": [
    {
     "data": {
      "text/plain": [
       "<StringArray>\n",
       "[ 'ELEC10',   'OFF10',  'SALE10',   'AIO10', 'EXTRA10',  'WEMP10', 'HGEAR10',\n",
       " 'NOCOUP0',    'NJ10',   'NCA10',    'BT10',    'GC10',   'HOU10',   'AND10',\n",
       "  'ELEC30',   'OFF30',  'SALE30',   'AIO30', 'EXTRA30',  'WEMP30', 'HGEAR30',\n",
       "    'NJ30',    'NE30',   'ACC30',  'ELEC20',   'OFF20',  'SALE20',   'AIO20',\n",
       " 'EXTRA20',  'WEMP20', 'HGEAR20',    'NJ20',   'NCA20',   'HOU20',    'BT20',\n",
       "   'ACC20',   'NCA30',   'HOU30',    'BT30',    'GC30',    'NE20',   'AND20',\n",
       "    'GC20',    'NE10',   'ACC10',   'AND30']\n",
       "Length: 46, dtype: string"
      ]
     },
     "execution_count": 76,
     "metadata": {},
     "output_type": "execute_result"
    }
   ],
   "source": [
    "sales.coupon_code.unique()"
   ]
  },
  {
   "cell_type": "markdown",
   "id": "1d1c9871-c137-42ad-bb65-a72c2f913f90",
   "metadata": {},
   "source": [
    "We will use the `extract` method to get the promotion campaign and then insert it into our DataFrame."
   ]
  },
  {
   "cell_type": "code",
   "execution_count": 77,
   "id": "5164fdd3-5da7-48af-8400-5e69054faeab",
   "metadata": {},
   "outputs": [
    {
     "data": {
      "text/html": [
       "<div>\n",
       "<style scoped>\n",
       "    .dataframe tbody tr th:only-of-type {\n",
       "        vertical-align: middle;\n",
       "    }\n",
       "\n",
       "    .dataframe tbody tr th {\n",
       "        vertical-align: top;\n",
       "    }\n",
       "\n",
       "    .dataframe thead th {\n",
       "        text-align: right;\n",
       "    }\n",
       "</style>\n",
       "<table border=\"1\" class=\"dataframe\">\n",
       "  <thead>\n",
       "    <tr style=\"text-align: right;\">\n",
       "      <th></th>\n",
       "      <th>customer_id</th>\n",
       "      <th>gender</th>\n",
       "      <th>location</th>\n",
       "      <th>tenure_months</th>\n",
       "      <th>transaction_id</th>\n",
       "      <th>transaction_date</th>\n",
       "      <th>product_sku</th>\n",
       "      <th>product_description</th>\n",
       "      <th>product_category</th>\n",
       "      <th>quantity</th>\n",
       "      <th>avg_price</th>\n",
       "      <th>delivery_charges</th>\n",
       "      <th>coupon_status</th>\n",
       "      <th>gst</th>\n",
       "      <th>offline_spend</th>\n",
       "      <th>online_spend</th>\n",
       "      <th>coupon_code</th>\n",
       "      <th>discount_pct</th>\n",
       "      <th>promotion_campaign</th>\n",
       "    </tr>\n",
       "  </thead>\n",
       "  <tbody>\n",
       "    <tr>\n",
       "      <th>0</th>\n",
       "      <td>17850.0</td>\n",
       "      <td>M</td>\n",
       "      <td>Chicago</td>\n",
       "      <td>12.0</td>\n",
       "      <td>16679.0</td>\n",
       "      <td>2019-01-01</td>\n",
       "      <td>GGOENEBJ079499</td>\n",
       "      <td>Nest Learning Thermostat 3rd Gen-USA - Stainle...</td>\n",
       "      <td>Nest-USA</td>\n",
       "      <td>1.0</td>\n",
       "      <td>153.71</td>\n",
       "      <td>6.5</td>\n",
       "      <td>Used</td>\n",
       "      <td>0.1</td>\n",
       "      <td>4500.0</td>\n",
       "      <td>2424.5</td>\n",
       "      <td>ELEC10</td>\n",
       "      <td>10.0</td>\n",
       "      <td>ELEC</td>\n",
       "    </tr>\n",
       "    <tr>\n",
       "      <th>1</th>\n",
       "      <td>17850.0</td>\n",
       "      <td>M</td>\n",
       "      <td>Chicago</td>\n",
       "      <td>12.0</td>\n",
       "      <td>16680.0</td>\n",
       "      <td>2019-01-01</td>\n",
       "      <td>GGOENEBJ079499</td>\n",
       "      <td>Nest Learning Thermostat 3rd Gen-USA - Stainle...</td>\n",
       "      <td>Nest-USA</td>\n",
       "      <td>1.0</td>\n",
       "      <td>153.71</td>\n",
       "      <td>6.5</td>\n",
       "      <td>Used</td>\n",
       "      <td>0.1</td>\n",
       "      <td>4500.0</td>\n",
       "      <td>2424.5</td>\n",
       "      <td>ELEC10</td>\n",
       "      <td>10.0</td>\n",
       "      <td>ELEC</td>\n",
       "    </tr>\n",
       "    <tr>\n",
       "      <th>2</th>\n",
       "      <td>17850.0</td>\n",
       "      <td>M</td>\n",
       "      <td>Chicago</td>\n",
       "      <td>12.0</td>\n",
       "      <td>16696.0</td>\n",
       "      <td>2019-01-01</td>\n",
       "      <td>GGOENEBQ078999</td>\n",
       "      <td>Nest Cam Outdoor Security Camera - USA</td>\n",
       "      <td>Nest-USA</td>\n",
       "      <td>2.0</td>\n",
       "      <td>122.77</td>\n",
       "      <td>6.5</td>\n",
       "      <td>Not Used</td>\n",
       "      <td>0.1</td>\n",
       "      <td>4500.0</td>\n",
       "      <td>2424.5</td>\n",
       "      <td>ELEC10</td>\n",
       "      <td>10.0</td>\n",
       "      <td>ELEC</td>\n",
       "    </tr>\n",
       "    <tr>\n",
       "      <th>3</th>\n",
       "      <td>17850.0</td>\n",
       "      <td>M</td>\n",
       "      <td>Chicago</td>\n",
       "      <td>12.0</td>\n",
       "      <td>16699.0</td>\n",
       "      <td>2019-01-01</td>\n",
       "      <td>GGOENEBQ079099</td>\n",
       "      <td>Nest Protect Smoke + CO White Battery Alarm-USA</td>\n",
       "      <td>Nest-USA</td>\n",
       "      <td>1.0</td>\n",
       "      <td>81.50</td>\n",
       "      <td>6.5</td>\n",
       "      <td>Clicked</td>\n",
       "      <td>0.1</td>\n",
       "      <td>4500.0</td>\n",
       "      <td>2424.5</td>\n",
       "      <td>ELEC10</td>\n",
       "      <td>10.0</td>\n",
       "      <td>ELEC</td>\n",
       "    </tr>\n",
       "    <tr>\n",
       "      <th>4</th>\n",
       "      <td>17850.0</td>\n",
       "      <td>M</td>\n",
       "      <td>Chicago</td>\n",
       "      <td>12.0</td>\n",
       "      <td>16700.0</td>\n",
       "      <td>2019-01-01</td>\n",
       "      <td>GGOENEBJ079499</td>\n",
       "      <td>Nest Learning Thermostat 3rd Gen-USA - Stainle...</td>\n",
       "      <td>Nest-USA</td>\n",
       "      <td>1.0</td>\n",
       "      <td>153.71</td>\n",
       "      <td>6.5</td>\n",
       "      <td>Clicked</td>\n",
       "      <td>0.1</td>\n",
       "      <td>4500.0</td>\n",
       "      <td>2424.5</td>\n",
       "      <td>ELEC10</td>\n",
       "      <td>10.0</td>\n",
       "      <td>ELEC</td>\n",
       "    </tr>\n",
       "  </tbody>\n",
       "</table>\n",
       "</div>"
      ],
      "text/plain": [
       "   customer_id gender location  tenure_months  transaction_id  \\\n",
       "0      17850.0      M  Chicago           12.0         16679.0   \n",
       "1      17850.0      M  Chicago           12.0         16680.0   \n",
       "2      17850.0      M  Chicago           12.0         16696.0   \n",
       "3      17850.0      M  Chicago           12.0         16699.0   \n",
       "4      17850.0      M  Chicago           12.0         16700.0   \n",
       "\n",
       "  transaction_date     product_sku  \\\n",
       "0       2019-01-01  GGOENEBJ079499   \n",
       "1       2019-01-01  GGOENEBJ079499   \n",
       "2       2019-01-01  GGOENEBQ078999   \n",
       "3       2019-01-01  GGOENEBQ079099   \n",
       "4       2019-01-01  GGOENEBJ079499   \n",
       "\n",
       "                                 product_description product_category  \\\n",
       "0  Nest Learning Thermostat 3rd Gen-USA - Stainle...         Nest-USA   \n",
       "1  Nest Learning Thermostat 3rd Gen-USA - Stainle...         Nest-USA   \n",
       "2             Nest Cam Outdoor Security Camera - USA         Nest-USA   \n",
       "3    Nest Protect Smoke + CO White Battery Alarm-USA         Nest-USA   \n",
       "4  Nest Learning Thermostat 3rd Gen-USA - Stainle...         Nest-USA   \n",
       "\n",
       "   quantity  avg_price  delivery_charges coupon_status  gst  offline_spend  \\\n",
       "0       1.0     153.71               6.5          Used  0.1         4500.0   \n",
       "1       1.0     153.71               6.5          Used  0.1         4500.0   \n",
       "2       2.0     122.77               6.5      Not Used  0.1         4500.0   \n",
       "3       1.0      81.50               6.5       Clicked  0.1         4500.0   \n",
       "4       1.0     153.71               6.5       Clicked  0.1         4500.0   \n",
       "\n",
       "   online_spend coupon_code  discount_pct promotion_campaign  \n",
       "0        2424.5      ELEC10          10.0               ELEC  \n",
       "1        2424.5      ELEC10          10.0               ELEC  \n",
       "2        2424.5      ELEC10          10.0               ELEC  \n",
       "3        2424.5      ELEC10          10.0               ELEC  \n",
       "4        2424.5      ELEC10          10.0               ELEC  "
      ]
     },
     "execution_count": 77,
     "metadata": {},
     "output_type": "execute_result"
    }
   ],
   "source": [
    "sales['promotion_campaign'] = sales.loc[:, 'coupon_code'].str.extract(re.compile(r\"([A-Z]+)\"))\n",
    "sales.head()"
   ]
  },
  {
   "cell_type": "markdown",
   "id": "2a2b6614-de6c-42cf-9d2e-32b05c6bb611",
   "metadata": {},
   "source": [
    "### Meddling with DateTime\n",
    "Dates and times are generally very special in computer science, getting a completely different treatment than most data types. `pandas` has its own way to **manage** datetime data types, providing many methods. Here we will focus on **date functions**, since the dataset doesn't give us anything about time. As always, `pandas` has an in-depth documentation for everything, including [datetime](https://pandas.pydata.org/docs/user_guide/timeseries.html).\n",
    "\n",
    "To access datetime methods, make sure the **corresponding columns are datetime dtypes**! After that, you can access methods using the `.dt` accessor. Our only `Datetime` column is `transaction_date`, so we will be utilizing only this one."
   ]
  },
  {
   "cell_type": "code",
   "execution_count": 78,
   "id": "a4669c49-bcf4-46b0-b031-83fbe5b4a433",
   "metadata": {},
   "outputs": [
    {
     "data": {
      "text/plain": [
       "0   2019-01-01\n",
       "1   2019-01-01\n",
       "2   2019-01-01\n",
       "3   2019-01-01\n",
       "4   2019-01-01\n",
       "Name: transaction_date, dtype: datetime64[ns]"
      ]
     },
     "execution_count": 78,
     "metadata": {},
     "output_type": "execute_result"
    }
   ],
   "source": [
    "sales.loc[:, 'transaction_date'].head()"
   ]
  },
  {
   "cell_type": "markdown",
   "id": "7f888e51-cace-498f-bfa4-e41dd15ef0e5",
   "metadata": {},
   "source": [
    "Actually most of the methods are self explanatory, so we will showcase a sample of them without much explanation."
   ]
  },
  {
   "cell_type": "code",
   "execution_count": 79,
   "id": "e12401cf-dcbe-4171-ade8-fd7077f97eb4",
   "metadata": {},
   "outputs": [
    {
     "data": {
      "text/plain": [
       "0         1\n",
       "1         1\n",
       "2         1\n",
       "3         1\n",
       "4         1\n",
       "         ..\n",
       "52919    10\n",
       "52920    28\n",
       "52921     6\n",
       "52922     6\n",
       "52923     6\n",
       "Name: transaction_date, Length: 52924, dtype: int32"
      ]
     },
     "execution_count": 79,
     "metadata": {},
     "output_type": "execute_result"
    }
   ],
   "source": [
    "sales.loc[:, 'transaction_date'].dt.day"
   ]
  },
  {
   "cell_type": "code",
   "execution_count": 80,
   "id": "9151266e-b4a6-43b8-87ec-5c08fc40515b",
   "metadata": {},
   "outputs": [
    {
     "data": {
      "text/plain": [
       "0         Tuesday\n",
       "1         Tuesday\n",
       "2         Tuesday\n",
       "3         Tuesday\n",
       "4         Tuesday\n",
       "           ...   \n",
       "52919      Sunday\n",
       "52920    Thursday\n",
       "52921      Sunday\n",
       "52922      Sunday\n",
       "52923      Sunday\n",
       "Name: transaction_date, Length: 52924, dtype: object"
      ]
     },
     "execution_count": 80,
     "metadata": {},
     "output_type": "execute_result"
    }
   ],
   "source": [
    "sales.loc[:, 'transaction_date'].dt.day_name()"
   ]
  },
  {
   "cell_type": "code",
   "execution_count": 81,
   "id": "9b6b1298-b64b-4c4e-9929-2b1894278132",
   "metadata": {},
   "outputs": [
    {
     "data": {
      "text/plain": [
       "0         1\n",
       "1         1\n",
       "2         1\n",
       "3         1\n",
       "4         1\n",
       "         ..\n",
       "52919     3\n",
       "52920     3\n",
       "52921    10\n",
       "52922    10\n",
       "52923    10\n",
       "Name: transaction_date, Length: 52924, dtype: int32"
      ]
     },
     "execution_count": 81,
     "metadata": {},
     "output_type": "execute_result"
    }
   ],
   "source": [
    "sales.loc[:, 'transaction_date'].dt.month"
   ]
  },
  {
   "cell_type": "code",
   "execution_count": 82,
   "id": "3c803454-4007-44aa-b038-8c82b93c3f8c",
   "metadata": {},
   "outputs": [
    {
     "data": {
      "text/plain": [
       "0        January\n",
       "1        January\n",
       "2        January\n",
       "3        January\n",
       "4        January\n",
       "          ...   \n",
       "52919      March\n",
       "52920      March\n",
       "52921    October\n",
       "52922    October\n",
       "52923    October\n",
       "Name: month, Length: 52924, dtype: object"
      ]
     },
     "execution_count": 82,
     "metadata": {},
     "output_type": "execute_result"
    }
   ],
   "source": [
    "sales['month'] = sales.loc[:, 'transaction_date'].dt.month_name()\n",
    "sales.loc[:, 'month']"
   ]
  },
  {
   "cell_type": "code",
   "execution_count": 83,
   "id": "cee8195b-8c26-49b9-8a03-db618160ed2f",
   "metadata": {},
   "outputs": [
    {
     "data": {
      "text/plain": [
       "0        2019\n",
       "1        2019\n",
       "2        2019\n",
       "3        2019\n",
       "4        2019\n",
       "         ... \n",
       "52919    2019\n",
       "52920    2019\n",
       "52921    2019\n",
       "52922    2019\n",
       "52923    2019\n",
       "Name: transaction_date, Length: 52924, dtype: int32"
      ]
     },
     "execution_count": 83,
     "metadata": {},
     "output_type": "execute_result"
    }
   ],
   "source": [
    "sales.loc[:, 'transaction_date'].dt.year"
   ]
  },
  {
   "cell_type": "code",
   "execution_count": 84,
   "id": "28e5ea6e-4433-4c39-8ab8-5de91ef71613",
   "metadata": {},
   "outputs": [
    {
     "data": {
      "text/plain": [
       "0        1\n",
       "1        1\n",
       "2        1\n",
       "3        1\n",
       "4        1\n",
       "        ..\n",
       "52919    6\n",
       "52920    3\n",
       "52921    6\n",
       "52922    6\n",
       "52923    6\n",
       "Name: transaction_date, Length: 52924, dtype: int32"
      ]
     },
     "execution_count": 84,
     "metadata": {},
     "output_type": "execute_result"
    }
   ],
   "source": [
    "sales.loc[:, 'transaction_date'].dt.day_of_week"
   ]
  },
  {
   "cell_type": "markdown",
   "id": "1c8d6f10-04ab-4737-9d30-e4d5384d0f0c",
   "metadata": {},
   "source": [
    "If you want to make operations with DateTime objects you **must use** `DateOffset`."
   ]
  },
  {
   "cell_type": "code",
   "execution_count": 85,
   "id": "d11d3bc2-af6d-431f-9d8d-32934d7251ba",
   "metadata": {},
   "outputs": [],
   "source": [
    "from pandas.tseries.offsets import DateOffset"
   ]
  },
  {
   "cell_type": "markdown",
   "id": "ea901d98-7aac-4eed-b7d6-fb0309667d9f",
   "metadata": {},
   "source": [
    "For example, suppose we want to keep the date until a customer can return products from a transaction. We will assume it is 15 days."
   ]
  },
  {
   "cell_type": "code",
   "execution_count": 86,
   "id": "bd37be04-da53-4e5a-a3e5-1c303bb39c6d",
   "metadata": {},
   "outputs": [
    {
     "data": {
      "text/plain": [
       "0       2019-01-16\n",
       "1       2019-01-16\n",
       "2       2019-01-16\n",
       "3       2019-01-16\n",
       "4       2019-01-16\n",
       "           ...    \n",
       "52919   2019-03-25\n",
       "52920   2019-04-12\n",
       "52921   2019-10-21\n",
       "52922   2019-10-21\n",
       "52923   2019-10-21\n",
       "Name: transaction_date, Length: 52924, dtype: datetime64[ns]"
      ]
     },
     "execution_count": 86,
     "metadata": {},
     "output_type": "execute_result"
    }
   ],
   "source": [
    "sales.loc[:, 'transaction_date'] + DateOffset(days=15)"
   ]
  },
  {
   "cell_type": "markdown",
   "id": "324b8d54-bd3e-4aa7-aa36-a23c2c5ceb16",
   "metadata": {},
   "source": [
    "Another example, there is a warranty on each product of 14 months."
   ]
  },
  {
   "cell_type": "code",
   "execution_count": 87,
   "id": "6abe87bb-a401-4e4e-a15f-fac5bc811f55",
   "metadata": {},
   "outputs": [
    {
     "data": {
      "text/plain": [
       "0       2020-03-01\n",
       "1       2020-03-01\n",
       "2       2020-03-01\n",
       "3       2020-03-01\n",
       "4       2020-03-01\n",
       "           ...    \n",
       "52919   2020-05-10\n",
       "52920   2020-05-28\n",
       "52921   2020-12-06\n",
       "52922   2020-12-06\n",
       "52923   2020-12-06\n",
       "Name: transaction_date, Length: 52924, dtype: datetime64[ns]"
      ]
     },
     "execution_count": 87,
     "metadata": {},
     "output_type": "execute_result"
    }
   ],
   "source": [
    "sales.loc[:, 'transaction_date'] + DateOffset(years=1, months=2)"
   ]
  },
  {
   "cell_type": "markdown",
   "id": "3c367c00-2da9-4d99-8473-6f670ed49ae9",
   "metadata": {},
   "source": [
    "This is the tip of the iceberg on what you can do with datetime data. It all depends on what you want to do in analysis to utilize string and datetime tools properly."
   ]
  },
  {
   "cell_type": "markdown",
   "id": "e1b96720-eb35-4854-855f-093dd24aeb8f",
   "metadata": {},
   "source": [
    "### Replacing values\n",
    "Apart from the string methods, you can use the `replace` method on a DataFrame to **change values**. We can also apply it on a Series if we **don't want every column to be affected**. Here we will just replace the values in gender to be more descriptive."
   ]
  },
  {
   "cell_type": "code",
   "execution_count": 88,
   "id": "caf2094b-41a6-4210-a173-aa54afd052a7",
   "metadata": {},
   "outputs": [],
   "source": [
    "sales['gender'] = sales.loc[:, 'gender'].replace({'M': 'Male', 'F': 'Female'})"
   ]
  },
  {
   "cell_type": "code",
   "execution_count": 89,
   "id": "43e7246a-8acb-415d-8de9-bef100b07ec0",
   "metadata": {},
   "outputs": [
    {
     "data": {
      "text/html": [
       "<div>\n",
       "<style scoped>\n",
       "    .dataframe tbody tr th:only-of-type {\n",
       "        vertical-align: middle;\n",
       "    }\n",
       "\n",
       "    .dataframe tbody tr th {\n",
       "        vertical-align: top;\n",
       "    }\n",
       "\n",
       "    .dataframe thead th {\n",
       "        text-align: right;\n",
       "    }\n",
       "</style>\n",
       "<table border=\"1\" class=\"dataframe\">\n",
       "  <thead>\n",
       "    <tr style=\"text-align: right;\">\n",
       "      <th></th>\n",
       "      <th>customer_id</th>\n",
       "      <th>gender</th>\n",
       "      <th>location</th>\n",
       "      <th>tenure_months</th>\n",
       "      <th>transaction_id</th>\n",
       "      <th>transaction_date</th>\n",
       "      <th>product_sku</th>\n",
       "      <th>product_description</th>\n",
       "      <th>product_category</th>\n",
       "      <th>quantity</th>\n",
       "      <th>avg_price</th>\n",
       "      <th>delivery_charges</th>\n",
       "      <th>coupon_status</th>\n",
       "      <th>gst</th>\n",
       "      <th>offline_spend</th>\n",
       "      <th>online_spend</th>\n",
       "      <th>coupon_code</th>\n",
       "      <th>discount_pct</th>\n",
       "      <th>promotion_campaign</th>\n",
       "      <th>month</th>\n",
       "    </tr>\n",
       "  </thead>\n",
       "  <tbody>\n",
       "    <tr>\n",
       "      <th>0</th>\n",
       "      <td>17850.0</td>\n",
       "      <td>Male</td>\n",
       "      <td>Chicago</td>\n",
       "      <td>12.0</td>\n",
       "      <td>16679.0</td>\n",
       "      <td>2019-01-01</td>\n",
       "      <td>GGOENEBJ079499</td>\n",
       "      <td>Nest Learning Thermostat 3rd Gen-USA - Stainle...</td>\n",
       "      <td>Nest-USA</td>\n",
       "      <td>1.0</td>\n",
       "      <td>153.71</td>\n",
       "      <td>6.5</td>\n",
       "      <td>Used</td>\n",
       "      <td>0.1</td>\n",
       "      <td>4500.0</td>\n",
       "      <td>2424.5</td>\n",
       "      <td>ELEC10</td>\n",
       "      <td>10.0</td>\n",
       "      <td>ELEC</td>\n",
       "      <td>January</td>\n",
       "    </tr>\n",
       "    <tr>\n",
       "      <th>1</th>\n",
       "      <td>17850.0</td>\n",
       "      <td>Male</td>\n",
       "      <td>Chicago</td>\n",
       "      <td>12.0</td>\n",
       "      <td>16680.0</td>\n",
       "      <td>2019-01-01</td>\n",
       "      <td>GGOENEBJ079499</td>\n",
       "      <td>Nest Learning Thermostat 3rd Gen-USA - Stainle...</td>\n",
       "      <td>Nest-USA</td>\n",
       "      <td>1.0</td>\n",
       "      <td>153.71</td>\n",
       "      <td>6.5</td>\n",
       "      <td>Used</td>\n",
       "      <td>0.1</td>\n",
       "      <td>4500.0</td>\n",
       "      <td>2424.5</td>\n",
       "      <td>ELEC10</td>\n",
       "      <td>10.0</td>\n",
       "      <td>ELEC</td>\n",
       "      <td>January</td>\n",
       "    </tr>\n",
       "    <tr>\n",
       "      <th>2</th>\n",
       "      <td>17850.0</td>\n",
       "      <td>Male</td>\n",
       "      <td>Chicago</td>\n",
       "      <td>12.0</td>\n",
       "      <td>16696.0</td>\n",
       "      <td>2019-01-01</td>\n",
       "      <td>GGOENEBQ078999</td>\n",
       "      <td>Nest Cam Outdoor Security Camera - USA</td>\n",
       "      <td>Nest-USA</td>\n",
       "      <td>2.0</td>\n",
       "      <td>122.77</td>\n",
       "      <td>6.5</td>\n",
       "      <td>Not Used</td>\n",
       "      <td>0.1</td>\n",
       "      <td>4500.0</td>\n",
       "      <td>2424.5</td>\n",
       "      <td>ELEC10</td>\n",
       "      <td>10.0</td>\n",
       "      <td>ELEC</td>\n",
       "      <td>January</td>\n",
       "    </tr>\n",
       "    <tr>\n",
       "      <th>3</th>\n",
       "      <td>17850.0</td>\n",
       "      <td>Male</td>\n",
       "      <td>Chicago</td>\n",
       "      <td>12.0</td>\n",
       "      <td>16699.0</td>\n",
       "      <td>2019-01-01</td>\n",
       "      <td>GGOENEBQ079099</td>\n",
       "      <td>Nest Protect Smoke + CO White Battery Alarm-USA</td>\n",
       "      <td>Nest-USA</td>\n",
       "      <td>1.0</td>\n",
       "      <td>81.50</td>\n",
       "      <td>6.5</td>\n",
       "      <td>Clicked</td>\n",
       "      <td>0.1</td>\n",
       "      <td>4500.0</td>\n",
       "      <td>2424.5</td>\n",
       "      <td>ELEC10</td>\n",
       "      <td>10.0</td>\n",
       "      <td>ELEC</td>\n",
       "      <td>January</td>\n",
       "    </tr>\n",
       "    <tr>\n",
       "      <th>4</th>\n",
       "      <td>17850.0</td>\n",
       "      <td>Male</td>\n",
       "      <td>Chicago</td>\n",
       "      <td>12.0</td>\n",
       "      <td>16700.0</td>\n",
       "      <td>2019-01-01</td>\n",
       "      <td>GGOENEBJ079499</td>\n",
       "      <td>Nest Learning Thermostat 3rd Gen-USA - Stainle...</td>\n",
       "      <td>Nest-USA</td>\n",
       "      <td>1.0</td>\n",
       "      <td>153.71</td>\n",
       "      <td>6.5</td>\n",
       "      <td>Clicked</td>\n",
       "      <td>0.1</td>\n",
       "      <td>4500.0</td>\n",
       "      <td>2424.5</td>\n",
       "      <td>ELEC10</td>\n",
       "      <td>10.0</td>\n",
       "      <td>ELEC</td>\n",
       "      <td>January</td>\n",
       "    </tr>\n",
       "  </tbody>\n",
       "</table>\n",
       "</div>"
      ],
      "text/plain": [
       "   customer_id gender location  tenure_months  transaction_id  \\\n",
       "0      17850.0   Male  Chicago           12.0         16679.0   \n",
       "1      17850.0   Male  Chicago           12.0         16680.0   \n",
       "2      17850.0   Male  Chicago           12.0         16696.0   \n",
       "3      17850.0   Male  Chicago           12.0         16699.0   \n",
       "4      17850.0   Male  Chicago           12.0         16700.0   \n",
       "\n",
       "  transaction_date     product_sku  \\\n",
       "0       2019-01-01  GGOENEBJ079499   \n",
       "1       2019-01-01  GGOENEBJ079499   \n",
       "2       2019-01-01  GGOENEBQ078999   \n",
       "3       2019-01-01  GGOENEBQ079099   \n",
       "4       2019-01-01  GGOENEBJ079499   \n",
       "\n",
       "                                 product_description product_category  \\\n",
       "0  Nest Learning Thermostat 3rd Gen-USA - Stainle...         Nest-USA   \n",
       "1  Nest Learning Thermostat 3rd Gen-USA - Stainle...         Nest-USA   \n",
       "2             Nest Cam Outdoor Security Camera - USA         Nest-USA   \n",
       "3    Nest Protect Smoke + CO White Battery Alarm-USA         Nest-USA   \n",
       "4  Nest Learning Thermostat 3rd Gen-USA - Stainle...         Nest-USA   \n",
       "\n",
       "   quantity  avg_price  delivery_charges coupon_status  gst  offline_spend  \\\n",
       "0       1.0     153.71               6.5          Used  0.1         4500.0   \n",
       "1       1.0     153.71               6.5          Used  0.1         4500.0   \n",
       "2       2.0     122.77               6.5      Not Used  0.1         4500.0   \n",
       "3       1.0      81.50               6.5       Clicked  0.1         4500.0   \n",
       "4       1.0     153.71               6.5       Clicked  0.1         4500.0   \n",
       "\n",
       "   online_spend coupon_code  discount_pct promotion_campaign    month  \n",
       "0        2424.5      ELEC10          10.0               ELEC  January  \n",
       "1        2424.5      ELEC10          10.0               ELEC  January  \n",
       "2        2424.5      ELEC10          10.0               ELEC  January  \n",
       "3        2424.5      ELEC10          10.0               ELEC  January  \n",
       "4        2424.5      ELEC10          10.0               ELEC  January  "
      ]
     },
     "execution_count": 89,
     "metadata": {},
     "output_type": "execute_result"
    }
   ],
   "source": [
    "sales.head()"
   ]
  },
  {
   "cell_type": "markdown",
   "id": "06d7997c-40cf-4ae1-a18a-0f6d658b6290",
   "metadata": {},
   "source": [
    "### Type Casting\n",
    "We briefly saw this when we were messing around with strings. We can **easily change column dtypes** using the `astype` method. Let's convert `customer_id`, `transaction_id` and `quantity` to integers."
   ]
  },
  {
   "cell_type": "code",
   "execution_count": 90,
   "id": "8936e302-9821-4d0f-b143-1c4cf8ecd8b9",
   "metadata": {},
   "outputs": [
    {
     "data": {
      "text/html": [
       "<div>\n",
       "<style scoped>\n",
       "    .dataframe tbody tr th:only-of-type {\n",
       "        vertical-align: middle;\n",
       "    }\n",
       "\n",
       "    .dataframe tbody tr th {\n",
       "        vertical-align: top;\n",
       "    }\n",
       "\n",
       "    .dataframe thead th {\n",
       "        text-align: right;\n",
       "    }\n",
       "</style>\n",
       "<table border=\"1\" class=\"dataframe\">\n",
       "  <thead>\n",
       "    <tr style=\"text-align: right;\">\n",
       "      <th></th>\n",
       "      <th>customer_id</th>\n",
       "      <th>gender</th>\n",
       "      <th>location</th>\n",
       "      <th>tenure_months</th>\n",
       "      <th>transaction_id</th>\n",
       "      <th>transaction_date</th>\n",
       "      <th>product_sku</th>\n",
       "      <th>product_description</th>\n",
       "      <th>product_category</th>\n",
       "      <th>quantity</th>\n",
       "      <th>avg_price</th>\n",
       "      <th>delivery_charges</th>\n",
       "      <th>coupon_status</th>\n",
       "      <th>gst</th>\n",
       "      <th>offline_spend</th>\n",
       "      <th>online_spend</th>\n",
       "      <th>coupon_code</th>\n",
       "      <th>discount_pct</th>\n",
       "      <th>promotion_campaign</th>\n",
       "      <th>month</th>\n",
       "    </tr>\n",
       "  </thead>\n",
       "  <tbody>\n",
       "    <tr>\n",
       "      <th>0</th>\n",
       "      <td>17850</td>\n",
       "      <td>Male</td>\n",
       "      <td>Chicago</td>\n",
       "      <td>12.0</td>\n",
       "      <td>16679</td>\n",
       "      <td>2019-01-01</td>\n",
       "      <td>GGOENEBJ079499</td>\n",
       "      <td>Nest Learning Thermostat 3rd Gen-USA - Stainle...</td>\n",
       "      <td>Nest-USA</td>\n",
       "      <td>1</td>\n",
       "      <td>153.71</td>\n",
       "      <td>6.5</td>\n",
       "      <td>Used</td>\n",
       "      <td>0.1</td>\n",
       "      <td>4500.0</td>\n",
       "      <td>2424.5</td>\n",
       "      <td>ELEC10</td>\n",
       "      <td>10.0</td>\n",
       "      <td>ELEC</td>\n",
       "      <td>January</td>\n",
       "    </tr>\n",
       "    <tr>\n",
       "      <th>1</th>\n",
       "      <td>17850</td>\n",
       "      <td>Male</td>\n",
       "      <td>Chicago</td>\n",
       "      <td>12.0</td>\n",
       "      <td>16680</td>\n",
       "      <td>2019-01-01</td>\n",
       "      <td>GGOENEBJ079499</td>\n",
       "      <td>Nest Learning Thermostat 3rd Gen-USA - Stainle...</td>\n",
       "      <td>Nest-USA</td>\n",
       "      <td>1</td>\n",
       "      <td>153.71</td>\n",
       "      <td>6.5</td>\n",
       "      <td>Used</td>\n",
       "      <td>0.1</td>\n",
       "      <td>4500.0</td>\n",
       "      <td>2424.5</td>\n",
       "      <td>ELEC10</td>\n",
       "      <td>10.0</td>\n",
       "      <td>ELEC</td>\n",
       "      <td>January</td>\n",
       "    </tr>\n",
       "    <tr>\n",
       "      <th>2</th>\n",
       "      <td>17850</td>\n",
       "      <td>Male</td>\n",
       "      <td>Chicago</td>\n",
       "      <td>12.0</td>\n",
       "      <td>16696</td>\n",
       "      <td>2019-01-01</td>\n",
       "      <td>GGOENEBQ078999</td>\n",
       "      <td>Nest Cam Outdoor Security Camera - USA</td>\n",
       "      <td>Nest-USA</td>\n",
       "      <td>2</td>\n",
       "      <td>122.77</td>\n",
       "      <td>6.5</td>\n",
       "      <td>Not Used</td>\n",
       "      <td>0.1</td>\n",
       "      <td>4500.0</td>\n",
       "      <td>2424.5</td>\n",
       "      <td>ELEC10</td>\n",
       "      <td>10.0</td>\n",
       "      <td>ELEC</td>\n",
       "      <td>January</td>\n",
       "    </tr>\n",
       "    <tr>\n",
       "      <th>3</th>\n",
       "      <td>17850</td>\n",
       "      <td>Male</td>\n",
       "      <td>Chicago</td>\n",
       "      <td>12.0</td>\n",
       "      <td>16699</td>\n",
       "      <td>2019-01-01</td>\n",
       "      <td>GGOENEBQ079099</td>\n",
       "      <td>Nest Protect Smoke + CO White Battery Alarm-USA</td>\n",
       "      <td>Nest-USA</td>\n",
       "      <td>1</td>\n",
       "      <td>81.50</td>\n",
       "      <td>6.5</td>\n",
       "      <td>Clicked</td>\n",
       "      <td>0.1</td>\n",
       "      <td>4500.0</td>\n",
       "      <td>2424.5</td>\n",
       "      <td>ELEC10</td>\n",
       "      <td>10.0</td>\n",
       "      <td>ELEC</td>\n",
       "      <td>January</td>\n",
       "    </tr>\n",
       "    <tr>\n",
       "      <th>4</th>\n",
       "      <td>17850</td>\n",
       "      <td>Male</td>\n",
       "      <td>Chicago</td>\n",
       "      <td>12.0</td>\n",
       "      <td>16700</td>\n",
       "      <td>2019-01-01</td>\n",
       "      <td>GGOENEBJ079499</td>\n",
       "      <td>Nest Learning Thermostat 3rd Gen-USA - Stainle...</td>\n",
       "      <td>Nest-USA</td>\n",
       "      <td>1</td>\n",
       "      <td>153.71</td>\n",
       "      <td>6.5</td>\n",
       "      <td>Clicked</td>\n",
       "      <td>0.1</td>\n",
       "      <td>4500.0</td>\n",
       "      <td>2424.5</td>\n",
       "      <td>ELEC10</td>\n",
       "      <td>10.0</td>\n",
       "      <td>ELEC</td>\n",
       "      <td>January</td>\n",
       "    </tr>\n",
       "  </tbody>\n",
       "</table>\n",
       "</div>"
      ],
      "text/plain": [
       "   customer_id gender location  tenure_months  transaction_id  \\\n",
       "0        17850   Male  Chicago           12.0           16679   \n",
       "1        17850   Male  Chicago           12.0           16680   \n",
       "2        17850   Male  Chicago           12.0           16696   \n",
       "3        17850   Male  Chicago           12.0           16699   \n",
       "4        17850   Male  Chicago           12.0           16700   \n",
       "\n",
       "  transaction_date     product_sku  \\\n",
       "0       2019-01-01  GGOENEBJ079499   \n",
       "1       2019-01-01  GGOENEBJ079499   \n",
       "2       2019-01-01  GGOENEBQ078999   \n",
       "3       2019-01-01  GGOENEBQ079099   \n",
       "4       2019-01-01  GGOENEBJ079499   \n",
       "\n",
       "                                 product_description product_category  \\\n",
       "0  Nest Learning Thermostat 3rd Gen-USA - Stainle...         Nest-USA   \n",
       "1  Nest Learning Thermostat 3rd Gen-USA - Stainle...         Nest-USA   \n",
       "2             Nest Cam Outdoor Security Camera - USA         Nest-USA   \n",
       "3    Nest Protect Smoke + CO White Battery Alarm-USA         Nest-USA   \n",
       "4  Nest Learning Thermostat 3rd Gen-USA - Stainle...         Nest-USA   \n",
       "\n",
       "   quantity  avg_price  delivery_charges coupon_status  gst  offline_spend  \\\n",
       "0         1     153.71               6.5          Used  0.1         4500.0   \n",
       "1         1     153.71               6.5          Used  0.1         4500.0   \n",
       "2         2     122.77               6.5      Not Used  0.1         4500.0   \n",
       "3         1      81.50               6.5       Clicked  0.1         4500.0   \n",
       "4         1     153.71               6.5       Clicked  0.1         4500.0   \n",
       "\n",
       "   online_spend coupon_code  discount_pct promotion_campaign    month  \n",
       "0        2424.5      ELEC10          10.0               ELEC  January  \n",
       "1        2424.5      ELEC10          10.0               ELEC  January  \n",
       "2        2424.5      ELEC10          10.0               ELEC  January  \n",
       "3        2424.5      ELEC10          10.0               ELEC  January  \n",
       "4        2424.5      ELEC10          10.0               ELEC  January  "
      ]
     },
     "execution_count": 90,
     "metadata": {},
     "output_type": "execute_result"
    }
   ],
   "source": [
    "sales = sales.astype({'customer_id': int, 'transaction_id': int, 'quantity': int})\n",
    "sales.head()"
   ]
  },
  {
   "cell_type": "markdown",
   "id": "28f11219-2f62-4a0b-9f80-85666ecb768e",
   "metadata": {},
   "source": [
    "We would also like `month` to be a **categorical data type**. The reason is that as an entity, month has very specific values with a specific order, so later on when we would like to sort by month, the `DataFrame` should know how to handle it and bring correct results. Here we **chain methods** one after another. Sometimes it might be less readable, but it is concise. It is the first time we see two methods: `sort_values` and `tolist`. `sort_values` sorts the data depending on a **column's value** or **columns' values** if it is applied on a DataFrame, or on the **Series values** if it is applied on a Series. There is also a `sort_index` method that sorts the data by the index. `tolist` transforms a Series into a **list**. This can be useful depending on the case you use it. There are more **to_** methods which are usually used to **save data** as well! In the code block below we making `month` a categorical column."
   ]
  },
  {
   "cell_type": "code",
   "execution_count": 91,
   "id": "7360e4c0-62d4-47f6-a32a-3bf94b5452c0",
   "metadata": {},
   "outputs": [],
   "source": [
    "months = sales.loc[:, 'transaction_date'].sort_values().dt.month_name().unique().tolist()\n",
    "sales['month'] = pd.Categorical(sales.loc[:, 'month'], categories=months, ordered=True)"
   ]
  },
  {
   "cell_type": "markdown",
   "id": "88db9d6b-8b1c-46c5-b26a-e5af2f2d8b42",
   "metadata": {},
   "source": [
    "### Operations on Columns\n",
    "You can of course apply various **mathematical operations and functions** on DataFrame columns. Here we want to make `discount_pct` a decimal number from 0-1, and so we will divide by 100. We can also use `numpy` functions, such as `np.log` if we want the natural logarithm of a column."
   ]
  },
  {
   "cell_type": "code",
   "execution_count": 92,
   "id": "bf31f1d1-6ee5-414c-a298-812b8de16505",
   "metadata": {},
   "outputs": [],
   "source": [
    "sales['discount_pct'] = sales.loc[:, 'discount_pct'] / 100"
   ]
  },
  {
   "cell_type": "code",
   "execution_count": 93,
   "id": "5f93825d-9fca-450f-8006-43c5ed5a5412",
   "metadata": {},
   "outputs": [
    {
     "data": {
      "text/plain": [
       "0        5.035068\n",
       "1        5.035068\n",
       "2        4.810313\n",
       "3        4.400603\n",
       "4        5.035068\n",
       "           ...   \n",
       "52919    5.521461\n",
       "52920    3.218876\n",
       "52921    2.379546\n",
       "52922    2.261763\n",
       "52923    1.720979\n",
       "Name: avg_price, Length: 52924, dtype: float64"
      ]
     },
     "execution_count": 93,
     "metadata": {},
     "output_type": "execute_result"
    }
   ],
   "source": [
    "np.log(sales['avg_price'])"
   ]
  },
  {
   "cell_type": "markdown",
   "id": "d624565f-76c4-48bf-948b-27865a386f39",
   "metadata": {},
   "source": [
    "One final thing before we move on to **aggregation**, let's calculate the total cost for the customer. For this we have to calculate `quantity * avg_price * (1 - discount)` if the **coupon is used** and `quantity * avg_price` if the coupon is either **not used or clicked**. To do that we will create a new column named `apply_coupon` which will have 1 if the coupon is used and 0 otherwise. To make this condition reality, we start by filling the values with 0 and then use the `mask` method which accepts a **boolean expression** like `sales.loc[:, 'coupon_status'] == 'Used'`, and if it is **True** then **replaces the value** with, let's say, 1. After that, we will calculate the `product_revenue` as `quantity * avg_price * (1-discount*apply_coupon)`."
   ]
  },
  {
   "cell_type": "code",
   "execution_count": 94,
   "id": "bf2891d0-3f9f-49ec-bd7e-ab5682bfba38",
   "metadata": {},
   "outputs": [],
   "source": [
    "sales['apply_coupon'] = 0\n",
    "sales.loc[:, 'apply_coupon'].mask(sales.loc[:, 'coupon_status'] == 'Used', 1, inplace=True)\n",
    "sales['product_revenue'] = round(sales.loc[:, 'quantity'] * sales.loc[:, 'avg_price'] * (1 - sales.loc[:, 'discount_pct'] * sales.loc[:, 'apply_coupon']), 2)"
   ]
  },
  {
   "cell_type": "markdown",
   "id": "bd608d38-73cb-4764-9526-3a390c5db883",
   "metadata": {
    "tags": []
   },
   "source": [
    "### Group-by and Pivot Tables\n",
    "It's time to start analysing our data. Some common ways are to **aggregate the data** and **apply functions** on them. This is where group by and pivot tables come. You can easily use them and **summarize data to gain insight**. In this section we will take a look into other methods and concepts that are generally useful.\n",
    "\n",
    "`groupby` aggregates data based either on a single column or multiple columns. This returns a groupby object, that you can then use to summarize data with **aggregation functions**. Many common ones are already included in `pandas`, but you can also define your **own functions** and apply them on groupby objects. We will start from simple examples and then go to more advanced. Firstly, we will calculate the revenue by month."
   ]
  },
  {
   "cell_type": "code",
   "execution_count": 97,
   "id": "df442499-b946-416c-b6b1-d1d64cc3b510",
   "metadata": {},
   "outputs": [
    {
     "data": {
      "text/plain": [
       "month\n",
       "January      390652.80\n",
       "February     291395.49\n",
       "March        315639.92\n",
       "April        388177.43\n",
       "May          288872.48\n",
       "June         288910.57\n",
       "July         360625.16\n",
       "August       373098.89\n",
       "September    320559.19\n",
       "October      396163.42\n",
       "November     473235.42\n",
       "December     472681.54\n",
       "Name: product_revenue, dtype: float64"
      ]
     },
     "execution_count": 97,
     "metadata": {},
     "output_type": "execute_result"
    }
   ],
   "source": [
    "monthly_sales = sales.groupby(by='month', observed=True)['product_revenue'].agg('sum')\n",
    "monthly_sales"
   ]
  },
  {
   "cell_type": "markdown",
   "id": "c759e2c9-9c72-4db9-a188-d1d9904959b8",
   "metadata": {},
   "source": [
    "Clearly we can see the peak being in November and December! Let's try to plot them using a bar chart. `pandas` has some plotting functionality using `matplotlib`. We will be seeing some very simple examples using `matplotlib` here in this section!"
   ]
  },
  {
   "cell_type": "code",
   "execution_count": 98,
   "id": "97a79ae1-5752-49db-84a3-de37318a6aa7",
   "metadata": {},
   "outputs": [
    {
     "data": {
      "text/plain": [
       "<Axes: xlabel='month'>"
      ]
     },
     "execution_count": 98,
     "metadata": {},
     "output_type": "execute_result"
    },
    {
     "data": {
      "image/png": "[encoded data removed]",
      "text/plain": [
       "<Figure size 640x480 with 1 Axes>"
      ]
     },
     "metadata": {},
     "output_type": "display_data"
    }
   ],
   "source": [
    "monthly_sales.plot.bar()"
   ]
  },
  {
   "cell_type": "markdown",
   "id": "5efbe3ba-79a4-4ca2-a774-c458f4db88b2",
   "metadata": {},
   "source": [
    "`matplotlib` is a widely used popular open source **visualization library** in Python. You can use it to make plots controlling **every single detail**. There are many other libraries out there, some of those based on `matplotlib`, that you can use to visualize data. Here is the [matplotlib website](https://matplotlib.org) if you want to learn more. We import the `pyplot` module of matplotlib with the convention name `plt`. There are two ways to use pyplot. The first one is similar to matlab, in a **function-like way**. The second one, and usually preffered, is the **object oriented way** which we'll be using."
   ]
  },
  {
   "cell_type": "code",
   "execution_count": 99,
   "id": "615cebff-4e19-478d-823a-c27742749b15",
   "metadata": {},
   "outputs": [],
   "source": [
    "import matplotlib.pyplot as plt"
   ]
  },
  {
   "cell_type": "code",
   "execution_count": 113,
   "id": "a123591a-74b4-4b0b-9143-3eb5f4156e33",
   "metadata": {},
   "outputs": [
    {
     "data": {
      "image/png": "[encoded data removed]",
      "text/plain": [
       "<Figure size 1000x600 with 1 Axes>"
      ]
     },
     "metadata": {},
     "output_type": "display_data"
    }
   ],
   "source": [
    "fig, ax = plt.subplots(figsize=(10, 6))  # create a figure with width 10 inches and height 6 inches\n",
    "ax.bar(x=monthly_sales.index, height=monthly_sales, color='#0D3792')  # create a bar chart with months in the x axis and the sales in the y axis\n",
    "ax.set_xlabel('Month')  # set the x axis name to month\n",
    "ax.set_ylabel('Sales')  # set the y axis name to sales\n",
    "ax.set_title('Monthly Sales, 2019')  # give a title to the plot\n",
    "_ = ax.set_xticks(ax.get_xticks(), labels=monthly_sales.index.str[:3])  # set the x axis tick labels to the first three letters of the month"
   ]
  },
  {
   "cell_type": "markdown",
   "id": "01a276bb-0a61-4fee-8d2b-b0548d9e3e59",
   "metadata": {},
   "source": [
    "Now we will make it a bit more complicated. We will group by `location` and `month` to see what's happening in terms of revenue. It still is very easy, we just pass a **list of columns** we want to group by."
   ]
  },
  {
   "cell_type": "code",
   "execution_count": 115,
   "id": "e05e3c85-c2ea-4344-99ea-7d8b4d73d491",
   "metadata": {},
   "outputs": [
    {
     "data": {
      "text/plain": [
       "location       month    \n",
       "California     January      145495.55\n",
       "               February      84037.22\n",
       "               March         89116.05\n",
       "               April        117299.54\n",
       "               May           81324.15\n",
       "               June          90476.56\n",
       "               July         115778.94\n",
       "               August       111341.76\n",
       "               September    104891.92\n",
       "               October      111491.08\n",
       "               November     131704.08\n",
       "               December     165907.45\n",
       "Chicago        January      106116.00\n",
       "               February     101363.66\n",
       "               March        107058.73\n",
       "               April        147640.86\n",
       "               May          102879.32\n",
       "               June          90148.95\n",
       "               July         126478.23\n",
       "               August       146806.04\n",
       "               September    120931.63\n",
       "               October      131175.20\n",
       "               November     161353.08\n",
       "               December     173100.71\n",
       "New Jersey     January       30617.18\n",
       "               February      27959.97\n",
       "               March         17445.41\n",
       "               April         43327.14\n",
       "               May           26734.47\n",
       "               June          37026.25\n",
       "               July          20771.16\n",
       "               August        20870.84\n",
       "               September     22923.05\n",
       "               October       39266.04\n",
       "               November      47587.32\n",
       "               December      47429.65\n",
       "New York       January       75726.90\n",
       "               February      41792.80\n",
       "               March         87954.50\n",
       "               April         60958.39\n",
       "               May           72146.93\n",
       "               June          60731.01\n",
       "               July          79054.80\n",
       "               August        75850.51\n",
       "               September     51389.42\n",
       "               October       94639.61\n",
       "               November     105707.39\n",
       "               December      67924.69\n",
       "Washington DC  January       32697.17\n",
       "               February      36241.84\n",
       "               March         14065.23\n",
       "               April         18951.50\n",
       "               May            5787.61\n",
       "               June          10527.80\n",
       "               July          18542.03\n",
       "               August        18229.74\n",
       "               September     20423.17\n",
       "               October       19591.49\n",
       "               November      26883.55\n",
       "               December      18319.04\n",
       "Name: product_revenue, dtype: float64"
      ]
     },
     "execution_count": 115,
     "metadata": {},
     "output_type": "execute_result"
    }
   ],
   "source": [
    "location_month_sales = sales.groupby(by=['location', 'month'], observed=True)['product_revenue'].agg('sum')\n",
    "location_month_sales"
   ]
  },
  {
   "cell_type": "markdown",
   "id": "44c739af-263b-4f8d-9414-b6fc13e37066",
   "metadata": {},
   "source": [
    "It is the first time we see a `MultiIndex`. `MultiIndex` is just a more complex Index in our DataFrame. It might be a bit complicated at first, but `pandas` has tons of documentation on [Advanced Indexing](https://pandas.pydata.org/docs/user_guide/advanced.html) and how to play with it."
   ]
  },
  {
   "cell_type": "markdown",
   "id": "42bed487-bf16-42f7-8ed1-8dfad92c7ffa",
   "metadata": {},
   "source": [
    "We can also apply a number of aggregation functions."
   ]
  },
  {
   "cell_type": "code",
   "execution_count": 120,
   "id": "80522beb-7619-420b-b7a4-babc11638ff2",
   "metadata": {},
   "outputs": [
    {
     "data": {
      "text/html": [
       "<div>\n",
       "<style scoped>\n",
       "    .dataframe tbody tr th:only-of-type {\n",
       "        vertical-align: middle;\n",
       "    }\n",
       "\n",
       "    .dataframe tbody tr th {\n",
       "        vertical-align: top;\n",
       "    }\n",
       "\n",
       "    .dataframe thead th {\n",
       "        text-align: right;\n",
       "    }\n",
       "</style>\n",
       "<table border=\"1\" class=\"dataframe\">\n",
       "  <thead>\n",
       "    <tr style=\"text-align: right;\">\n",
       "      <th></th>\n",
       "      <th>sum</th>\n",
       "      <th>count</th>\n",
       "      <th>mean</th>\n",
       "    </tr>\n",
       "    <tr>\n",
       "      <th>month</th>\n",
       "      <th></th>\n",
       "      <th></th>\n",
       "      <th></th>\n",
       "    </tr>\n",
       "  </thead>\n",
       "  <tbody>\n",
       "    <tr>\n",
       "      <th>January</th>\n",
       "      <td>390652.80</td>\n",
       "      <td>4063</td>\n",
       "      <td>96.148856</td>\n",
       "    </tr>\n",
       "    <tr>\n",
       "      <th>February</th>\n",
       "      <td>291395.49</td>\n",
       "      <td>3284</td>\n",
       "      <td>88.731879</td>\n",
       "    </tr>\n",
       "    <tr>\n",
       "      <th>March</th>\n",
       "      <td>315639.92</td>\n",
       "      <td>4346</td>\n",
       "      <td>72.627685</td>\n",
       "    </tr>\n",
       "    <tr>\n",
       "      <th>April</th>\n",
       "      <td>388177.43</td>\n",
       "      <td>4150</td>\n",
       "      <td>93.536730</td>\n",
       "    </tr>\n",
       "    <tr>\n",
       "      <th>May</th>\n",
       "      <td>288872.48</td>\n",
       "      <td>4572</td>\n",
       "      <td>63.182957</td>\n",
       "    </tr>\n",
       "    <tr>\n",
       "      <th>June</th>\n",
       "      <td>288910.57</td>\n",
       "      <td>4193</td>\n",
       "      <td>68.903069</td>\n",
       "    </tr>\n",
       "    <tr>\n",
       "      <th>July</th>\n",
       "      <td>360625.16</td>\n",
       "      <td>5251</td>\n",
       "      <td>68.677425</td>\n",
       "    </tr>\n",
       "    <tr>\n",
       "      <th>August</th>\n",
       "      <td>373098.89</td>\n",
       "      <td>6150</td>\n",
       "      <td>60.666486</td>\n",
       "    </tr>\n",
       "    <tr>\n",
       "      <th>September</th>\n",
       "      <td>320559.19</td>\n",
       "      <td>4288</td>\n",
       "      <td>74.757274</td>\n",
       "    </tr>\n",
       "    <tr>\n",
       "      <th>October</th>\n",
       "      <td>396163.42</td>\n",
       "      <td>4164</td>\n",
       "      <td>95.140110</td>\n",
       "    </tr>\n",
       "    <tr>\n",
       "      <th>November</th>\n",
       "      <td>473235.42</td>\n",
       "      <td>3961</td>\n",
       "      <td>119.473724</td>\n",
       "    </tr>\n",
       "    <tr>\n",
       "      <th>December</th>\n",
       "      <td>472681.54</td>\n",
       "      <td>4502</td>\n",
       "      <td>104.993678</td>\n",
       "    </tr>\n",
       "  </tbody>\n",
       "</table>\n",
       "</div>"
      ],
      "text/plain": [
       "                 sum  count        mean\n",
       "month                                  \n",
       "January    390652.80   4063   96.148856\n",
       "February   291395.49   3284   88.731879\n",
       "March      315639.92   4346   72.627685\n",
       "April      388177.43   4150   93.536730\n",
       "May        288872.48   4572   63.182957\n",
       "June       288910.57   4193   68.903069\n",
       "July       360625.16   5251   68.677425\n",
       "August     373098.89   6150   60.666486\n",
       "September  320559.19   4288   74.757274\n",
       "October    396163.42   4164   95.140110\n",
       "November   473235.42   3961  119.473724\n",
       "December   472681.54   4502  104.993678"
      ]
     },
     "execution_count": 120,
     "metadata": {},
     "output_type": "execute_result"
    }
   ],
   "source": [
    "sales.groupby(by='month', observed=True)['product_revenue'].agg(['sum', 'count', 'mean'])"
   ]
  },
  {
   "cell_type": "markdown",
   "id": "bf475b01-7c2b-410e-a84b-9edd395d87be",
   "metadata": {},
   "source": [
    "We can also give **names** to the aggregations, even if we use different columns."
   ]
  },
  {
   "cell_type": "code",
   "execution_count": 124,
   "id": "f0975dac-d074-4bc6-a56c-e3a4b5ddfaad",
   "metadata": {},
   "outputs": [
    {
     "data": {
      "text/html": [
       "<div>\n",
       "<style scoped>\n",
       "    .dataframe tbody tr th:only-of-type {\n",
       "        vertical-align: middle;\n",
       "    }\n",
       "\n",
       "    .dataframe tbody tr th {\n",
       "        vertical-align: top;\n",
       "    }\n",
       "\n",
       "    .dataframe thead th {\n",
       "        text-align: right;\n",
       "    }\n",
       "</style>\n",
       "<table border=\"1\" class=\"dataframe\">\n",
       "  <thead>\n",
       "    <tr style=\"text-align: right;\">\n",
       "      <th></th>\n",
       "      <th></th>\n",
       "      <th>average_tenure_months</th>\n",
       "      <th>average_revenue</th>\n",
       "      <th>unique_customers</th>\n",
       "    </tr>\n",
       "    <tr>\n",
       "      <th>location</th>\n",
       "      <th>gender</th>\n",
       "      <th></th>\n",
       "      <th></th>\n",
       "      <th></th>\n",
       "    </tr>\n",
       "  </thead>\n",
       "  <tbody>\n",
       "    <tr>\n",
       "      <th rowspan=\"2\" valign=\"top\">California</th>\n",
       "      <th>Female</th>\n",
       "      <td>25.292658</td>\n",
       "      <td>85.474273</td>\n",
       "      <td>299</td>\n",
       "    </tr>\n",
       "    <tr>\n",
       "      <th>Male</th>\n",
       "      <td>29.261620</td>\n",
       "      <td>80.627032</td>\n",
       "      <td>165</td>\n",
       "    </tr>\n",
       "    <tr>\n",
       "      <th rowspan=\"2\" valign=\"top\">Chicago</th>\n",
       "      <th>Female</th>\n",
       "      <td>26.993992</td>\n",
       "      <td>82.100350</td>\n",
       "      <td>285</td>\n",
       "    </tr>\n",
       "    <tr>\n",
       "      <th>Male</th>\n",
       "      <td>25.021897</td>\n",
       "      <td>82.977377</td>\n",
       "      <td>171</td>\n",
       "    </tr>\n",
       "    <tr>\n",
       "      <th rowspan=\"2\" valign=\"top\">New Jersey</th>\n",
       "      <th>Female</th>\n",
       "      <td>25.990218</td>\n",
       "      <td>80.229103</td>\n",
       "      <td>97</td>\n",
       "    </tr>\n",
       "    <tr>\n",
       "      <th>Male</th>\n",
       "      <td>25.959610</td>\n",
       "      <td>94.634972</td>\n",
       "      <td>52</td>\n",
       "    </tr>\n",
       "    <tr>\n",
       "      <th rowspan=\"2\" valign=\"top\">New York</th>\n",
       "      <th>Female</th>\n",
       "      <td>24.294327</td>\n",
       "      <td>75.664662</td>\n",
       "      <td>213</td>\n",
       "    </tr>\n",
       "    <tr>\n",
       "      <th>Male</th>\n",
       "      <td>25.700104</td>\n",
       "      <td>83.045607</td>\n",
       "      <td>111</td>\n",
       "    </tr>\n",
       "    <tr>\n",
       "      <th rowspan=\"2\" valign=\"top\">Washington DC</th>\n",
       "      <th>Female</th>\n",
       "      <td>24.285150</td>\n",
       "      <td>100.553562</td>\n",
       "      <td>40</td>\n",
       "    </tr>\n",
       "    <tr>\n",
       "      <th>Male</th>\n",
       "      <td>29.111187</td>\n",
       "      <td>77.052769</td>\n",
       "      <td>35</td>\n",
       "    </tr>\n",
       "  </tbody>\n",
       "</table>\n",
       "</div>"
      ],
      "text/plain": [
       "                      average_tenure_months  average_revenue  unique_customers\n",
       "location      gender                                                          \n",
       "California    Female              25.292658        85.474273               299\n",
       "              Male                29.261620        80.627032               165\n",
       "Chicago       Female              26.993992        82.100350               285\n",
       "              Male                25.021897        82.977377               171\n",
       "New Jersey    Female              25.990218        80.229103                97\n",
       "              Male                25.959610        94.634972                52\n",
       "New York      Female              24.294327        75.664662               213\n",
       "              Male                25.700104        83.045607               111\n",
       "Washington DC Female              24.285150       100.553562                40\n",
       "              Male                29.111187        77.052769                35"
      ]
     },
     "execution_count": 124,
     "metadata": {},
     "output_type": "execute_result"
    }
   ],
   "source": [
    "sales.groupby(by=['location', 'gender'], observed=True).agg(average_tenure_months=('tenure_months', 'mean'),\n",
    "                                                            average_revenue=('product_revenue', 'mean'),\n",
    "                                                            unique_customers=('customer_id', 'nunique'))"
   ]
  },
  {
   "cell_type": "code",
   "execution_count": null,
   "id": "4b84867a-fb1d-4266-ad62-5dd11da75485",
   "metadata": {},
   "outputs": [],
   "source": []
  }
 ],
 "metadata": {
  "kernelspec": {
   "display_name": "applied_ml_kernel",
   "language": "python",
   "name": "applied_ml_kernel"
  },
  "language_info": {
   "codemirror_mode": {
    "name": "ipython",
    "version": 3
   },
   "file_extension": ".py",
   "mimetype": "text/x-python",
   "name": "python",
   "nbconvert_exporter": "python",
   "pygments_lexer": "ipython3",
   "version": "3.11.5"
  }
 },
 "nbformat": 4,
 "nbformat_minor": 5
}
