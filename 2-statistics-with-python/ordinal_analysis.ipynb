{
 "cells": [
  {
   "cell_type": "markdown",
   "id": "2d20e83d-9331-4c9d-a01e-e9fbd37189e8",
   "metadata": {},
   "source": [
    "# Ordinal Variable Analysis\n",
    "This notebook will showcase ordinal variable analysis using Python. The module used will be scipy.stats, so make sure you have downloaded it. This is not intended to be a statistical tutorial or showcase entirely the scipy.stats module. The dataset used is an [Employee Satisfaction Survey](www.kaggle.com/datasets/redpen12/employees-satisfaction-analysis) from [Kaggle](https://www.kaggle.com/). The description of the dataset from the creator is as follows:\n",
    "\n",
    "*The Employee Satisfaction Survey dataset is a comprehensive collection of information regarding employees within a company. It includes essential details such as employee identification numbers, self-reported satisfaction levels, performance evaluations, project involvement, work hours, tenure with the company, work accidents, promotions received in the last 5 years, departmental affiliations, and salary levels. This dataset offers valuable insights into the factors influencing employee satisfaction and can be used to analyze and understand various aspects of the workplace environment.*\n",
    "\n",
    "Our goal in this notebook is to transform some of the columns to Ordinal Categorical data in order to use statistics, and see if there are relationships between the rankings of variables. Our null hypothesis for every pair of variables is that they are independent, which means that one's distribution does not affect the other one. Our goal will be to find if there are any dependent variables, test if they are statistically significant (we'll be using p-value=0.05), the magnitude and the intensity of the relationship. We'll be using both [Spearman's Rho](https://en.wikipedia.org/wiki/Spearman%27s_rank_correlation_coefficient) and [Kendall's Tau Coefficient](https://en.wikipedia.org/wiki/Kendall_rank_correlation_coefficient).\n",
    "\n",
    "---\n",
    "\n",
    "> Kostas Riganas <br />\n",
    "> IT & Data Lead <br />\n",
    "> UniAI <br />\n",
    "> kriganas@uniai.gr\n"
   ]
  },
  {
   "cell_type": "code",
   "execution_count": 1,
   "id": "51967095-1865-409c-950f-ef59334eaa4b",
   "metadata": {},
   "outputs": [],
   "source": [
    "import numpy as np\n",
    "import pandas as pd\n",
    "from scipy import stats\n",
    "import matplotlib.pyplot as plt"
   ]
  },
  {
   "cell_type": "markdown",
   "id": "9c632f7a-b0dd-4268-9bf3-569dae5ce8e4",
   "metadata": {},
   "source": [
    "We specified the data types for each column in the dataset. It is not necessary, but it is good to specify them. You can check pandas basic data types [here](https://pandas.pydata.org/docs/user_guide/basics.html#basics-dtypes)."
   ]
  },
  {
   "cell_type": "code",
   "execution_count": 2,
   "id": "7f19b25e-d432-4f8e-9a11-f05bef1353da",
   "metadata": {},
   "outputs": [],
   "source": [
    "data = pd.read_csv('data/Employee Attrition.csv', \n",
    "                   dtype={\n",
    "                       'Emp ID': 'string',\n",
    "                       'number_project': 'Int64',\n",
    "                       'average_montly_hours': 'Int64',\n",
    "                       'time_spend_company': 'Int64',\n",
    "                       'Work_accident': 'boolean',\n",
    "                       'promotion_last_5years': 'boolean',\n",
    "                       'dept': 'string',\n",
    "                       'salary': 'string'\n",
    "                   }\n",
    ")"
   ]
  },
  {
   "cell_type": "code",
   "execution_count": 3,
   "id": "d5e5cd3a-41eb-46f0-9228-7d42df2483b3",
   "metadata": {},
   "outputs": [
    {
     "data": {
      "text/html": [
       "<div>\n",
       "<style scoped>\n",
       "    .dataframe tbody tr th:only-of-type {\n",
       "        vertical-align: middle;\n",
       "    }\n",
       "\n",
       "    .dataframe tbody tr th {\n",
       "        vertical-align: top;\n",
       "    }\n",
       "\n",
       "    .dataframe thead th {\n",
       "        text-align: right;\n",
       "    }\n",
       "</style>\n",
       "<table border=\"1\" class=\"dataframe\">\n",
       "  <thead>\n",
       "    <tr style=\"text-align: right;\">\n",
       "      <th></th>\n",
       "      <th>Emp ID</th>\n",
       "      <th>satisfaction_level</th>\n",
       "      <th>last_evaluation</th>\n",
       "      <th>number_project</th>\n",
       "      <th>average_montly_hours</th>\n",
       "      <th>time_spend_company</th>\n",
       "      <th>Work_accident</th>\n",
       "      <th>promotion_last_5years</th>\n",
       "      <th>dept</th>\n",
       "      <th>salary</th>\n",
       "    </tr>\n",
       "  </thead>\n",
       "  <tbody>\n",
       "    <tr>\n",
       "      <th>0</th>\n",
       "      <td>1</td>\n",
       "      <td>0.38</td>\n",
       "      <td>0.53</td>\n",
       "      <td>2</td>\n",
       "      <td>157</td>\n",
       "      <td>3</td>\n",
       "      <td>False</td>\n",
       "      <td>False</td>\n",
       "      <td>sales</td>\n",
       "      <td>low</td>\n",
       "    </tr>\n",
       "    <tr>\n",
       "      <th>1</th>\n",
       "      <td>2</td>\n",
       "      <td>0.80</td>\n",
       "      <td>0.86</td>\n",
       "      <td>5</td>\n",
       "      <td>262</td>\n",
       "      <td>6</td>\n",
       "      <td>False</td>\n",
       "      <td>False</td>\n",
       "      <td>sales</td>\n",
       "      <td>medium</td>\n",
       "    </tr>\n",
       "    <tr>\n",
       "      <th>2</th>\n",
       "      <td>3</td>\n",
       "      <td>0.11</td>\n",
       "      <td>0.88</td>\n",
       "      <td>7</td>\n",
       "      <td>272</td>\n",
       "      <td>4</td>\n",
       "      <td>False</td>\n",
       "      <td>False</td>\n",
       "      <td>sales</td>\n",
       "      <td>medium</td>\n",
       "    </tr>\n",
       "    <tr>\n",
       "      <th>3</th>\n",
       "      <td>4</td>\n",
       "      <td>0.72</td>\n",
       "      <td>0.87</td>\n",
       "      <td>5</td>\n",
       "      <td>223</td>\n",
       "      <td>5</td>\n",
       "      <td>False</td>\n",
       "      <td>False</td>\n",
       "      <td>sales</td>\n",
       "      <td>low</td>\n",
       "    </tr>\n",
       "    <tr>\n",
       "      <th>4</th>\n",
       "      <td>5</td>\n",
       "      <td>0.37</td>\n",
       "      <td>0.52</td>\n",
       "      <td>2</td>\n",
       "      <td>159</td>\n",
       "      <td>3</td>\n",
       "      <td>False</td>\n",
       "      <td>False</td>\n",
       "      <td>sales</td>\n",
       "      <td>low</td>\n",
       "    </tr>\n",
       "    <tr>\n",
       "      <th>...</th>\n",
       "      <td>...</td>\n",
       "      <td>...</td>\n",
       "      <td>...</td>\n",
       "      <td>...</td>\n",
       "      <td>...</td>\n",
       "      <td>...</td>\n",
       "      <td>...</td>\n",
       "      <td>...</td>\n",
       "      <td>...</td>\n",
       "      <td>...</td>\n",
       "    </tr>\n",
       "    <tr>\n",
       "      <th>15782</th>\n",
       "      <td>14995</td>\n",
       "      <td>0.40</td>\n",
       "      <td>0.57</td>\n",
       "      <td>2</td>\n",
       "      <td>151</td>\n",
       "      <td>3</td>\n",
       "      <td>False</td>\n",
       "      <td>False</td>\n",
       "      <td>support</td>\n",
       "      <td>low</td>\n",
       "    </tr>\n",
       "    <tr>\n",
       "      <th>15783</th>\n",
       "      <td>14996</td>\n",
       "      <td>0.37</td>\n",
       "      <td>0.48</td>\n",
       "      <td>2</td>\n",
       "      <td>160</td>\n",
       "      <td>3</td>\n",
       "      <td>False</td>\n",
       "      <td>False</td>\n",
       "      <td>support</td>\n",
       "      <td>low</td>\n",
       "    </tr>\n",
       "    <tr>\n",
       "      <th>15784</th>\n",
       "      <td>14997</td>\n",
       "      <td>0.37</td>\n",
       "      <td>0.53</td>\n",
       "      <td>2</td>\n",
       "      <td>143</td>\n",
       "      <td>3</td>\n",
       "      <td>False</td>\n",
       "      <td>False</td>\n",
       "      <td>support</td>\n",
       "      <td>low</td>\n",
       "    </tr>\n",
       "    <tr>\n",
       "      <th>15785</th>\n",
       "      <td>14998</td>\n",
       "      <td>0.11</td>\n",
       "      <td>0.96</td>\n",
       "      <td>6</td>\n",
       "      <td>280</td>\n",
       "      <td>4</td>\n",
       "      <td>False</td>\n",
       "      <td>False</td>\n",
       "      <td>support</td>\n",
       "      <td>low</td>\n",
       "    </tr>\n",
       "    <tr>\n",
       "      <th>15786</th>\n",
       "      <td>14999</td>\n",
       "      <td>0.37</td>\n",
       "      <td>0.52</td>\n",
       "      <td>2</td>\n",
       "      <td>158</td>\n",
       "      <td>3</td>\n",
       "      <td>False</td>\n",
       "      <td>False</td>\n",
       "      <td>support</td>\n",
       "      <td>low</td>\n",
       "    </tr>\n",
       "  </tbody>\n",
       "</table>\n",
       "<p>15787 rows × 10 columns</p>\n",
       "</div>"
      ],
      "text/plain": [
       "      Emp ID  satisfaction_level  last_evaluation  number_project  \\\n",
       "0          1                0.38             0.53               2   \n",
       "1          2                0.80             0.86               5   \n",
       "2          3                0.11             0.88               7   \n",
       "3          4                0.72             0.87               5   \n",
       "4          5                0.37             0.52               2   \n",
       "...      ...                 ...              ...             ...   \n",
       "15782  14995                0.40             0.57               2   \n",
       "15783  14996                0.37             0.48               2   \n",
       "15784  14997                0.37             0.53               2   \n",
       "15785  14998                0.11             0.96               6   \n",
       "15786  14999                0.37             0.52               2   \n",
       "\n",
       "       average_montly_hours  time_spend_company  Work_accident  \\\n",
       "0                       157                   3          False   \n",
       "1                       262                   6          False   \n",
       "2                       272                   4          False   \n",
       "3                       223                   5          False   \n",
       "4                       159                   3          False   \n",
       "...                     ...                 ...            ...   \n",
       "15782                   151                   3          False   \n",
       "15783                   160                   3          False   \n",
       "15784                   143                   3          False   \n",
       "15785                   280                   4          False   \n",
       "15786                   158                   3          False   \n",
       "\n",
       "       promotion_last_5years     dept  salary  \n",
       "0                      False    sales     low  \n",
       "1                      False    sales  medium  \n",
       "2                      False    sales  medium  \n",
       "3                      False    sales     low  \n",
       "4                      False    sales     low  \n",
       "...                      ...      ...     ...  \n",
       "15782                  False  support     low  \n",
       "15783                  False  support     low  \n",
       "15784                  False  support     low  \n",
       "15785                  False  support     low  \n",
       "15786                  False  support     low  \n",
       "\n",
       "[15787 rows x 10 columns]"
      ]
     },
     "execution_count": 3,
     "metadata": {},
     "output_type": "execute_result"
    }
   ],
   "source": [
    "data"
   ]
  },
  {
   "cell_type": "code",
   "execution_count": 4,
   "id": "5149fca9-a6c8-4263-a2e5-7955017f721d",
   "metadata": {},
   "outputs": [
    {
     "data": {
      "text/plain": [
       "Emp ID                   string[python]\n",
       "satisfaction_level              float64\n",
       "last_evaluation                 float64\n",
       "number_project                    Int64\n",
       "average_montly_hours              Int64\n",
       "time_spend_company                Int64\n",
       "Work_accident                   boolean\n",
       "promotion_last_5years           boolean\n",
       "dept                     string[python]\n",
       "salary                   string[python]\n",
       "dtype: object"
      ]
     },
     "execution_count": 4,
     "metadata": {},
     "output_type": "execute_result"
    }
   ],
   "source": [
    "data.dtypes"
   ]
  },
  {
   "cell_type": "code",
   "execution_count": 5,
   "id": "c088a473-750f-4773-b79d-2f74ea355f0b",
   "metadata": {},
   "outputs": [
    {
     "data": {
      "text/plain": [
       "Emp ID                   788\n",
       "satisfaction_level       788\n",
       "last_evaluation          788\n",
       "number_project           788\n",
       "average_montly_hours     788\n",
       "time_spend_company       788\n",
       "Work_accident            788\n",
       "promotion_last_5years    788\n",
       "dept                     788\n",
       "salary                   788\n",
       "dtype: int64"
      ]
     },
     "execution_count": 5,
     "metadata": {},
     "output_type": "execute_result"
    }
   ],
   "source": [
    "data.isna().sum()"
   ]
  },
  {
   "cell_type": "markdown",
   "id": "435cb50f-566f-4609-b4c8-544d3cc06ac8",
   "metadata": {},
   "source": [
    "We see that there are null values, and to be exact, for 788 employees. Let's remove them before proceeding."
   ]
  },
  {
   "cell_type": "code",
   "execution_count": 6,
   "id": "19c1a2a4-7796-4fb0-a439-236d0bac35f9",
   "metadata": {},
   "outputs": [],
   "source": [
    "data.dropna(subset='Emp ID', inplace=True)"
   ]
  },
  {
   "cell_type": "markdown",
   "id": "3dd9557e-5812-4d97-8f21-480875fab82d",
   "metadata": {},
   "source": [
    "## Variable Distributions\n",
    "We might have not done a matplotlib lesson yet, but we can use some functions to get a better idea of our data.\n",
    "\n",
    "`edgecolor`: we give a color that the edges of a bar will have. If we don't give a color it will not show borders between bars.\n",
    "\n",
    "`linewidth`: the width (in pixels) of the borders between the bars."
   ]
  },
  {
   "cell_type": "code",
   "execution_count": 7,
   "id": "80633fed-88e0-424f-bc3a-52ce8b052a3b",
   "metadata": {},
   "outputs": [
    {
     "data": {
      "image/png": "[encoded data removed]",
      "text/plain": [
       "<Figure size 640x480 with 1 Axes>"
      ]
     },
     "metadata": {},
     "output_type": "display_data"
    }
   ],
   "source": [
    "_ = plt.hist(data.loc[:, 'satisfaction_level'], edgecolor='black', linewidth=1.2)"
   ]
  },
  {
   "cell_type": "markdown",
   "id": "45434225-d853-4acb-b775-4f6c34c7e8b8",
   "metadata": {},
   "source": [
    "We can see there are many unsatisfied employees (< 0.2), many moderately satisfied (0.4 < sat < 0.6) and many that are satisfied (0.6 >)."
   ]
  },
  {
   "cell_type": "code",
   "execution_count": 8,
   "id": "013a8279-04aa-4018-8efe-cc9f4c769a0a",
   "metadata": {},
   "outputs": [
    {
     "data": {
      "text/plain": [
       "(0.0, 1.0)"
      ]
     },
     "execution_count": 8,
     "metadata": {},
     "output_type": "execute_result"
    },
    {
     "data": {
      "image/png": "[encoded data removed]",
      "text/plain": [
       "<Figure size 640x480 with 1 Axes>"
      ]
     },
     "metadata": {},
     "output_type": "display_data"
    }
   ],
   "source": [
    "_ = plt.hist(data.loc[:, 'last_evaluation'], edgecolor='black', linewidth=1.2)\n",
    "plt.xlim([0, 1])"
   ]
  },
  {
   "cell_type": "code",
   "execution_count": 9,
   "id": "9de31fb0-76a5-4f29-bba7-2b7c94a70fa7",
   "metadata": {},
   "outputs": [
    {
     "data": {
      "text/html": [
       "<div>\n",
       "<style scoped>\n",
       "    .dataframe tbody tr th:only-of-type {\n",
       "        vertical-align: middle;\n",
       "    }\n",
       "\n",
       "    .dataframe tbody tr th {\n",
       "        vertical-align: top;\n",
       "    }\n",
       "\n",
       "    .dataframe thead th {\n",
       "        text-align: right;\n",
       "    }\n",
       "</style>\n",
       "<table border=\"1\" class=\"dataframe\">\n",
       "  <thead>\n",
       "    <tr style=\"text-align: right;\">\n",
       "      <th></th>\n",
       "      <th>satisfaction_level</th>\n",
       "      <th>last_evaluation</th>\n",
       "      <th>number_project</th>\n",
       "      <th>average_montly_hours</th>\n",
       "      <th>time_spend_company</th>\n",
       "    </tr>\n",
       "  </thead>\n",
       "  <tbody>\n",
       "    <tr>\n",
       "      <th>count</th>\n",
       "      <td>14999.000000</td>\n",
       "      <td>14999.000000</td>\n",
       "      <td>14999.0</td>\n",
       "      <td>14999.0</td>\n",
       "      <td>14999.0</td>\n",
       "    </tr>\n",
       "    <tr>\n",
       "      <th>mean</th>\n",
       "      <td>0.612834</td>\n",
       "      <td>0.716102</td>\n",
       "      <td>3.803054</td>\n",
       "      <td>201.050337</td>\n",
       "      <td>3.498233</td>\n",
       "    </tr>\n",
       "    <tr>\n",
       "      <th>std</th>\n",
       "      <td>0.248631</td>\n",
       "      <td>0.171169</td>\n",
       "      <td>1.232592</td>\n",
       "      <td>49.943099</td>\n",
       "      <td>1.460136</td>\n",
       "    </tr>\n",
       "    <tr>\n",
       "      <th>min</th>\n",
       "      <td>0.090000</td>\n",
       "      <td>0.360000</td>\n",
       "      <td>2.0</td>\n",
       "      <td>96.0</td>\n",
       "      <td>2.0</td>\n",
       "    </tr>\n",
       "    <tr>\n",
       "      <th>25%</th>\n",
       "      <td>0.440000</td>\n",
       "      <td>0.560000</td>\n",
       "      <td>3.0</td>\n",
       "      <td>156.0</td>\n",
       "      <td>3.0</td>\n",
       "    </tr>\n",
       "    <tr>\n",
       "      <th>50%</th>\n",
       "      <td>0.640000</td>\n",
       "      <td>0.720000</td>\n",
       "      <td>4.0</td>\n",
       "      <td>200.0</td>\n",
       "      <td>3.0</td>\n",
       "    </tr>\n",
       "    <tr>\n",
       "      <th>75%</th>\n",
       "      <td>0.820000</td>\n",
       "      <td>0.870000</td>\n",
       "      <td>5.0</td>\n",
       "      <td>245.0</td>\n",
       "      <td>4.0</td>\n",
       "    </tr>\n",
       "    <tr>\n",
       "      <th>max</th>\n",
       "      <td>1.000000</td>\n",
       "      <td>1.000000</td>\n",
       "      <td>7.0</td>\n",
       "      <td>310.0</td>\n",
       "      <td>10.0</td>\n",
       "    </tr>\n",
       "  </tbody>\n",
       "</table>\n",
       "</div>"
      ],
      "text/plain": [
       "       satisfaction_level  last_evaluation  number_project  \\\n",
       "count        14999.000000     14999.000000         14999.0   \n",
       "mean             0.612834         0.716102        3.803054   \n",
       "std              0.248631         0.171169        1.232592   \n",
       "min              0.090000         0.360000             2.0   \n",
       "25%              0.440000         0.560000             3.0   \n",
       "50%              0.640000         0.720000             4.0   \n",
       "75%              0.820000         0.870000             5.0   \n",
       "max              1.000000         1.000000             7.0   \n",
       "\n",
       "       average_montly_hours  time_spend_company  \n",
       "count               14999.0             14999.0  \n",
       "mean             201.050337            3.498233  \n",
       "std               49.943099            1.460136  \n",
       "min                    96.0                 2.0  \n",
       "25%                   156.0                 3.0  \n",
       "50%                   200.0                 3.0  \n",
       "75%                   245.0                 4.0  \n",
       "max                   310.0                10.0  "
      ]
     },
     "execution_count": 9,
     "metadata": {},
     "output_type": "execute_result"
    }
   ],
   "source": [
    "data.loc[:, ['satisfaction_level', 'last_evaluation', 'number_project', 'average_montly_hours', 'time_spend_company']].describe()"
   ]
  },
  {
   "cell_type": "code",
   "execution_count": 10,
   "id": "2c13a6c9-ffa5-4679-9c96-f907f7e438b1",
   "metadata": {},
   "outputs": [
    {
     "data": {
      "text/html": [
       "<div>\n",
       "<style scoped>\n",
       "    .dataframe tbody tr th:only-of-type {\n",
       "        vertical-align: middle;\n",
       "    }\n",
       "\n",
       "    .dataframe tbody tr th {\n",
       "        vertical-align: top;\n",
       "    }\n",
       "\n",
       "    .dataframe thead th {\n",
       "        text-align: right;\n",
       "    }\n",
       "</style>\n",
       "<table border=\"1\" class=\"dataframe\">\n",
       "  <thead>\n",
       "    <tr style=\"text-align: right;\">\n",
       "      <th></th>\n",
       "      <th>Work_accident</th>\n",
       "      <th>promotion_last_5years</th>\n",
       "    </tr>\n",
       "  </thead>\n",
       "  <tbody>\n",
       "    <tr>\n",
       "      <th>count</th>\n",
       "      <td>14999</td>\n",
       "      <td>14999</td>\n",
       "    </tr>\n",
       "    <tr>\n",
       "      <th>unique</th>\n",
       "      <td>2</td>\n",
       "      <td>2</td>\n",
       "    </tr>\n",
       "    <tr>\n",
       "      <th>top</th>\n",
       "      <td>False</td>\n",
       "      <td>False</td>\n",
       "    </tr>\n",
       "    <tr>\n",
       "      <th>freq</th>\n",
       "      <td>12830</td>\n",
       "      <td>14680</td>\n",
       "    </tr>\n",
       "  </tbody>\n",
       "</table>\n",
       "</div>"
      ],
      "text/plain": [
       "       Work_accident promotion_last_5years\n",
       "count          14999                 14999\n",
       "unique             2                     2\n",
       "top            False                 False\n",
       "freq           12830                 14680"
      ]
     },
     "execution_count": 10,
     "metadata": {},
     "output_type": "execute_result"
    }
   ],
   "source": [
    "data.loc[:, ['Work_accident', 'promotion_last_5years']].describe()"
   ]
  },
  {
   "cell_type": "code",
   "execution_count": 11,
   "id": "ea03e8fa-8cae-45f6-afff-98145a6f5f81",
   "metadata": {},
   "outputs": [
    {
     "data": {
      "text/html": [
       "<div>\n",
       "<style scoped>\n",
       "    .dataframe tbody tr th:only-of-type {\n",
       "        vertical-align: middle;\n",
       "    }\n",
       "\n",
       "    .dataframe tbody tr th {\n",
       "        vertical-align: top;\n",
       "    }\n",
       "\n",
       "    .dataframe thead th {\n",
       "        text-align: right;\n",
       "    }\n",
       "</style>\n",
       "<table border=\"1\" class=\"dataframe\">\n",
       "  <thead>\n",
       "    <tr style=\"text-align: right;\">\n",
       "      <th></th>\n",
       "      <th>dept</th>\n",
       "      <th>salary</th>\n",
       "    </tr>\n",
       "  </thead>\n",
       "  <tbody>\n",
       "    <tr>\n",
       "      <th>count</th>\n",
       "      <td>14999</td>\n",
       "      <td>14999</td>\n",
       "    </tr>\n",
       "    <tr>\n",
       "      <th>unique</th>\n",
       "      <td>10</td>\n",
       "      <td>3</td>\n",
       "    </tr>\n",
       "    <tr>\n",
       "      <th>top</th>\n",
       "      <td>sales</td>\n",
       "      <td>low</td>\n",
       "    </tr>\n",
       "    <tr>\n",
       "      <th>freq</th>\n",
       "      <td>4140</td>\n",
       "      <td>7316</td>\n",
       "    </tr>\n",
       "  </tbody>\n",
       "</table>\n",
       "</div>"
      ],
      "text/plain": [
       "         dept salary\n",
       "count   14999  14999\n",
       "unique     10      3\n",
       "top     sales    low\n",
       "freq     4140   7316"
      ]
     },
     "execution_count": 11,
     "metadata": {},
     "output_type": "execute_result"
    }
   ],
   "source": [
    "data.loc[:, ['dept', 'salary']].describe()"
   ]
  },
  {
   "cell_type": "markdown",
   "id": "7c935c0c-92ad-4b0e-a0bf-040cd24ed510",
   "metadata": {},
   "source": [
    "## Transforming to Ordinal"
   ]
  },
  {
   "cell_type": "code",
   "execution_count": 12,
   "id": "7a5da8da-deec-4ef4-8adb-440a183a99a8",
   "metadata": {},
   "outputs": [
    {
     "data": {
      "text/plain": [
       "<StringArray>\n",
       "['low', 'medium', 'high']\n",
       "Length: 3, dtype: string"
      ]
     },
     "execution_count": 12,
     "metadata": {},
     "output_type": "execute_result"
    }
   ],
   "source": [
    "data.loc[:, 'salary'].unique()"
   ]
  },
  {
   "cell_type": "markdown",
   "id": "678babe8-d15d-4e86-850d-e78de22828a8",
   "metadata": {},
   "source": [
    "Salary already has \"ordinal\" values, so we can make them immediately Ordinal Categorical. Since the array above is in the order we want we can pass it as a parameter to `pd.Categorical`."
   ]
  },
  {
   "cell_type": "code",
   "execution_count": 13,
   "id": "9c33188d-9bc3-4b1e-b4bf-9edf722f9e40",
   "metadata": {},
   "outputs": [],
   "source": [
    "data.loc[:, 'salary'] = pd.Categorical(data.loc[:, 'salary'],\n",
    "               categories=data.loc[:, 'salary'].unique(),\n",
    "               ordered=True)"
   ]
  },
  {
   "cell_type": "markdown",
   "id": "7e0663b9-df33-4fc6-a1a7-1eef1f2e17e5",
   "metadata": {},
   "source": [
    "For our numerical values, we can use the `pd.cut` function pandas provides, assisting us on creating categories from the arithmetic values."
   ]
  },
  {
   "cell_type": "code",
   "execution_count": 14,
   "id": "29f2e66c-2cda-4cf0-a494-fe4b4949d6b8",
   "metadata": {},
   "outputs": [
    {
     "data": {
      "text/plain": [
       "count      14999.0\n",
       "mean     25.131292\n",
       "std       6.242887\n",
       "min           12.0\n",
       "25%           19.5\n",
       "50%           25.0\n",
       "75%         30.625\n",
       "max          38.75\n",
       "Name: average_montly_hours, dtype: Float64"
      ]
     },
     "execution_count": 14,
     "metadata": {},
     "output_type": "execute_result"
    }
   ],
   "source": [
    "(data.loc[:, 'average_montly_hours'] / 8).describe()"
   ]
  },
  {
   "cell_type": "code",
   "execution_count": 15,
   "id": "2bd8a05a-510b-4de2-8680-5b902c49f092",
   "metadata": {},
   "outputs": [],
   "source": [
    "bins = [0, 15 * 8, 20 * 8, 25 * 8, 30 * 8, np.inf]\n",
    "labels = ['< 15 days', '15-20 days', '20-25 days', '25-30 days', '> 30+ days']\n",
    "data.loc[:, 'average_monthly_work_days'] = pd.cut(data.loc[:, 'average_montly_hours'],\n",
    "       bins=bins,\n",
    "       labels=labels\n",
    ")"
   ]
  },
  {
   "cell_type": "code",
   "execution_count": 16,
   "id": "ba1dc107-a39d-4db9-a48d-fac452b511c7",
   "metadata": {},
   "outputs": [],
   "source": [
    "bins = [0, 3, 5, np.inf]\n",
    "labels = ['2-3', '4-5', '6+']\n",
    "data.loc[:, 'projects'] = pd.cut(data.loc[:, 'number_project'],\n",
    "       bins=bins,\n",
    "       labels=labels\n",
    ")"
   ]
  },
  {
   "cell_type": "code",
   "execution_count": 17,
   "id": "8ec66bc7-a4e4-49e2-be81-b3a238e30197",
   "metadata": {},
   "outputs": [],
   "source": [
    "bins = [0, 3, 5, 7, np.inf]\n",
    "labels = ['2-3', '4-5', '6-7', '8+']\n",
    "data.loc[:, 'years_in_company'] = pd.cut(data.loc[:, 'time_spend_company'],\n",
    "       bins=bins,\n",
    "       labels=labels\n",
    ")"
   ]
  },
  {
   "cell_type": "code",
   "execution_count": 18,
   "id": "e73dc411-0fd8-4a63-a958-c7a50a60516d",
   "metadata": {},
   "outputs": [],
   "source": [
    "bins = [0, 0.2, 0.4, 0.6, 0.8, 1]\n",
    "labels = ['Very Bad', 'Bad', 'Moderate', 'Good', 'Very Good']\n",
    "data.loc[:, 'evaluation'] = pd.cut(data.loc[:, 'last_evaluation'],\n",
    "       bins=bins,\n",
    "       labels=labels\n",
    ")"
   ]
  },
  {
   "cell_type": "code",
   "execution_count": 19,
   "id": "d9d70050-a3a7-4194-bca8-d9b5714dd7a3",
   "metadata": {},
   "outputs": [],
   "source": [
    "bins = [0, 0.2, 0.4, 0.6, 0.8, 1]\n",
    "labels = ['Very Low', 'Low', 'Moderate', 'High', 'Very High']\n",
    "data.loc[:, 'satisfaction'] = pd.cut(data.loc[:, 'satisfaction_level'],\n",
    "       bins=bins,\n",
    "       labels=labels\n",
    ")"
   ]
  },
  {
   "cell_type": "code",
   "execution_count": 20,
   "id": "5845a3fd-ba6f-4e4c-84da-f17d3cc1f326",
   "metadata": {},
   "outputs": [
    {
     "data": {
      "text/html": [
       "<div>\n",
       "<style scoped>\n",
       "    .dataframe tbody tr th:only-of-type {\n",
       "        vertical-align: middle;\n",
       "    }\n",
       "\n",
       "    .dataframe tbody tr th {\n",
       "        vertical-align: top;\n",
       "    }\n",
       "\n",
       "    .dataframe thead th {\n",
       "        text-align: right;\n",
       "    }\n",
       "</style>\n",
       "<table border=\"1\" class=\"dataframe\">\n",
       "  <thead>\n",
       "    <tr style=\"text-align: right;\">\n",
       "      <th></th>\n",
       "      <th>Emp ID</th>\n",
       "      <th>satisfaction_level</th>\n",
       "      <th>last_evaluation</th>\n",
       "      <th>number_project</th>\n",
       "      <th>average_montly_hours</th>\n",
       "      <th>time_spend_company</th>\n",
       "      <th>Work_accident</th>\n",
       "      <th>promotion_last_5years</th>\n",
       "      <th>dept</th>\n",
       "      <th>salary</th>\n",
       "      <th>average_monthly_work_days</th>\n",
       "      <th>projects</th>\n",
       "      <th>years_in_company</th>\n",
       "      <th>evaluation</th>\n",
       "      <th>satisfaction</th>\n",
       "    </tr>\n",
       "  </thead>\n",
       "  <tbody>\n",
       "    <tr>\n",
       "      <th>0</th>\n",
       "      <td>1</td>\n",
       "      <td>0.38</td>\n",
       "      <td>0.53</td>\n",
       "      <td>2</td>\n",
       "      <td>157</td>\n",
       "      <td>3</td>\n",
       "      <td>False</td>\n",
       "      <td>False</td>\n",
       "      <td>sales</td>\n",
       "      <td>low</td>\n",
       "      <td>15-20 days</td>\n",
       "      <td>2-3</td>\n",
       "      <td>2-3</td>\n",
       "      <td>Moderate</td>\n",
       "      <td>Low</td>\n",
       "    </tr>\n",
       "    <tr>\n",
       "      <th>1</th>\n",
       "      <td>2</td>\n",
       "      <td>0.80</td>\n",
       "      <td>0.86</td>\n",
       "      <td>5</td>\n",
       "      <td>262</td>\n",
       "      <td>6</td>\n",
       "      <td>False</td>\n",
       "      <td>False</td>\n",
       "      <td>sales</td>\n",
       "      <td>medium</td>\n",
       "      <td>&gt; 30+ days</td>\n",
       "      <td>4-5</td>\n",
       "      <td>6-7</td>\n",
       "      <td>Very Good</td>\n",
       "      <td>High</td>\n",
       "    </tr>\n",
       "    <tr>\n",
       "      <th>2</th>\n",
       "      <td>3</td>\n",
       "      <td>0.11</td>\n",
       "      <td>0.88</td>\n",
       "      <td>7</td>\n",
       "      <td>272</td>\n",
       "      <td>4</td>\n",
       "      <td>False</td>\n",
       "      <td>False</td>\n",
       "      <td>sales</td>\n",
       "      <td>medium</td>\n",
       "      <td>&gt; 30+ days</td>\n",
       "      <td>6+</td>\n",
       "      <td>4-5</td>\n",
       "      <td>Very Good</td>\n",
       "      <td>Very Low</td>\n",
       "    </tr>\n",
       "    <tr>\n",
       "      <th>3</th>\n",
       "      <td>4</td>\n",
       "      <td>0.72</td>\n",
       "      <td>0.87</td>\n",
       "      <td>5</td>\n",
       "      <td>223</td>\n",
       "      <td>5</td>\n",
       "      <td>False</td>\n",
       "      <td>False</td>\n",
       "      <td>sales</td>\n",
       "      <td>low</td>\n",
       "      <td>25-30 days</td>\n",
       "      <td>4-5</td>\n",
       "      <td>4-5</td>\n",
       "      <td>Very Good</td>\n",
       "      <td>High</td>\n",
       "    </tr>\n",
       "    <tr>\n",
       "      <th>4</th>\n",
       "      <td>5</td>\n",
       "      <td>0.37</td>\n",
       "      <td>0.52</td>\n",
       "      <td>2</td>\n",
       "      <td>159</td>\n",
       "      <td>3</td>\n",
       "      <td>False</td>\n",
       "      <td>False</td>\n",
       "      <td>sales</td>\n",
       "      <td>low</td>\n",
       "      <td>15-20 days</td>\n",
       "      <td>2-3</td>\n",
       "      <td>2-3</td>\n",
       "      <td>Moderate</td>\n",
       "      <td>Low</td>\n",
       "    </tr>\n",
       "    <tr>\n",
       "      <th>...</th>\n",
       "      <td>...</td>\n",
       "      <td>...</td>\n",
       "      <td>...</td>\n",
       "      <td>...</td>\n",
       "      <td>...</td>\n",
       "      <td>...</td>\n",
       "      <td>...</td>\n",
       "      <td>...</td>\n",
       "      <td>...</td>\n",
       "      <td>...</td>\n",
       "      <td>...</td>\n",
       "      <td>...</td>\n",
       "      <td>...</td>\n",
       "      <td>...</td>\n",
       "      <td>...</td>\n",
       "    </tr>\n",
       "    <tr>\n",
       "      <th>15782</th>\n",
       "      <td>14995</td>\n",
       "      <td>0.40</td>\n",
       "      <td>0.57</td>\n",
       "      <td>2</td>\n",
       "      <td>151</td>\n",
       "      <td>3</td>\n",
       "      <td>False</td>\n",
       "      <td>False</td>\n",
       "      <td>support</td>\n",
       "      <td>low</td>\n",
       "      <td>15-20 days</td>\n",
       "      <td>2-3</td>\n",
       "      <td>2-3</td>\n",
       "      <td>Moderate</td>\n",
       "      <td>Low</td>\n",
       "    </tr>\n",
       "    <tr>\n",
       "      <th>15783</th>\n",
       "      <td>14996</td>\n",
       "      <td>0.37</td>\n",
       "      <td>0.48</td>\n",
       "      <td>2</td>\n",
       "      <td>160</td>\n",
       "      <td>3</td>\n",
       "      <td>False</td>\n",
       "      <td>False</td>\n",
       "      <td>support</td>\n",
       "      <td>low</td>\n",
       "      <td>15-20 days</td>\n",
       "      <td>2-3</td>\n",
       "      <td>2-3</td>\n",
       "      <td>Moderate</td>\n",
       "      <td>Low</td>\n",
       "    </tr>\n",
       "    <tr>\n",
       "      <th>15784</th>\n",
       "      <td>14997</td>\n",
       "      <td>0.37</td>\n",
       "      <td>0.53</td>\n",
       "      <td>2</td>\n",
       "      <td>143</td>\n",
       "      <td>3</td>\n",
       "      <td>False</td>\n",
       "      <td>False</td>\n",
       "      <td>support</td>\n",
       "      <td>low</td>\n",
       "      <td>15-20 days</td>\n",
       "      <td>2-3</td>\n",
       "      <td>2-3</td>\n",
       "      <td>Moderate</td>\n",
       "      <td>Low</td>\n",
       "    </tr>\n",
       "    <tr>\n",
       "      <th>15785</th>\n",
       "      <td>14998</td>\n",
       "      <td>0.11</td>\n",
       "      <td>0.96</td>\n",
       "      <td>6</td>\n",
       "      <td>280</td>\n",
       "      <td>4</td>\n",
       "      <td>False</td>\n",
       "      <td>False</td>\n",
       "      <td>support</td>\n",
       "      <td>low</td>\n",
       "      <td>&gt; 30+ days</td>\n",
       "      <td>6+</td>\n",
       "      <td>4-5</td>\n",
       "      <td>Very Good</td>\n",
       "      <td>Very Low</td>\n",
       "    </tr>\n",
       "    <tr>\n",
       "      <th>15786</th>\n",
       "      <td>14999</td>\n",
       "      <td>0.37</td>\n",
       "      <td>0.52</td>\n",
       "      <td>2</td>\n",
       "      <td>158</td>\n",
       "      <td>3</td>\n",
       "      <td>False</td>\n",
       "      <td>False</td>\n",
       "      <td>support</td>\n",
       "      <td>low</td>\n",
       "      <td>15-20 days</td>\n",
       "      <td>2-3</td>\n",
       "      <td>2-3</td>\n",
       "      <td>Moderate</td>\n",
       "      <td>Low</td>\n",
       "    </tr>\n",
       "  </tbody>\n",
       "</table>\n",
       "<p>14999 rows × 15 columns</p>\n",
       "</div>"
      ],
      "text/plain": [
       "      Emp ID  satisfaction_level  last_evaluation  number_project  \\\n",
       "0          1                0.38             0.53               2   \n",
       "1          2                0.80             0.86               5   \n",
       "2          3                0.11             0.88               7   \n",
       "3          4                0.72             0.87               5   \n",
       "4          5                0.37             0.52               2   \n",
       "...      ...                 ...              ...             ...   \n",
       "15782  14995                0.40             0.57               2   \n",
       "15783  14996                0.37             0.48               2   \n",
       "15784  14997                0.37             0.53               2   \n",
       "15785  14998                0.11             0.96               6   \n",
       "15786  14999                0.37             0.52               2   \n",
       "\n",
       "       average_montly_hours  time_spend_company  Work_accident  \\\n",
       "0                       157                   3          False   \n",
       "1                       262                   6          False   \n",
       "2                       272                   4          False   \n",
       "3                       223                   5          False   \n",
       "4                       159                   3          False   \n",
       "...                     ...                 ...            ...   \n",
       "15782                   151                   3          False   \n",
       "15783                   160                   3          False   \n",
       "15784                   143                   3          False   \n",
       "15785                   280                   4          False   \n",
       "15786                   158                   3          False   \n",
       "\n",
       "       promotion_last_5years     dept  salary average_monthly_work_days  \\\n",
       "0                      False    sales     low                15-20 days   \n",
       "1                      False    sales  medium                > 30+ days   \n",
       "2                      False    sales  medium                > 30+ days   \n",
       "3                      False    sales     low                25-30 days   \n",
       "4                      False    sales     low                15-20 days   \n",
       "...                      ...      ...     ...                       ...   \n",
       "15782                  False  support     low                15-20 days   \n",
       "15783                  False  support     low                15-20 days   \n",
       "15784                  False  support     low                15-20 days   \n",
       "15785                  False  support     low                > 30+ days   \n",
       "15786                  False  support     low                15-20 days   \n",
       "\n",
       "      projects years_in_company evaluation satisfaction  \n",
       "0          2-3              2-3   Moderate          Low  \n",
       "1          4-5              6-7  Very Good         High  \n",
       "2           6+              4-5  Very Good     Very Low  \n",
       "3          4-5              4-5  Very Good         High  \n",
       "4          2-3              2-3   Moderate          Low  \n",
       "...        ...              ...        ...          ...  \n",
       "15782      2-3              2-3   Moderate          Low  \n",
       "15783      2-3              2-3   Moderate          Low  \n",
       "15784      2-3              2-3   Moderate          Low  \n",
       "15785       6+              4-5  Very Good     Very Low  \n",
       "15786      2-3              2-3   Moderate          Low  \n",
       "\n",
       "[14999 rows x 15 columns]"
      ]
     },
     "execution_count": 20,
     "metadata": {},
     "output_type": "execute_result"
    }
   ],
   "source": [
    "data"
   ]
  },
  {
   "cell_type": "code",
   "execution_count": 21,
   "id": "895ab654-89d8-4e48-8770-46d13a1a7528",
   "metadata": {},
   "outputs": [],
   "source": [
    "clean_df = data.drop(columns=['satisfaction_level', 'last_evaluation','number_project', 'average_montly_hours', 'time_spend_company'])"
   ]
  },
  {
   "cell_type": "code",
   "execution_count": 22,
   "id": "d6fbf1c2-c0b6-4364-b995-18921e22ba14",
   "metadata": {},
   "outputs": [],
   "source": [
    "clean_df.set_index('Emp ID', inplace=True)"
   ]
  },
  {
   "cell_type": "code",
   "execution_count": 23,
   "id": "7d877361-bef3-490c-9876-1a5843220f4b",
   "metadata": {},
   "outputs": [
    {
     "data": {
      "text/html": [
       "<div>\n",
       "<style scoped>\n",
       "    .dataframe tbody tr th:only-of-type {\n",
       "        vertical-align: middle;\n",
       "    }\n",
       "\n",
       "    .dataframe tbody tr th {\n",
       "        vertical-align: top;\n",
       "    }\n",
       "\n",
       "    .dataframe thead th {\n",
       "        text-align: right;\n",
       "    }\n",
       "</style>\n",
       "<table border=\"1\" class=\"dataframe\">\n",
       "  <thead>\n",
       "    <tr style=\"text-align: right;\">\n",
       "      <th></th>\n",
       "      <th>Work_accident</th>\n",
       "      <th>promotion_last_5years</th>\n",
       "      <th>dept</th>\n",
       "      <th>salary</th>\n",
       "      <th>average_monthly_work_days</th>\n",
       "      <th>projects</th>\n",
       "      <th>years_in_company</th>\n",
       "      <th>evaluation</th>\n",
       "      <th>satisfaction</th>\n",
       "    </tr>\n",
       "    <tr>\n",
       "      <th>Emp ID</th>\n",
       "      <th></th>\n",
       "      <th></th>\n",
       "      <th></th>\n",
       "      <th></th>\n",
       "      <th></th>\n",
       "      <th></th>\n",
       "      <th></th>\n",
       "      <th></th>\n",
       "      <th></th>\n",
       "    </tr>\n",
       "  </thead>\n",
       "  <tbody>\n",
       "    <tr>\n",
       "      <th>1</th>\n",
       "      <td>False</td>\n",
       "      <td>False</td>\n",
       "      <td>sales</td>\n",
       "      <td>low</td>\n",
       "      <td>15-20 days</td>\n",
       "      <td>2-3</td>\n",
       "      <td>2-3</td>\n",
       "      <td>Moderate</td>\n",
       "      <td>Low</td>\n",
       "    </tr>\n",
       "    <tr>\n",
       "      <th>2</th>\n",
       "      <td>False</td>\n",
       "      <td>False</td>\n",
       "      <td>sales</td>\n",
       "      <td>medium</td>\n",
       "      <td>&gt; 30+ days</td>\n",
       "      <td>4-5</td>\n",
       "      <td>6-7</td>\n",
       "      <td>Very Good</td>\n",
       "      <td>High</td>\n",
       "    </tr>\n",
       "    <tr>\n",
       "      <th>3</th>\n",
       "      <td>False</td>\n",
       "      <td>False</td>\n",
       "      <td>sales</td>\n",
       "      <td>medium</td>\n",
       "      <td>&gt; 30+ days</td>\n",
       "      <td>6+</td>\n",
       "      <td>4-5</td>\n",
       "      <td>Very Good</td>\n",
       "      <td>Very Low</td>\n",
       "    </tr>\n",
       "    <tr>\n",
       "      <th>4</th>\n",
       "      <td>False</td>\n",
       "      <td>False</td>\n",
       "      <td>sales</td>\n",
       "      <td>low</td>\n",
       "      <td>25-30 days</td>\n",
       "      <td>4-5</td>\n",
       "      <td>4-5</td>\n",
       "      <td>Very Good</td>\n",
       "      <td>High</td>\n",
       "    </tr>\n",
       "    <tr>\n",
       "      <th>5</th>\n",
       "      <td>False</td>\n",
       "      <td>False</td>\n",
       "      <td>sales</td>\n",
       "      <td>low</td>\n",
       "      <td>15-20 days</td>\n",
       "      <td>2-3</td>\n",
       "      <td>2-3</td>\n",
       "      <td>Moderate</td>\n",
       "      <td>Low</td>\n",
       "    </tr>\n",
       "    <tr>\n",
       "      <th>...</th>\n",
       "      <td>...</td>\n",
       "      <td>...</td>\n",
       "      <td>...</td>\n",
       "      <td>...</td>\n",
       "      <td>...</td>\n",
       "      <td>...</td>\n",
       "      <td>...</td>\n",
       "      <td>...</td>\n",
       "      <td>...</td>\n",
       "    </tr>\n",
       "    <tr>\n",
       "      <th>14995</th>\n",
       "      <td>False</td>\n",
       "      <td>False</td>\n",
       "      <td>support</td>\n",
       "      <td>low</td>\n",
       "      <td>15-20 days</td>\n",
       "      <td>2-3</td>\n",
       "      <td>2-3</td>\n",
       "      <td>Moderate</td>\n",
       "      <td>Low</td>\n",
       "    </tr>\n",
       "    <tr>\n",
       "      <th>14996</th>\n",
       "      <td>False</td>\n",
       "      <td>False</td>\n",
       "      <td>support</td>\n",
       "      <td>low</td>\n",
       "      <td>15-20 days</td>\n",
       "      <td>2-3</td>\n",
       "      <td>2-3</td>\n",
       "      <td>Moderate</td>\n",
       "      <td>Low</td>\n",
       "    </tr>\n",
       "    <tr>\n",
       "      <th>14997</th>\n",
       "      <td>False</td>\n",
       "      <td>False</td>\n",
       "      <td>support</td>\n",
       "      <td>low</td>\n",
       "      <td>15-20 days</td>\n",
       "      <td>2-3</td>\n",
       "      <td>2-3</td>\n",
       "      <td>Moderate</td>\n",
       "      <td>Low</td>\n",
       "    </tr>\n",
       "    <tr>\n",
       "      <th>14998</th>\n",
       "      <td>False</td>\n",
       "      <td>False</td>\n",
       "      <td>support</td>\n",
       "      <td>low</td>\n",
       "      <td>&gt; 30+ days</td>\n",
       "      <td>6+</td>\n",
       "      <td>4-5</td>\n",
       "      <td>Very Good</td>\n",
       "      <td>Very Low</td>\n",
       "    </tr>\n",
       "    <tr>\n",
       "      <th>14999</th>\n",
       "      <td>False</td>\n",
       "      <td>False</td>\n",
       "      <td>support</td>\n",
       "      <td>low</td>\n",
       "      <td>15-20 days</td>\n",
       "      <td>2-3</td>\n",
       "      <td>2-3</td>\n",
       "      <td>Moderate</td>\n",
       "      <td>Low</td>\n",
       "    </tr>\n",
       "  </tbody>\n",
       "</table>\n",
       "<p>14999 rows × 9 columns</p>\n",
       "</div>"
      ],
      "text/plain": [
       "        Work_accident  promotion_last_5years     dept  salary  \\\n",
       "Emp ID                                                          \n",
       "1               False                  False    sales     low   \n",
       "2               False                  False    sales  medium   \n",
       "3               False                  False    sales  medium   \n",
       "4               False                  False    sales     low   \n",
       "5               False                  False    sales     low   \n",
       "...               ...                    ...      ...     ...   \n",
       "14995           False                  False  support     low   \n",
       "14996           False                  False  support     low   \n",
       "14997           False                  False  support     low   \n",
       "14998           False                  False  support     low   \n",
       "14999           False                  False  support     low   \n",
       "\n",
       "       average_monthly_work_days projects years_in_company evaluation  \\\n",
       "Emp ID                                                                  \n",
       "1                     15-20 days      2-3              2-3   Moderate   \n",
       "2                     > 30+ days      4-5              6-7  Very Good   \n",
       "3                     > 30+ days       6+              4-5  Very Good   \n",
       "4                     25-30 days      4-5              4-5  Very Good   \n",
       "5                     15-20 days      2-3              2-3   Moderate   \n",
       "...                          ...      ...              ...        ...   \n",
       "14995                 15-20 days      2-3              2-3   Moderate   \n",
       "14996                 15-20 days      2-3              2-3   Moderate   \n",
       "14997                 15-20 days      2-3              2-3   Moderate   \n",
       "14998                 > 30+ days       6+              4-5  Very Good   \n",
       "14999                 15-20 days      2-3              2-3   Moderate   \n",
       "\n",
       "       satisfaction  \n",
       "Emp ID               \n",
       "1               Low  \n",
       "2              High  \n",
       "3          Very Low  \n",
       "4              High  \n",
       "5               Low  \n",
       "...             ...  \n",
       "14995           Low  \n",
       "14996           Low  \n",
       "14997           Low  \n",
       "14998      Very Low  \n",
       "14999           Low  \n",
       "\n",
       "[14999 rows x 9 columns]"
      ]
     },
     "execution_count": 23,
     "metadata": {},
     "output_type": "execute_result"
    }
   ],
   "source": [
    "clean_df"
   ]
  },
  {
   "cell_type": "markdown",
   "id": "9f0c0642-b855-486a-a4c7-4b6c3dce21fa",
   "metadata": {},
   "source": [
    "## Using Kendall's Tau\n",
    "Now that we have cleaned our data and have prepared the ordinal variables, let's move on to checking the relationships between the variables. Before we streamline the process, we will get into a few examples, and build it up from there. Let's test if salary and satisfaction are related in some way.\n",
    "\n",
    "$h_0: r=0$\n",
    "\n",
    "$h_1: r\\neq0$\n",
    "\n",
    "If r=0, then both distributions are independent, therefore there is no linear relationship between the 2.\n",
    "\n",
    "To use Kendall's Tau, we will be using the `kendalltau` method from stats. Now a few things to notice. We will not go deep into theory, one important thing is that salary has 3 unique values, while satisfaction has 5. To correctly use Kendall Tau, we are going to specify the variant parameter to c. In other cases, where the 2 variables have equal amount of unique values, we'll be using the Kendall Tau b variant."
   ]
  },
  {
   "cell_type": "code",
   "execution_count": 24,
   "id": "b6c01910-f676-446b-8764-717023a8445c",
   "metadata": {},
   "outputs": [],
   "source": [
    "salary = clean_df.loc[:, 'salary']\n",
    "satisfaction = clean_df.loc[:, 'satisfaction']\n",
    "\n",
    "res = stats.kendalltau(salary, satisfaction, variant='c')"
   ]
  },
  {
   "cell_type": "markdown",
   "id": "908b13a4-b22f-4783-a59d-dedd79039218",
   "metadata": {},
   "source": [
    "We have a SignificanceResult object in our hands, which allows us access to the correlation score and the pvalue of the test."
   ]
  },
  {
   "cell_type": "code",
   "execution_count": 25,
   "id": "6df661ae-03f8-4874-a0d0-01e4f5af2867",
   "metadata": {},
   "outputs": [
    {
     "name": "stdout",
     "output_type": "stream",
     "text": [
      "correlation: 0.0014079210498825576, p-value: 0.8429319347438202\n"
     ]
    }
   ],
   "source": [
    "print(f'correlation: {res.correlation}, p-value: {res.pvalue}')"
   ]
  },
  {
   "cell_type": "markdown",
   "id": "2938276c-2eb0-492b-87bd-2d40624e6f0d",
   "metadata": {},
   "source": [
    "Since p-value (0.84) > 0.05, the correlation is not statistically significant, therefore $h_0$ is true, meaning that these variables are independent."
   ]
  },
  {
   "cell_type": "markdown",
   "id": "832d9f48-5291-4763-92fa-a2c43c52a4e5",
   "metadata": {},
   "source": [
    "For the next one, let's test average monthly work days with satisfaction, again apply the same hypotheses. This time both variables have 5 unique values, so we'll be using the b variant."
   ]
  },
  {
   "cell_type": "code",
   "execution_count": 26,
   "id": "965f6d5d-e560-4ab7-aa0c-246855bbefc4",
   "metadata": {},
   "outputs": [],
   "source": [
    "work_days = clean_df.loc[:, 'average_monthly_work_days']\n",
    "\n",
    "res = stats.kendalltau(work_days, satisfaction, variant='b')"
   ]
  },
  {
   "cell_type": "code",
   "execution_count": 27,
   "id": "21dc3cfa-d1f6-45d6-9a49-e17f1b17fac3",
   "metadata": {},
   "outputs": [
    {
     "name": "stdout",
     "output_type": "stream",
     "text": [
      "correlation: 0.13956022368790735, p-value: 3.558699052516668e-96\n"
     ]
    }
   ],
   "source": [
    "print(f'correlation: {res.correlation}, p-value: {res.pvalue}')"
   ]
  },
  {
   "cell_type": "markdown",
   "id": "943e7ac2-bab4-4c5e-b8c1-6590b51eb30f",
   "metadata": {},
   "source": [
    "In this case, we can see that there is a correlation of 0.139, a weak positive correlation, and the p-value is way lower than 0.05, which means that the result is statistically significant and $h_0$ is false, and we accept $h_1$ with r=0.139. To interpret this, we can say that employees who work for more days (8 hours per day) per month, tend to have slightly more satisfaction."
   ]
  },
  {
   "cell_type": "markdown",
   "id": "2365250c-1a86-485a-b5b1-010db6aadd34",
   "metadata": {},
   "source": [
    "How can we improve this process? We surely don't want to write each time the same lines of code. In this case, let's define a function to make things easier."
   ]
  },
  {
   "cell_type": "code",
   "execution_count": 28,
   "id": "4ae8fd3a-665f-4a25-84e1-6eff0118a0f9",
   "metadata": {},
   "outputs": [],
   "source": [
    "def calculate_kendall_tau(x, y):\n",
    "    len_x = len(x.unique())\n",
    "    len_y = len(y.unique())\n",
    "    variant = 'b' if len_x == len_y else 'c'\n",
    "    return stats.kendalltau(x, y, variant=variant)"
   ]
  },
  {
   "cell_type": "code",
   "execution_count": 29,
   "id": "9f4a0b7d-35f8-42b8-bfc8-53880068b5ac",
   "metadata": {},
   "outputs": [],
   "source": [
    "def kendall_tau(var1, var2, dataset):\n",
    "    x = dataset.loc[:, var1]\n",
    "    y = dataset.loc[:, var2]\n",
    "    res = calculate_kendall_tau(x, y)\n",
    "    print(f'correlation: {res.correlation}, p-value: {res.pvalue}')"
   ]
  },
  {
   "cell_type": "code",
   "execution_count": 30,
   "id": "2914ba69-8515-4e72-a63a-9102a24a0851",
   "metadata": {},
   "outputs": [
    {
     "name": "stdout",
     "output_type": "stream",
     "text": [
      "correlation: 0.13956022368790735, p-value: 3.558699052516668e-96\n"
     ]
    }
   ],
   "source": [
    "kendall_tau('average_monthly_work_days', 'satisfaction', clean_df)"
   ]
  },
  {
   "cell_type": "markdown",
   "id": "be4f5513-4b9c-4307-b194-e19d61f95ef3",
   "metadata": {},
   "source": [
    "To make this more efficient, let's create a list with all of our ordinal variables and create a loop."
   ]
  },
  {
   "cell_type": "code",
   "execution_count": 31,
   "id": "f7bfd6ae-6d35-4c84-bb67-deeef0ce97b2",
   "metadata": {},
   "outputs": [],
   "source": [
    "ordinal_variables = ['salary', 'average_monthly_work_days', 'projects', 'years_in_company', 'evaluation', 'satisfaction']"
   ]
  },
  {
   "cell_type": "code",
   "execution_count": 32,
   "id": "94c1e39d-9e21-4c65-a617-0bdf0f4aa4da",
   "metadata": {},
   "outputs": [
    {
     "name": "stdout",
     "output_type": "stream",
     "text": [
      "************** Variable Correlation **************\n",
      "salary --- average_monthly_work_days\n",
      "correlation: 0.001236604875153999 -- p-value: 0.8616972422581863\n",
      "\n",
      "salary --- projects\n",
      "correlation: 0.0023003372953817112 -- p-value: 0.763478522501347\n",
      "\n",
      "salary --- years_in_company\n",
      "correlation: 0.009268942484469297 -- p-value: 0.13326123676807472\n",
      "\n",
      "salary --- evaluation\n",
      "correlation: 0.006367195597781057 -- p-value: 0.3571245279954359\n",
      "\n",
      "salary --- satisfaction\n",
      "correlation: 0.0014079210498825576 -- p-value: 0.8429319347438202\n",
      "\n",
      "average_monthly_work_days --- projects\n",
      "correlation: 0.2997098533150649 -- p-value: 0.0\n",
      "\n",
      "average_monthly_work_days --- years_in_company\n",
      "correlation: 0.19532346448271562 -- p-value: 1.1259900167751982e-237\n",
      "\n",
      "average_monthly_work_days --- evaluation\n",
      "correlation: 0.11316520374643195 -- p-value: 4.934061109442667e-65\n",
      "\n",
      "average_monthly_work_days --- satisfaction\n",
      "correlation: 0.13956022368790735 -- p-value: 3.558699052516668e-96\n",
      "\n",
      "projects --- years_in_company\n",
      "correlation: 0.23703685719412876 -- p-value: 0.0\n",
      "\n",
      "projects --- evaluation\n",
      "correlation: 0.12011190772053204 -- p-value: 6.780824008370954e-67\n",
      "\n",
      "projects --- satisfaction\n",
      "correlation: 0.2071162412449827 -- p-value: 7.894062326729116e-185\n",
      "\n",
      "years_in_company --- evaluation\n",
      "correlation: 0.1454958699125305 -- p-value: 1.0708317990444802e-85\n",
      "\n",
      "years_in_company --- satisfaction\n",
      "correlation: 0.13710462074748653 -- p-value: 6.6864488320589584e-118\n",
      "\n",
      "evaluation --- satisfaction\n",
      "correlation: 0.07385371053686991 -- p-value: 1.2195464019934515e-28\n",
      "\n"
     ]
    }
   ],
   "source": [
    "print(' Variable Correlation '.center(50, '*'))\n",
    "for pos1, var1 in enumerate(ordinal_variables):\n",
    "    for pos2, var2 in enumerate(ordinal_variables):\n",
    "        if pos1 < pos2:  # match each variable only once with one another\n",
    "            x = clean_df.loc[:, var1]\n",
    "            y = clean_df.loc[:, var2]\n",
    "            res = calculate_kendall_tau(x, y)\n",
    "            print(f'{var1} --- {var2}')\n",
    "            print(f'correlation: {res.correlation} -- p-value: {res.pvalue}')\n",
    "            print()"
   ]
  },
  {
   "cell_type": "markdown",
   "id": "c7c8a645-5961-4ffa-ad35-cae023e475ee",
   "metadata": {},
   "source": [
    "Now we have really made our lives easier. Instead of doing analysis one by one, we used a loop to quickly conduct some tests. But still we can make it better in terms of control and depth of analysis. Let's create a Class to encapsulate all the important information."
   ]
  },
  {
   "cell_type": "code",
   "execution_count": 33,
   "id": "35417e14-920d-4c93-80ef-4fd7e81671c3",
   "metadata": {},
   "outputs": [],
   "source": [
    "class AnalyticalObject:\n",
    "    def __init__(self, x_values, x_name, y_values, y_name):\n",
    "        self.__data = pd.DataFrame({'__serial_number': np.arange(len(x_values)), x_name: x_values, y_name: y_values})\n",
    "        self.__x_name = x_name\n",
    "        self.__y_name = y_name\n",
    "        self.corr = np.nan\n",
    "        self.p_value = np.nan\n",
    "        \n",
    "    def __getitem__(self, key):\n",
    "        return self.__data.loc[:, key]\n",
    "    \n",
    "    def kendall_tau(self):\n",
    "        res = calculate_kendall_tau(self[self.__x_name], self[self.__y_name])\n",
    "        self.corr = res.correlation\n",
    "        self.p_value = res.pvalue\n",
    "        \n",
    "    def __str__(self):\n",
    "        return f'AnalyticalObject({self.__x_name}, {self.__y_name}, corr: {self.corr}, p-value: {self.p_value})'\n",
    "    \n",
    "    def __repr__(self):\n",
    "        return str(self)\n",
    "    \n",
    "    @property\n",
    "    def table(self):\n",
    "        return self.__data.pivot_table(values='__serial_number', index=self.__x_name, columns=self.__y_name, aggfunc='count')"
   ]
  },
  {
   "cell_type": "markdown",
   "id": "cc38a5cc-1774-4a2e-b89a-4ec37009e493",
   "metadata": {},
   "source": [
    "That's a lot to handle at once. Let's break it down:\n",
    "* We create a Class named AnalyticalObject\n",
    "* The constructor (`__init__` method) accepts four parameters, the values of x (rows), the name of x, the values of y (columns), and the name of y\n",
    "* Inside the constructor, a DataFrame is created and stored into a private variable called `__data`. The DataFrame has 3 columns: a private serial number (to create the frequency tables), the values of x and the values of y. We also initialize correlation and p-value to np.nan.\n",
    "* We define the `__getitem__` method to allow us access our values using the column name and without accessing the private DataFrame.\n",
    "* We then define the Kendall Tau method, to test the independence of the variables, calculating the correlation and the p-value.\n",
    "* The next two methods are for the string conversion and the representation of each AnalyticalObject.\n",
    "* The last method is actually transformed into an attribute using the @property decorator, so we can access it without calling it as a method"
   ]
  },
  {
   "cell_type": "code",
   "execution_count": 34,
   "id": "da169d79-02e8-4fe9-8056-75d59b608d9e",
   "metadata": {},
   "outputs": [],
   "source": [
    "test = AnalyticalObject(clean_df.loc[:, 'average_monthly_work_days'], 'days_per_month', clean_df.loc[:, 'satisfaction'], 'satisfaction')"
   ]
  },
  {
   "cell_type": "code",
   "execution_count": 35,
   "id": "a351f1de-c3dd-450b-9090-850463316cdc",
   "metadata": {},
   "outputs": [
    {
     "data": {
      "text/html": [
       "<div>\n",
       "<style scoped>\n",
       "    .dataframe tbody tr th:only-of-type {\n",
       "        vertical-align: middle;\n",
       "    }\n",
       "\n",
       "    .dataframe tbody tr th {\n",
       "        vertical-align: top;\n",
       "    }\n",
       "\n",
       "    .dataframe thead th {\n",
       "        text-align: right;\n",
       "    }\n",
       "</style>\n",
       "<table border=\"1\" class=\"dataframe\">\n",
       "  <thead>\n",
       "    <tr style=\"text-align: right;\">\n",
       "      <th>satisfaction</th>\n",
       "      <th>Very Low</th>\n",
       "      <th>Low</th>\n",
       "      <th>Moderate</th>\n",
       "      <th>High</th>\n",
       "      <th>Very High</th>\n",
       "    </tr>\n",
       "    <tr>\n",
       "      <th>days_per_month</th>\n",
       "      <th></th>\n",
       "      <th></th>\n",
       "      <th></th>\n",
       "      <th></th>\n",
       "      <th></th>\n",
       "    </tr>\n",
       "  </thead>\n",
       "  <tbody>\n",
       "    <tr>\n",
       "      <th>&lt; 15 days</th>\n",
       "      <td>28</td>\n",
       "      <td>99</td>\n",
       "      <td>118</td>\n",
       "      <td>94</td>\n",
       "      <td>60</td>\n",
       "    </tr>\n",
       "    <tr>\n",
       "      <th>15-20 days</th>\n",
       "      <td>101</td>\n",
       "      <td>958</td>\n",
       "      <td>1362</td>\n",
       "      <td>816</td>\n",
       "      <td>704</td>\n",
       "    </tr>\n",
       "    <tr>\n",
       "      <th>20-25 days</th>\n",
       "      <td>153</td>\n",
       "      <td>244</td>\n",
       "      <td>817</td>\n",
       "      <td>1039</td>\n",
       "      <td>931</td>\n",
       "    </tr>\n",
       "    <tr>\n",
       "      <th>25-30 days</th>\n",
       "      <td>158</td>\n",
       "      <td>171</td>\n",
       "      <td>662</td>\n",
       "      <td>1157</td>\n",
       "      <td>1119</td>\n",
       "    </tr>\n",
       "    <tr>\n",
       "      <th>&gt; 30+ days</th>\n",
       "      <td>1038</td>\n",
       "      <td>174</td>\n",
       "      <td>646</td>\n",
       "      <td>1162</td>\n",
       "      <td>1188</td>\n",
       "    </tr>\n",
       "  </tbody>\n",
       "</table>\n",
       "</div>"
      ],
      "text/plain": [
       "satisfaction    Very Low  Low  Moderate  High  Very High\n",
       "days_per_month                                          \n",
       "< 15 days             28   99       118    94         60\n",
       "15-20 days           101  958      1362   816        704\n",
       "20-25 days           153  244       817  1039        931\n",
       "25-30 days           158  171       662  1157       1119\n",
       "> 30+ days          1038  174       646  1162       1188"
      ]
     },
     "execution_count": 35,
     "metadata": {},
     "output_type": "execute_result"
    }
   ],
   "source": [
    "test.table"
   ]
  },
  {
   "cell_type": "code",
   "execution_count": 36,
   "id": "cfb3bdc7-d4de-466f-8cfd-bea64aee9b87",
   "metadata": {},
   "outputs": [],
   "source": [
    "test.kendall_tau()"
   ]
  },
  {
   "cell_type": "code",
   "execution_count": 37,
   "id": "72f6fe12-1d2f-49e5-834c-a300c865f8fc",
   "metadata": {},
   "outputs": [
    {
     "data": {
      "text/plain": [
       "AnalyticalObject(days_per_month, satisfaction, corr: 0.13956022368790735, p-value: 3.558699052516668e-96)"
      ]
     },
     "execution_count": 37,
     "metadata": {},
     "output_type": "execute_result"
    }
   ],
   "source": [
    "test"
   ]
  },
  {
   "cell_type": "markdown",
   "id": "663132c5-2254-4816-b3b5-8ac405cfb1a4",
   "metadata": {},
   "source": [
    "We can use this object to quickly gather information and analyze our variables. Let's now create a loop where we create all of these duples, and then filter out the ones that are not statistically significant."
   ]
  },
  {
   "cell_type": "code",
   "execution_count": 38,
   "id": "d6cf6b43-a75f-4db1-939a-c64257e6c632",
   "metadata": {},
   "outputs": [
    {
     "name": "stdout",
     "output_type": "stream",
     "text": [
      "AnalyticalObject(average_monthly_work_days, projects, corr: 0.2997098533150649, p-value: 0.0)\n",
      "AnalyticalObject(average_monthly_work_days, years_in_company, corr: 0.19532346448271562, p-value: 1.1259900167751982e-237)\n",
      "AnalyticalObject(average_monthly_work_days, evaluation, corr: 0.11316520374643195, p-value: 4.934061109442667e-65)\n",
      "AnalyticalObject(average_monthly_work_days, satisfaction, corr: 0.13956022368790735, p-value: 3.558699052516668e-96)\n",
      "AnalyticalObject(projects, years_in_company, corr: 0.23703685719412876, p-value: 0.0)\n",
      "AnalyticalObject(projects, evaluation, corr: 0.12011190772053204, p-value: 6.780824008370954e-67)\n",
      "AnalyticalObject(projects, satisfaction, corr: 0.2071162412449827, p-value: 7.894062326729116e-185)\n",
      "AnalyticalObject(years_in_company, evaluation, corr: 0.1454958699125305, p-value: 1.0708317990444802e-85)\n",
      "AnalyticalObject(years_in_company, satisfaction, corr: 0.13710462074748653, p-value: 6.6864488320589584e-118)\n",
      "AnalyticalObject(evaluation, satisfaction, corr: 0.07385371053686991, p-value: 1.2195464019934515e-28)\n"
     ]
    }
   ],
   "source": [
    "duples = []\n",
    "for pos1, var1 in enumerate(ordinal_variables):\n",
    "    for pos2, var2 in enumerate(ordinal_variables):\n",
    "        if pos1 < pos2:\n",
    "            x = clean_df.loc[:, var1]\n",
    "            y = clean_df.loc[:, var2]\n",
    "            duples.append(AnalyticalObject(x, var1, y, var2))\n",
    "            duples[-1].kendall_tau()\n",
    "\n",
    "statistically_significant = filter(lambda x: x.p_value < 0.05, duples)\n",
    "for val in statistically_significant:\n",
    "    print(val)"
   ]
  },
  {
   "cell_type": "markdown",
   "id": "ad1153f5-3639-4eb4-99ff-c0840ea0f892",
   "metadata": {},
   "source": [
    "## Using Spearman's Rho\n",
    "We can follow the same procedure with Spearman's Rho. We will immediately add it to the code, and define a method to use it."
   ]
  },
  {
   "cell_type": "code",
   "execution_count": 39,
   "id": "50848492-1916-41d3-aaa8-aef01a5b611b",
   "metadata": {},
   "outputs": [],
   "source": [
    "class AnalyticalObject:\n",
    "    def __init__(self, x_values, x_name, y_values, y_name):\n",
    "        self.__data = pd.DataFrame({'__serial_number': np.arange(len(x_values)), x_name: x_values, y_name: y_values})\n",
    "        self.__x_name = x_name\n",
    "        self.__y_name = y_name\n",
    "        self.corr = np.nan\n",
    "        self.p_value = np.nan\n",
    "        self.__test = None  # to know if we have used Kendall's Tau or Spearman's Rho\n",
    "        \n",
    "    def __getitem__(self, key):\n",
    "        return self.__data.loc[:, key]\n",
    "    \n",
    "    def kendall_tau(self):\n",
    "        res = calculate_kendall_tau(self[self.__x_name], self[self.__y_name])\n",
    "        self.corr = res.correlation\n",
    "        self.p_value = res.pvalue\n",
    "        self.__test = 'kendall_tau'\n",
    "        \n",
    "    def spearman_rho(self):\n",
    "        res = stats.spearmanr(self[self.__x_name], self[self.__y_name])\n",
    "        self.corr = res.correlation\n",
    "        self.p_value = res.pvalue\n",
    "        self.__test = 'spearman_rho'\n",
    "        \n",
    "    def __str__(self):\n",
    "        return f'AnalyticalObject({self.__x_name}, {self.__y_name}, corr: {self.corr}, p-value: {self.p_value}, ranking_coefficient: {self.__test})'\n",
    "    \n",
    "    def __repr__(self):\n",
    "        return str(self)\n",
    "    \n",
    "    @property\n",
    "    def table(self):\n",
    "        return self.__data.pivot_table(values='__serial_number', index=self.__x_name, columns=self.__y_name, aggfunc='count')"
   ]
  },
  {
   "cell_type": "code",
   "execution_count": 40,
   "id": "05ffcce9-6595-4cd0-ac33-eca4fc6b1062",
   "metadata": {},
   "outputs": [
    {
     "name": "stdout",
     "output_type": "stream",
     "text": [
      "AnalyticalObject(average_monthly_work_days, projects, corr: 0.33745337863446523, p-value: 0.0, ranking_coefficient: spearman_rho)\n",
      "AnalyticalObject(average_monthly_work_days, years_in_company, corr: 0.270433104791512, p-value: 1.1425854633467047e-249, ranking_coefficient: spearman_rho)\n",
      "AnalyticalObject(average_monthly_work_days, evaluation, corr: 0.1430617241590916, p-value: 2.063870330490066e-69, ranking_coefficient: spearman_rho)\n",
      "AnalyticalObject(average_monthly_work_days, satisfaction, corr: 0.16910992193200494, p-value: 1.2461757223581324e-96, ranking_coefficient: spearman_rho)\n",
      "AnalyticalObject(projects, years_in_company, corr: 0.31326712299384385, p-value: 0.0, ranking_coefficient: spearman_rho)\n",
      "AnalyticalObject(projects, evaluation, corr: 0.142422073476355, p-value: 8.388116389462097e-69, ranking_coefficient: spearman_rho)\n",
      "AnalyticalObject(projects, satisfaction, corr: 0.23417995836504873, p-value: 5.885130816059173e-186, ranking_coefficient: spearman_rho)\n",
      "AnalyticalObject(years_in_company, evaluation, corr: 0.15953527542751983, p-value: 4.494522265496043e-86, ranking_coefficient: spearman_rho)\n",
      "AnalyticalObject(years_in_company, satisfaction, corr: 0.18878672190583712, p-value: 2.2557594876199692e-120, ranking_coefficient: spearman_rho)\n",
      "AnalyticalObject(evaluation, satisfaction, corr: 0.09041107222735331, p-value: 1.3342743565496003e-28, ranking_coefficient: spearman_rho)\n"
     ]
    }
   ],
   "source": [
    "duples = []\n",
    "for pos1, var1 in enumerate(ordinal_variables):\n",
    "    for pos2, var2 in enumerate(ordinal_variables):\n",
    "        if pos1 < pos2:\n",
    "            x = clean_df.loc[:, var1]\n",
    "            y = clean_df.loc[:, var2]\n",
    "            duples.append(AnalyticalObject(x, var1, y, var2))\n",
    "            duples[-1].spearman_rho()\n",
    "\n",
    "statistically_significant = filter(lambda x: x.p_value < 0.05, duples)\n",
    "for val in statistically_significant:\n",
    "    print(val)"
   ]
  },
  {
   "cell_type": "markdown",
   "id": "87824e5e-7ab8-46b9-9d58-1bf571b3a108",
   "metadata": {},
   "source": [
    "If we check the results, it seems that Spearman's Rho gives better results than Kendall's Tau. That's the case because Spearman's Rho works better on larger samples than Kendall's Tau Correlation Coefficient."
   ]
  },
  {
   "cell_type": "markdown",
   "id": "f53d3b84-78fe-47af-86e4-8dfc8e3de17f",
   "metadata": {},
   "source": [
    "# Wrapping up\n",
    "This is the end of the tutorial. Again it wasn't meant as a statistical course, just a way of showing how to use code and statistics to make your life easier in regards to using Kendall's Tau and Spearman's Rho ranking coefficients. This code can be revamped, expanded or not used entirely. Just because I wrote code like this, it doesn't mean that it is the only one and correct way to do it, so feel free to experiment!"
   ]
  },
  {
   "cell_type": "code",
   "execution_count": null,
   "id": "78f37f99-e6ab-42f2-9aee-eaf735bfd2ae",
   "metadata": {},
   "outputs": [],
   "source": []
  }
 ],
 "metadata": {
  "kernelspec": {
   "display_name": "applied_ml_kernel",
   "language": "python",
   "name": "applied_ml_kernel"
  },
  "language_info": {
   "codemirror_mode": {
    "name": "ipython",
    "version": 3
   },
   "file_extension": ".py",
   "mimetype": "text/x-python",
   "name": "python",
   "nbconvert_exporter": "python",
   "pygments_lexer": "ipython3",
   "version": "3.11.5"
  }
 },
 "nbformat": 4,
 "nbformat_minor": 5
}
